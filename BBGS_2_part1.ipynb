{
  "nbformat": 4,
  "nbformat_minor": 0,
  "metadata": {
    "colab": {
      "name": "BBGS_2_part1.ipynb",
      "provenance": [],
      "collapsed_sections": [
        "IfKUquKhQ5Hx",
        "XHn3OSqAVmn7"
      ],
      "authorship_tag": "ABX9TyMa69tpTscu/wxLFmibhL6D",
      "include_colab_link": true
    },
    "kernelspec": {
      "name": "python3",
      "display_name": "Python 3"
    },
    "language_info": {
      "name": "python"
    }
  },
  "cells": [
    {
      "cell_type": "markdown",
      "metadata": {
        "id": "view-in-github",
        "colab_type": "text"
      },
      "source": [
        "<a href=\"https://colab.research.google.com/github/holdenkim/BBGS_2nd/blob/main/BBGS_2_part1.ipynb\" target=\"_parent\"><img src=\"https://colab.research.google.com/assets/colab-badge.svg\" alt=\"Open In Colab\"/></a>"
      ]
    },
    {
      "cell_type": "markdown",
      "metadata": {
        "id": "IfKUquKhQ5Hx"
      },
      "source": [
        "#기본문법"
      ]
    },
    {
      "cell_type": "code",
      "metadata": {
        "colab": {
          "base_uri": "https://localhost:8080/"
        },
        "id": "TwemVwOcL5kk",
        "outputId": "0ff0ac8c-4d0c-47f4-aecf-25eb1e13fea6"
      },
      "source": [
        "s = 'WiseInCompany'\n",
        "s1 = \"WiseInCompany\"\n",
        "s2 ='''WiseInCompany'''\n",
        "s3= \"123\"\n",
        "print(s)\n",
        "print(s1)\n",
        "print(s2)\n",
        "print(s3)\n"
      ],
      "execution_count": 1,
      "outputs": [
        {
          "output_type": "stream",
          "name": "stdout",
          "text": [
            "WiseInCompany\n",
            "WiseInCompany\n",
            "WiseInCompany\n",
            "123\n"
          ]
        }
      ]
    },
    {
      "cell_type": "code",
      "metadata": {
        "colab": {
          "base_uri": "https://localhost:8080/"
        },
        "id": "BZGmilf9MNiw",
        "outputId": "49c3e2e8-3950-49ce-a60d-345653431a2b"
      },
      "source": [
        "a = \"Wise\"\n",
        "b ='InCompany'\n",
        "print(a+b)\n",
        "print(a*2 + b*3)"
      ],
      "execution_count": 2,
      "outputs": [
        {
          "output_type": "stream",
          "name": "stdout",
          "text": [
            "WiseInCompany\n",
            "WiseWiseInCompanyInCompanyInCompany\n"
          ]
        }
      ]
    },
    {
      "cell_type": "code",
      "metadata": {
        "colab": {
          "base_uri": "https://localhost:8080/",
          "height": 35
        },
        "id": "--26Fp0fMaBw",
        "outputId": "16c8d7dd-8d6d-460a-91f2-d7a4dc5ee30e"
      },
      "source": [
        "a[1]"
      ],
      "execution_count": 4,
      "outputs": [
        {
          "output_type": "execute_result",
          "data": {
            "application/vnd.google.colaboratory.intrinsic+json": {
              "type": "string"
            },
            "text/plain": [
              "'i'"
            ]
          },
          "metadata": {},
          "execution_count": 4
        }
      ]
    },
    {
      "cell_type": "code",
      "metadata": {
        "colab": {
          "base_uri": "https://localhost:8080/",
          "height": 35
        },
        "id": "GCEOA7MXMf5V",
        "outputId": "c06ccef7-f05d-4be3-c652-2a7e29cac68b"
      },
      "source": [
        "a[2:4]"
      ],
      "execution_count": 7,
      "outputs": [
        {
          "output_type": "execute_result",
          "data": {
            "application/vnd.google.colaboratory.intrinsic+json": {
              "type": "string"
            },
            "text/plain": [
              "'se'"
            ]
          },
          "metadata": {},
          "execution_count": 7
        }
      ]
    },
    {
      "cell_type": "code",
      "metadata": {
        "colab": {
          "base_uri": "https://localhost:8080/"
        },
        "id": "z33_b59yMkPe",
        "outputId": "b85af756-0375-4bab-c80c-ff04abee4ecb"
      },
      "source": [
        "a = [ 1,2,3,4,5]\n",
        "print(a)\n",
        "type(a)"
      ],
      "execution_count": 10,
      "outputs": [
        {
          "output_type": "stream",
          "name": "stdout",
          "text": [
            "[1, 2, 3, 4, 5]\n"
          ]
        },
        {
          "output_type": "execute_result",
          "data": {
            "text/plain": [
              "list"
            ]
          },
          "metadata": {},
          "execution_count": 10
        }
      ]
    },
    {
      "cell_type": "code",
      "metadata": {
        "colab": {
          "base_uri": "https://localhost:8080/"
        },
        "id": "CiEw_pkcMqxE",
        "outputId": "532f2363-afef-4f37-8476-4f0ede5e7703"
      },
      "source": [
        "print(a[0])"
      ],
      "execution_count": 11,
      "outputs": [
        {
          "output_type": "stream",
          "name": "stdout",
          "text": [
            "1\n"
          ]
        }
      ]
    },
    {
      "cell_type": "code",
      "metadata": {
        "colab": {
          "base_uri": "https://localhost:8080/"
        },
        "id": "pWFNKyQxOAr9",
        "outputId": "e0dfb5db-9f21-42df-8bcf-19db74bdbb6a"
      },
      "source": [
        "print(a[1:3])"
      ],
      "execution_count": 12,
      "outputs": [
        {
          "output_type": "stream",
          "name": "stdout",
          "text": [
            "[2, 3]\n"
          ]
        }
      ]
    },
    {
      "cell_type": "code",
      "metadata": {
        "id": "C2a6U7opOFbu"
      },
      "source": [
        "a.append(6)"
      ],
      "execution_count": 13,
      "outputs": []
    },
    {
      "cell_type": "code",
      "metadata": {
        "colab": {
          "base_uri": "https://localhost:8080/"
        },
        "id": "1GgYEb5OOOg4",
        "outputId": "e8bc55dc-c0af-42c4-c5ce-23a0fd40d630"
      },
      "source": [
        "print(a)"
      ],
      "execution_count": 14,
      "outputs": [
        {
          "output_type": "stream",
          "name": "stdout",
          "text": [
            "[1, 2, 3, 4, 5, 6]\n"
          ]
        }
      ]
    },
    {
      "cell_type": "code",
      "metadata": {
        "id": "ZKgN7mvEOPyS"
      },
      "source": [
        "del a[1]"
      ],
      "execution_count": 15,
      "outputs": []
    },
    {
      "cell_type": "code",
      "metadata": {
        "colab": {
          "base_uri": "https://localhost:8080/"
        },
        "id": "DPw_5UjHOS1U",
        "outputId": "a467e3fb-3ca7-412d-8d54-69ccf55a414f"
      },
      "source": [
        "print(a)"
      ],
      "execution_count": 16,
      "outputs": [
        {
          "output_type": "stream",
          "name": "stdout",
          "text": [
            "[1, 3, 4, 5, 6]\n"
          ]
        }
      ]
    },
    {
      "cell_type": "code",
      "metadata": {
        "id": "oaUSl8UUOTpE"
      },
      "source": [
        "a = [1,2]\n",
        "b = [ 2,3,4]"
      ],
      "execution_count": 17,
      "outputs": []
    },
    {
      "cell_type": "code",
      "metadata": {
        "colab": {
          "base_uri": "https://localhost:8080/"
        },
        "id": "zco6xcaIOcmE",
        "outputId": "6703e580-8daa-46f5-d742-38396a4eb4ca"
      },
      "source": [
        "print(a+b)"
      ],
      "execution_count": 18,
      "outputs": [
        {
          "output_type": "stream",
          "name": "stdout",
          "text": [
            "[1, 2, 2, 3, 4]\n"
          ]
        }
      ]
    },
    {
      "cell_type": "code",
      "metadata": {
        "id": "euN3iuBAOeqe"
      },
      "source": [
        "t = (1,2,3,4,)"
      ],
      "execution_count": 19,
      "outputs": []
    },
    {
      "cell_type": "code",
      "metadata": {
        "colab": {
          "base_uri": "https://localhost:8080/"
        },
        "id": "WyS7EvlBPDKk",
        "outputId": "a23c96e6-926e-4be4-cc5a-1b5e9d70a5f6"
      },
      "source": [
        "print(t)"
      ],
      "execution_count": 20,
      "outputs": [
        {
          "output_type": "stream",
          "name": "stdout",
          "text": [
            "(1, 2, 3, 4)\n"
          ]
        }
      ]
    },
    {
      "cell_type": "code",
      "metadata": {
        "colab": {
          "base_uri": "https://localhost:8080/"
        },
        "id": "kyC5EhofPEIe",
        "outputId": "961ac0a3-13c0-4043-8a06-560acfde6e9a"
      },
      "source": [
        "a = (1,2)\n",
        "b = (3,4,5)\n",
        "c = a+b\n",
        "print(c)"
      ],
      "execution_count": 21,
      "outputs": [
        {
          "output_type": "stream",
          "name": "stdout",
          "text": [
            "(1, 2, 3, 4, 5)\n"
          ]
        }
      ]
    },
    {
      "cell_type": "code",
      "metadata": {
        "colab": {
          "base_uri": "https://localhost:8080/"
        },
        "id": "CXwGtQ0KPOK8",
        "outputId": "4e1786c5-70ed-44c3-cebf-d31502122e3b"
      },
      "source": [
        "d = a*3\n",
        "print(d)"
      ],
      "execution_count": 22,
      "outputs": [
        {
          "output_type": "stream",
          "name": "stdout",
          "text": [
            "(1, 2, 1, 2, 1, 2)\n"
          ]
        }
      ]
    },
    {
      "cell_type": "code",
      "metadata": {
        "id": "mkX1cgN_PQ6E"
      },
      "source": [
        "set = {1,2,3,3}"
      ],
      "execution_count": 23,
      "outputs": []
    },
    {
      "cell_type": "code",
      "metadata": {
        "colab": {
          "base_uri": "https://localhost:8080/"
        },
        "id": "dTtHFj5WPZDk",
        "outputId": "b7ac6e7e-23e1-4830-a37a-685320a4ebcb"
      },
      "source": [
        "print(set)"
      ],
      "execution_count": 24,
      "outputs": [
        {
          "output_type": "stream",
          "name": "stdout",
          "text": [
            "{1, 2, 3}\n"
          ]
        }
      ]
    },
    {
      "cell_type": "code",
      "metadata": {
        "id": "pzTC42BhPZ43"
      },
      "source": [
        "set.add(4)"
      ],
      "execution_count": 25,
      "outputs": []
    },
    {
      "cell_type": "code",
      "metadata": {
        "colab": {
          "base_uri": "https://localhost:8080/"
        },
        "id": "WEvXsSA1PsUL",
        "outputId": "db9fbcaf-6092-4b1d-8eb8-cb1fbd5a6226"
      },
      "source": [
        "print(set)"
      ],
      "execution_count": 26,
      "outputs": [
        {
          "output_type": "stream",
          "name": "stdout",
          "text": [
            "{1, 2, 3, 4}\n"
          ]
        }
      ]
    },
    {
      "cell_type": "code",
      "metadata": {
        "id": "gh1ESa7oPtNN"
      },
      "source": [
        "test = {\"a\":1, \"b\":2, \"Park\":75}"
      ],
      "execution_count": 27,
      "outputs": []
    },
    {
      "cell_type": "code",
      "metadata": {
        "colab": {
          "base_uri": "https://localhost:8080/"
        },
        "id": "kliabiYjQBIi",
        "outputId": "923a8987-8cf6-4b0d-e546-de1891aee9aa"
      },
      "source": [
        "test['Park']"
      ],
      "execution_count": 29,
      "outputs": [
        {
          "output_type": "execute_result",
          "data": {
            "text/plain": [
              "75"
            ]
          },
          "metadata": {},
          "execution_count": 29
        }
      ]
    },
    {
      "cell_type": "code",
      "metadata": {
        "colab": {
          "base_uri": "https://localhost:8080/"
        },
        "id": "3H_JWOqyQESI",
        "outputId": "185876e6-5bec-4e92-a7ad-8f7cdc815ce7"
      },
      "source": [
        "money = 401\n",
        "if money>500:\n",
        "  print(\"많다\")\n",
        "elif money>400:\n",
        "  print(\"보통\")\n",
        "else:\n",
        "  print(\"쬐금\")"
      ],
      "execution_count": 32,
      "outputs": [
        {
          "output_type": "stream",
          "name": "stdout",
          "text": [
            "보통\n"
          ]
        }
      ]
    },
    {
      "cell_type": "code",
      "metadata": {
        "colab": {
          "base_uri": "https://localhost:8080/"
        },
        "id": "YGtVjkRoQuCw",
        "outputId": "336e74f8-3cd8-406b-b460-aeb73473f11f"
      },
      "source": [
        "sum = 0\n",
        "for i in range(11):\n",
        "  sum = sum+i\n",
        "  print(sum)"
      ],
      "execution_count": 35,
      "outputs": [
        {
          "output_type": "stream",
          "name": "stdout",
          "text": [
            "0\n",
            "1\n",
            "3\n",
            "6\n",
            "10\n",
            "15\n",
            "21\n",
            "28\n",
            "36\n",
            "45\n",
            "55\n"
          ]
        }
      ]
    },
    {
      "cell_type": "code",
      "metadata": {
        "colab": {
          "base_uri": "https://localhost:8080/"
        },
        "id": "jyw8regzUogD",
        "outputId": "835a842e-e7f5-4a6f-ebae-8462c7f13b66"
      },
      "source": [
        "list =[\"a\", \"b\", \"C\"]\n",
        "for x in list:\n",
        "  print(x)"
      ],
      "execution_count": 36,
      "outputs": [
        {
          "output_type": "stream",
          "name": "stdout",
          "text": [
            "a\n",
            "b\n",
            "C\n"
          ]
        }
      ]
    },
    {
      "cell_type": "code",
      "metadata": {
        "colab": {
          "base_uri": "https://localhost:8080/"
        },
        "id": "izWI7_diU2Hu",
        "outputId": "53e6d268-3726-48b0-a06f-3a2438f77ef6"
      },
      "source": [
        "i=0\n",
        "while i<10:\n",
        "  print(i)\n",
        "  i=i+1"
      ],
      "execution_count": 37,
      "outputs": [
        {
          "output_type": "stream",
          "name": "stdout",
          "text": [
            "0\n",
            "1\n",
            "2\n",
            "3\n",
            "4\n",
            "5\n",
            "6\n",
            "7\n",
            "8\n",
            "9\n"
          ]
        }
      ]
    },
    {
      "cell_type": "code",
      "metadata": {
        "colab": {
          "base_uri": "https://localhost:8080/"
        },
        "id": "LhNoxPuTU9uh",
        "outputId": "cf77de7b-d6d5-47f8-8058-e818c399c981"
      },
      "source": [
        "food = [\"apple\", \"banna\", \"carot\"]\n",
        "i = 0\n",
        "while i< len(food):\n",
        "  print(food[i])\n",
        "  i=i+1"
      ],
      "execution_count": 38,
      "outputs": [
        {
          "output_type": "stream",
          "name": "stdout",
          "text": [
            "apple\n",
            "banna\n",
            "carot\n"
          ]
        }
      ]
    },
    {
      "cell_type": "markdown",
      "metadata": {
        "id": "XHn3OSqAVmn7"
      },
      "source": [
        "#넘파이함수"
      ]
    },
    {
      "cell_type": "code",
      "metadata": {
        "id": "YPxAOlKNViN9"
      },
      "source": [
        "import numpy as np\n",
        "v1 = np.array([1,2,3,4])"
      ],
      "execution_count": 39,
      "outputs": []
    },
    {
      "cell_type": "code",
      "metadata": {
        "colab": {
          "base_uri": "https://localhost:8080/"
        },
        "id": "bhunFqDVayT5",
        "outputId": "d277db98-c8a5-4df6-8f17-42afa3bbaa24"
      },
      "source": [
        "print(v1)"
      ],
      "execution_count": 40,
      "outputs": [
        {
          "output_type": "stream",
          "name": "stdout",
          "text": [
            "[1 2 3 4]\n"
          ]
        }
      ]
    },
    {
      "cell_type": "code",
      "metadata": {
        "colab": {
          "base_uri": "https://localhost:8080/"
        },
        "id": "bNgkbOVdazQ6",
        "outputId": "bc6462c0-9bc6-4458-f684-bd3f5b355ec4"
      },
      "source": [
        "type(v1)"
      ],
      "execution_count": 41,
      "outputs": [
        {
          "output_type": "execute_result",
          "data": {
            "text/plain": [
              "numpy.ndarray"
            ]
          },
          "metadata": {},
          "execution_count": 41
        }
      ]
    },
    {
      "cell_type": "code",
      "metadata": {
        "colab": {
          "base_uri": "https://localhost:8080/"
        },
        "id": "mR6yl5UXa0yH",
        "outputId": "efba8519-2369-43ce-ecd8-7e1f3debda37"
      },
      "source": [
        "v1 = np.arange(5)\n",
        "print(v1)"
      ],
      "execution_count": 42,
      "outputs": [
        {
          "output_type": "stream",
          "name": "stdout",
          "text": [
            "[0 1 2 3 4]\n"
          ]
        }
      ]
    },
    {
      "cell_type": "code",
      "metadata": {
        "colab": {
          "base_uri": "https://localhost:8080/"
        },
        "id": "dubMHzpla7ag",
        "outputId": "51c0bbe1-4ef2-4a79-cb48-e628a18811a4"
      },
      "source": [
        "v2=np.arange(1,10,2, dtype=int)\n",
        "print(v2)"
      ],
      "execution_count": 44,
      "outputs": [
        {
          "output_type": "stream",
          "name": "stdout",
          "text": [
            "[1 3 5 7 9]\n"
          ]
        }
      ]
    },
    {
      "cell_type": "code",
      "metadata": {
        "id": "0FO8Qg1Va_xe"
      },
      "source": [
        "v3 = np.arange(3.5, 10.5, 2, dtype=float)"
      ],
      "execution_count": 45,
      "outputs": []
    },
    {
      "cell_type": "code",
      "metadata": {
        "colab": {
          "base_uri": "https://localhost:8080/"
        },
        "id": "1DqKm-lEbIds",
        "outputId": "baf9b154-4d00-4ca8-b457-762fe327484d"
      },
      "source": [
        "print(v3)"
      ],
      "execution_count": 46,
      "outputs": [
        {
          "output_type": "stream",
          "name": "stdout",
          "text": [
            "[3.5 5.5 7.5 9.5]\n"
          ]
        }
      ]
    },
    {
      "cell_type": "code",
      "metadata": {
        "id": "nauXBs8vbJp1"
      },
      "source": [
        "v4 = np.arange(1,10,2)**2"
      ],
      "execution_count": 47,
      "outputs": []
    },
    {
      "cell_type": "code",
      "metadata": {
        "colab": {
          "base_uri": "https://localhost:8080/"
        },
        "id": "E8ubpEuSbO3o",
        "outputId": "50d036a9-9cbb-4908-af5f-bbcd567af8c9"
      },
      "source": [
        "print(v4)"
      ],
      "execution_count": 48,
      "outputs": [
        {
          "output_type": "stream",
          "name": "stdout",
          "text": [
            "[ 1  9 25 49 81]\n"
          ]
        }
      ]
    },
    {
      "cell_type": "code",
      "metadata": {
        "colab": {
          "base_uri": "https://localhost:8080/"
        },
        "id": "ro1YgDnRbPw8",
        "outputId": "c4dc1481-ee1a-49a2-c86d-22ee9b15d803"
      },
      "source": [
        "v1 = np.arange(12)\n",
        "print(v1)"
      ],
      "execution_count": 49,
      "outputs": [
        {
          "output_type": "stream",
          "name": "stdout",
          "text": [
            "[ 0  1  2  3  4  5  6  7  8  9 10 11]\n"
          ]
        }
      ]
    },
    {
      "cell_type": "code",
      "metadata": {
        "colab": {
          "base_uri": "https://localhost:8080/"
        },
        "id": "CTc6qiBgbXab",
        "outputId": "39de495c-df2a-4945-80c7-685d91cc09a2"
      },
      "source": [
        "v2= v1.reshape(4,3)\n",
        "print(v2)"
      ],
      "execution_count": 51,
      "outputs": [
        {
          "output_type": "stream",
          "name": "stdout",
          "text": [
            "[[ 0  1  2]\n",
            " [ 3  4  5]\n",
            " [ 6  7  8]\n",
            " [ 9 10 11]]\n"
          ]
        }
      ]
    },
    {
      "cell_type": "code",
      "metadata": {
        "colab": {
          "base_uri": "https://localhost:8080/"
        },
        "id": "S0PHWW_ibbd2",
        "outputId": "74be45f1-300e-4078-82f1-68ad106e0a7a"
      },
      "source": [
        "v3 = v1.reshape(2,6)\n",
        "print(v3)"
      ],
      "execution_count": 52,
      "outputs": [
        {
          "output_type": "stream",
          "name": "stdout",
          "text": [
            "[[ 0  1  2  3  4  5]\n",
            " [ 6  7  8  9 10 11]]\n"
          ]
        }
      ]
    },
    {
      "cell_type": "code",
      "metadata": {
        "colab": {
          "base_uri": "https://localhost:8080/"
        },
        "id": "q31QROHibmNt",
        "outputId": "bc206e67-59eb-4cc2-9ac7-6b053f31a238"
      },
      "source": [
        "v4 = v1.reshape(3,-1)\n",
        "print(v4)"
      ],
      "execution_count": 53,
      "outputs": [
        {
          "output_type": "stream",
          "name": "stdout",
          "text": [
            "[[ 0  1  2  3]\n",
            " [ 4  5  6  7]\n",
            " [ 8  9 10 11]]\n"
          ]
        }
      ]
    },
    {
      "cell_type": "code",
      "metadata": {
        "colab": {
          "base_uri": "https://localhost:8080/"
        },
        "id": "fb9vydgPbt8w",
        "outputId": "837430b8-605e-4ea4-a127-8fd67e89574f"
      },
      "source": [
        "v5 = v1.reshape(2,3,2, order='F')\n",
        "print(v5)"
      ],
      "execution_count": 56,
      "outputs": [
        {
          "output_type": "stream",
          "name": "stdout",
          "text": [
            "[[[ 0  6]\n",
            "  [ 2  8]\n",
            "  [ 4 10]]\n",
            "\n",
            " [[ 1  7]\n",
            "  [ 3  9]\n",
            "  [ 5 11]]]\n"
          ]
        }
      ]
    },
    {
      "cell_type": "markdown",
      "metadata": {
        "id": "7W0tPhZRcFqE"
      },
      "source": [
        "#판다스 함수"
      ]
    },
    {
      "cell_type": "code",
      "metadata": {
        "id": "Ze7Os2myb28w"
      },
      "source": [
        "import pandas as pd\n",
        "from pandas import Series, DataFrame"
      ],
      "execution_count": 57,
      "outputs": []
    },
    {
      "cell_type": "code",
      "metadata": {
        "id": "G_WfMgPtfoqZ"
      },
      "source": [
        "a = Series([1,2,3,4])"
      ],
      "execution_count": 58,
      "outputs": []
    },
    {
      "cell_type": "code",
      "metadata": {
        "colab": {
          "base_uri": "https://localhost:8080/"
        },
        "id": "wjIajy4JftMH",
        "outputId": "e8088c39-3b33-43db-fa47-cd3d38fabe6c"
      },
      "source": [
        "print(a)"
      ],
      "execution_count": 59,
      "outputs": [
        {
          "output_type": "stream",
          "name": "stdout",
          "text": [
            "0    1\n",
            "1    2\n",
            "2    3\n",
            "3    4\n",
            "dtype: int64\n"
          ]
        }
      ]
    },
    {
      "cell_type": "code",
      "metadata": {
        "colab": {
          "base_uri": "https://localhost:8080/"
        },
        "id": "u78DRgcqfuIZ",
        "outputId": "c70ecced-754a-401f-c2af-14420af109d0"
      },
      "source": [
        "print(a.values)"
      ],
      "execution_count": 60,
      "outputs": [
        {
          "output_type": "stream",
          "name": "stdout",
          "text": [
            "[1 2 3 4]\n"
          ]
        }
      ]
    },
    {
      "cell_type": "code",
      "metadata": {
        "colab": {
          "base_uri": "https://localhost:8080/"
        },
        "id": "-inlxu4sfweJ",
        "outputId": "3825204c-4a44-4fa1-e604-9504dfc26df2"
      },
      "source": [
        "print(a.index)"
      ],
      "execution_count": 61,
      "outputs": [
        {
          "output_type": "stream",
          "name": "stdout",
          "text": [
            "RangeIndex(start=0, stop=4, step=1)\n"
          ]
        }
      ]
    },
    {
      "cell_type": "code",
      "metadata": {
        "id": "UGqFP_TIfyNK"
      },
      "source": [
        "a2 = pd.Series([1,3,4,7], index=['a','b','c','d'])"
      ],
      "execution_count": 62,
      "outputs": []
    },
    {
      "cell_type": "code",
      "metadata": {
        "colab": {
          "base_uri": "https://localhost:8080/"
        },
        "id": "RlPPJirdf69n",
        "outputId": "13bde258-85c1-4863-f595-482465bc57df"
      },
      "source": [
        "print(a2)"
      ],
      "execution_count": 63,
      "outputs": [
        {
          "output_type": "stream",
          "name": "stdout",
          "text": [
            "a    1\n",
            "b    3\n",
            "c    4\n",
            "d    7\n",
            "dtype: int64\n"
          ]
        }
      ]
    },
    {
      "cell_type": "code",
      "metadata": {
        "id": "veNr2VI6f8Rc"
      },
      "source": [
        ""
      ],
      "execution_count": null,
      "outputs": []
    }
  ]
}