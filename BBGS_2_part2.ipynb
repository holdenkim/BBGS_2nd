{
  "nbformat": 4,
  "nbformat_minor": 0,
  "metadata": {
    "colab": {
      "name": "BBGS_2_part2.ipynb",
      "provenance": [],
      "collapsed_sections": [
        "xv7IMzz4WoZ1",
        "LGzBGfePWhlk",
        "cl-fqHhFajDF",
        "dg-rU-2add2N"
      ],
      "authorship_tag": "ABX9TyOOePA6tnPTR0WVvzf5CR3O",
      "include_colab_link": true
    },
    "kernelspec": {
      "name": "python3",
      "display_name": "Python 3"
    },
    "language_info": {
      "name": "python"
    }
  },
  "cells": [
    {
      "cell_type": "markdown",
      "metadata": {
        "id": "view-in-github",
        "colab_type": "text"
      },
      "source": [
        "<a href=\"https://colab.research.google.com/github/holdenkim/BBGS_2nd/blob/main/BBGS_2_part2.ipynb\" target=\"_parent\"><img src=\"https://colab.research.google.com/assets/colab-badge.svg\" alt=\"Open In Colab\"/></a>"
      ]
    },
    {
      "cell_type": "markdown",
      "metadata": {
        "id": "uN7spWE-8nIx"
      },
      "source": [
        "#단변량데이터탐색"
      ]
    },
    {
      "cell_type": "code",
      "metadata": {
        "id": "NZ5d_U1a2FZ2"
      },
      "source": [
        "import pandas as pd\n",
        "data = pd.read_csv('Ex_CEOSalary.csv')"
      ],
      "execution_count": 48,
      "outputs": []
    },
    {
      "cell_type": "code",
      "metadata": {
        "colab": {
          "base_uri": "https://localhost:8080/"
        },
        "id": "0zryIjMu68kq",
        "outputId": "9ea9ab20-3636-41cb-80cc-62c18a4dba8e"
      },
      "source": [
        "data.info()"
      ],
      "execution_count": 49,
      "outputs": [
        {
          "output_type": "stream",
          "name": "stdout",
          "text": [
            "<class 'pandas.core.frame.DataFrame'>\n",
            "RangeIndex: 209 entries, 0 to 208\n",
            "Data columns (total 4 columns):\n",
            " #   Column    Non-Null Count  Dtype  \n",
            "---  ------    --------------  -----  \n",
            " 0   salary    209 non-null    int64  \n",
            " 1   sales     209 non-null    float64\n",
            " 2   roe       209 non-null    float64\n",
            " 3   industry  209 non-null    int64  \n",
            "dtypes: float64(2), int64(2)\n",
            "memory usage: 6.7 KB\n"
          ]
        }
      ]
    },
    {
      "cell_type": "code",
      "metadata": {
        "colab": {
          "base_uri": "https://localhost:8080/",
          "height": 203
        },
        "id": "oUASnR4x697u",
        "outputId": "a76d3d8a-5826-4b77-aceb-16e3a92bd9b3"
      },
      "source": [
        "data.head()"
      ],
      "execution_count": 50,
      "outputs": [
        {
          "output_type": "execute_result",
          "data": {
            "text/html": [
              "<div>\n",
              "<style scoped>\n",
              "    .dataframe tbody tr th:only-of-type {\n",
              "        vertical-align: middle;\n",
              "    }\n",
              "\n",
              "    .dataframe tbody tr th {\n",
              "        vertical-align: top;\n",
              "    }\n",
              "\n",
              "    .dataframe thead th {\n",
              "        text-align: right;\n",
              "    }\n",
              "</style>\n",
              "<table border=\"1\" class=\"dataframe\">\n",
              "  <thead>\n",
              "    <tr style=\"text-align: right;\">\n",
              "      <th></th>\n",
              "      <th>salary</th>\n",
              "      <th>sales</th>\n",
              "      <th>roe</th>\n",
              "      <th>industry</th>\n",
              "    </tr>\n",
              "  </thead>\n",
              "  <tbody>\n",
              "    <tr>\n",
              "      <th>0</th>\n",
              "      <td>1095</td>\n",
              "      <td>27595.000000</td>\n",
              "      <td>14.1</td>\n",
              "      <td>1</td>\n",
              "    </tr>\n",
              "    <tr>\n",
              "      <th>1</th>\n",
              "      <td>1001</td>\n",
              "      <td>9958.000000</td>\n",
              "      <td>10.9</td>\n",
              "      <td>1</td>\n",
              "    </tr>\n",
              "    <tr>\n",
              "      <th>2</th>\n",
              "      <td>1122</td>\n",
              "      <td>6125.899902</td>\n",
              "      <td>23.5</td>\n",
              "      <td>1</td>\n",
              "    </tr>\n",
              "    <tr>\n",
              "      <th>3</th>\n",
              "      <td>578</td>\n",
              "      <td>16246.000000</td>\n",
              "      <td>5.9</td>\n",
              "      <td>1</td>\n",
              "    </tr>\n",
              "    <tr>\n",
              "      <th>4</th>\n",
              "      <td>1368</td>\n",
              "      <td>21783.199219</td>\n",
              "      <td>13.8</td>\n",
              "      <td>1</td>\n",
              "    </tr>\n",
              "  </tbody>\n",
              "</table>\n",
              "</div>"
            ],
            "text/plain": [
              "   salary         sales   roe  industry\n",
              "0    1095  27595.000000  14.1         1\n",
              "1    1001   9958.000000  10.9         1\n",
              "2    1122   6125.899902  23.5         1\n",
              "3     578  16246.000000   5.9         1\n",
              "4    1368  21783.199219  13.8         1"
            ]
          },
          "metadata": {},
          "execution_count": 50
        }
      ]
    },
    {
      "cell_type": "code",
      "metadata": {
        "colab": {
          "base_uri": "https://localhost:8080/"
        },
        "id": "sDs69tKD7ATB",
        "outputId": "904a3133-f931-4ec5-9b3f-781298c41c62"
      },
      "source": [
        "data['industry'].value_counts()"
      ],
      "execution_count": 51,
      "outputs": [
        {
          "output_type": "execute_result",
          "data": {
            "text/plain": [
              "1    72\n",
              "3    60\n",
              "2    46\n",
              "4    31\n",
              "Name: industry, dtype: int64"
            ]
          },
          "metadata": {},
          "execution_count": 51
        }
      ]
    },
    {
      "cell_type": "code",
      "metadata": {
        "id": "EDSmDYdH7MKg"
      },
      "source": [
        "Ind_repl = {\"industry\":{1:\"Service\", 2:\"Finance\", 3:\"IT\", 4:\"Others\"}}"
      ],
      "execution_count": 52,
      "outputs": []
    },
    {
      "cell_type": "code",
      "metadata": {
        "id": "8W7hiU667ima"
      },
      "source": [
        "data_ind = data.replace(Ind_repl)"
      ],
      "execution_count": 53,
      "outputs": []
    },
    {
      "cell_type": "code",
      "metadata": {
        "colab": {
          "base_uri": "https://localhost:8080/",
          "height": 203
        },
        "id": "kCM667jV7n2z",
        "outputId": "81d82d03-7713-466f-e559-a7f249478150"
      },
      "source": [
        "data_ind.head()"
      ],
      "execution_count": 54,
      "outputs": [
        {
          "output_type": "execute_result",
          "data": {
            "text/html": [
              "<div>\n",
              "<style scoped>\n",
              "    .dataframe tbody tr th:only-of-type {\n",
              "        vertical-align: middle;\n",
              "    }\n",
              "\n",
              "    .dataframe tbody tr th {\n",
              "        vertical-align: top;\n",
              "    }\n",
              "\n",
              "    .dataframe thead th {\n",
              "        text-align: right;\n",
              "    }\n",
              "</style>\n",
              "<table border=\"1\" class=\"dataframe\">\n",
              "  <thead>\n",
              "    <tr style=\"text-align: right;\">\n",
              "      <th></th>\n",
              "      <th>salary</th>\n",
              "      <th>sales</th>\n",
              "      <th>roe</th>\n",
              "      <th>industry</th>\n",
              "    </tr>\n",
              "  </thead>\n",
              "  <tbody>\n",
              "    <tr>\n",
              "      <th>0</th>\n",
              "      <td>1095</td>\n",
              "      <td>27595.000000</td>\n",
              "      <td>14.1</td>\n",
              "      <td>Service</td>\n",
              "    </tr>\n",
              "    <tr>\n",
              "      <th>1</th>\n",
              "      <td>1001</td>\n",
              "      <td>9958.000000</td>\n",
              "      <td>10.9</td>\n",
              "      <td>Service</td>\n",
              "    </tr>\n",
              "    <tr>\n",
              "      <th>2</th>\n",
              "      <td>1122</td>\n",
              "      <td>6125.899902</td>\n",
              "      <td>23.5</td>\n",
              "      <td>Service</td>\n",
              "    </tr>\n",
              "    <tr>\n",
              "      <th>3</th>\n",
              "      <td>578</td>\n",
              "      <td>16246.000000</td>\n",
              "      <td>5.9</td>\n",
              "      <td>Service</td>\n",
              "    </tr>\n",
              "    <tr>\n",
              "      <th>4</th>\n",
              "      <td>1368</td>\n",
              "      <td>21783.199219</td>\n",
              "      <td>13.8</td>\n",
              "      <td>Service</td>\n",
              "    </tr>\n",
              "  </tbody>\n",
              "</table>\n",
              "</div>"
            ],
            "text/plain": [
              "   salary         sales   roe industry\n",
              "0    1095  27595.000000  14.1  Service\n",
              "1    1001   9958.000000  10.9  Service\n",
              "2    1122   6125.899902  23.5  Service\n",
              "3     578  16246.000000   5.9  Service\n",
              "4    1368  21783.199219  13.8  Service"
            ]
          },
          "metadata": {},
          "execution_count": 54
        }
      ]
    },
    {
      "cell_type": "code",
      "metadata": {
        "id": "Ai9TJYzW7sFh"
      },
      "source": [
        "data[\"industry\"] = data[\"industry\"].replace([1,2,3,4],[\"Service\",\"Finance\", \"IT\", \"Others\"])"
      ],
      "execution_count": 55,
      "outputs": []
    },
    {
      "cell_type": "code",
      "metadata": {
        "colab": {
          "base_uri": "https://localhost:8080/",
          "height": 203
        },
        "id": "MkMnKtz2701K",
        "outputId": "cc75b147-ac92-4def-884f-adb88a0d9256"
      },
      "source": [
        "data.head()"
      ],
      "execution_count": 56,
      "outputs": [
        {
          "output_type": "execute_result",
          "data": {
            "text/html": [
              "<div>\n",
              "<style scoped>\n",
              "    .dataframe tbody tr th:only-of-type {\n",
              "        vertical-align: middle;\n",
              "    }\n",
              "\n",
              "    .dataframe tbody tr th {\n",
              "        vertical-align: top;\n",
              "    }\n",
              "\n",
              "    .dataframe thead th {\n",
              "        text-align: right;\n",
              "    }\n",
              "</style>\n",
              "<table border=\"1\" class=\"dataframe\">\n",
              "  <thead>\n",
              "    <tr style=\"text-align: right;\">\n",
              "      <th></th>\n",
              "      <th>salary</th>\n",
              "      <th>sales</th>\n",
              "      <th>roe</th>\n",
              "      <th>industry</th>\n",
              "    </tr>\n",
              "  </thead>\n",
              "  <tbody>\n",
              "    <tr>\n",
              "      <th>0</th>\n",
              "      <td>1095</td>\n",
              "      <td>27595.000000</td>\n",
              "      <td>14.1</td>\n",
              "      <td>Service</td>\n",
              "    </tr>\n",
              "    <tr>\n",
              "      <th>1</th>\n",
              "      <td>1001</td>\n",
              "      <td>9958.000000</td>\n",
              "      <td>10.9</td>\n",
              "      <td>Service</td>\n",
              "    </tr>\n",
              "    <tr>\n",
              "      <th>2</th>\n",
              "      <td>1122</td>\n",
              "      <td>6125.899902</td>\n",
              "      <td>23.5</td>\n",
              "      <td>Service</td>\n",
              "    </tr>\n",
              "    <tr>\n",
              "      <th>3</th>\n",
              "      <td>578</td>\n",
              "      <td>16246.000000</td>\n",
              "      <td>5.9</td>\n",
              "      <td>Service</td>\n",
              "    </tr>\n",
              "    <tr>\n",
              "      <th>4</th>\n",
              "      <td>1368</td>\n",
              "      <td>21783.199219</td>\n",
              "      <td>13.8</td>\n",
              "      <td>Service</td>\n",
              "    </tr>\n",
              "  </tbody>\n",
              "</table>\n",
              "</div>"
            ],
            "text/plain": [
              "   salary         sales   roe industry\n",
              "0    1095  27595.000000  14.1  Service\n",
              "1    1001   9958.000000  10.9  Service\n",
              "2    1122   6125.899902  23.5  Service\n",
              "3     578  16246.000000   5.9  Service\n",
              "4    1368  21783.199219  13.8  Service"
            ]
          },
          "metadata": {},
          "execution_count": 56
        }
      ]
    },
    {
      "cell_type": "code",
      "metadata": {
        "colab": {
          "base_uri": "https://localhost:8080/",
          "height": 266
        },
        "id": "94rijLE58BDx",
        "outputId": "5f091e9a-4236-4449-aa64-0fe62031fdaf"
      },
      "source": [
        "%matplotlib inline\n",
        "data['industry'].value_counts().plot(kind='pie')"
      ],
      "execution_count": 57,
      "outputs": [
        {
          "output_type": "execute_result",
          "data": {
            "text/plain": [
              "<matplotlib.axes._subplots.AxesSubplot at 0x7f041bb2e710>"
            ]
          },
          "metadata": {},
          "execution_count": 57
        },
        {
          "output_type": "display_data",
          "data": {
            "image/png": "[encoded data removed]",
            "text/plain": [
              "<Figure size 432x288 with 1 Axes>"
            ]
          },
          "metadata": {}
        }
      ]
    },
    {
      "cell_type": "code",
      "metadata": {
        "colab": {
          "base_uri": "https://localhost:8080/",
          "height": 312
        },
        "id": "i8hlnryZ8Rxt",
        "outputId": "385987df-9810-42b4-a988-5bd36e89e478"
      },
      "source": [
        "%matplotlib inline\n",
        "data['industry'].value_counts().plot(kind='bar')"
      ],
      "execution_count": 58,
      "outputs": [
        {
          "output_type": "execute_result",
          "data": {
            "text/plain": [
              "<matplotlib.axes._subplots.AxesSubplot at 0x7f041b742a50>"
            ]
          },
          "metadata": {},
          "execution_count": 58
        },
        {
          "output_type": "display_data",
          "data": {
            "image/png": "[encoded data removed]",
            "text/plain": [
              "<Figure size 432x288 with 1 Axes>"
            ]
          },
          "metadata": {
            "needs_background": "light"
          }
        }
      ]
    },
    {
      "cell_type": "code",
      "metadata": {
        "id": "VmGY_blS8dGJ",
        "colab": {
          "base_uri": "https://localhost:8080/",
          "height": 295
        },
        "outputId": "86d0c923-e8ac-42dc-f0b0-b64597ba15c6"
      },
      "source": [
        "data.describe()"
      ],
      "execution_count": 59,
      "outputs": [
        {
          "output_type": "execute_result",
          "data": {
            "text/html": [
              "<div>\n",
              "<style scoped>\n",
              "    .dataframe tbody tr th:only-of-type {\n",
              "        vertical-align: middle;\n",
              "    }\n",
              "\n",
              "    .dataframe tbody tr th {\n",
              "        vertical-align: top;\n",
              "    }\n",
              "\n",
              "    .dataframe thead th {\n",
              "        text-align: right;\n",
              "    }\n",
              "</style>\n",
              "<table border=\"1\" class=\"dataframe\">\n",
              "  <thead>\n",
              "    <tr style=\"text-align: right;\">\n",
              "      <th></th>\n",
              "      <th>salary</th>\n",
              "      <th>sales</th>\n",
              "      <th>roe</th>\n",
              "    </tr>\n",
              "  </thead>\n",
              "  <tbody>\n",
              "    <tr>\n",
              "      <th>count</th>\n",
              "      <td>209.000000</td>\n",
              "      <td>209.000000</td>\n",
              "      <td>209.000000</td>\n",
              "    </tr>\n",
              "    <tr>\n",
              "      <th>mean</th>\n",
              "      <td>1281.119617</td>\n",
              "      <td>6923.793282</td>\n",
              "      <td>17.184211</td>\n",
              "    </tr>\n",
              "    <tr>\n",
              "      <th>std</th>\n",
              "      <td>1372.345308</td>\n",
              "      <td>10633.271088</td>\n",
              "      <td>8.518509</td>\n",
              "    </tr>\n",
              "    <tr>\n",
              "      <th>min</th>\n",
              "      <td>223.000000</td>\n",
              "      <td>175.199997</td>\n",
              "      <td>0.500000</td>\n",
              "    </tr>\n",
              "    <tr>\n",
              "      <th>25%</th>\n",
              "      <td>736.000000</td>\n",
              "      <td>2210.300049</td>\n",
              "      <td>12.400000</td>\n",
              "    </tr>\n",
              "    <tr>\n",
              "      <th>50%</th>\n",
              "      <td>1039.000000</td>\n",
              "      <td>3705.199951</td>\n",
              "      <td>15.500000</td>\n",
              "    </tr>\n",
              "    <tr>\n",
              "      <th>75%</th>\n",
              "      <td>1407.000000</td>\n",
              "      <td>7177.000000</td>\n",
              "      <td>20.000000</td>\n",
              "    </tr>\n",
              "    <tr>\n",
              "      <th>max</th>\n",
              "      <td>14822.000000</td>\n",
              "      <td>97649.898438</td>\n",
              "      <td>56.299999</td>\n",
              "    </tr>\n",
              "  </tbody>\n",
              "</table>\n",
              "</div>"
            ],
            "text/plain": [
              "             salary         sales         roe\n",
              "count    209.000000    209.000000  209.000000\n",
              "mean    1281.119617   6923.793282   17.184211\n",
              "std     1372.345308  10633.271088    8.518509\n",
              "min      223.000000    175.199997    0.500000\n",
              "25%      736.000000   2210.300049   12.400000\n",
              "50%     1039.000000   3705.199951   15.500000\n",
              "75%     1407.000000   7177.000000   20.000000\n",
              "max    14822.000000  97649.898438   56.299999"
            ]
          },
          "metadata": {},
          "execution_count": 59
        }
      ]
    },
    {
      "cell_type": "code",
      "metadata": {
        "id": "ktrFlVM2D44-"
      },
      "source": [
        "#중위수와 평균값 차이 확인 하여 이상치 여부 확인"
      ],
      "execution_count": 60,
      "outputs": []
    },
    {
      "cell_type": "code",
      "metadata": {
        "colab": {
          "base_uri": "https://localhost:8080/"
        },
        "id": "CwJAtj6kEKkO",
        "outputId": "d1eacdb2-f6f8-47e6-e99b-899288dc67df"
      },
      "source": [
        "type(data.describe())"
      ],
      "execution_count": 61,
      "outputs": [
        {
          "output_type": "execute_result",
          "data": {
            "text/plain": [
              "pandas.core.frame.DataFrame"
            ]
          },
          "metadata": {},
          "execution_count": 61
        }
      ]
    },
    {
      "cell_type": "code",
      "metadata": {
        "colab": {
          "base_uri": "https://localhost:8080/",
          "height": 295
        },
        "id": "YUJM2a1GEgNJ",
        "outputId": "025c5ffc-5974-42b8-9161-9c247f442fb4"
      },
      "source": [
        "data.describe()"
      ],
      "execution_count": 62,
      "outputs": [
        {
          "output_type": "execute_result",
          "data": {
            "text/html": [
              "<div>\n",
              "<style scoped>\n",
              "    .dataframe tbody tr th:only-of-type {\n",
              "        vertical-align: middle;\n",
              "    }\n",
              "\n",
              "    .dataframe tbody tr th {\n",
              "        vertical-align: top;\n",
              "    }\n",
              "\n",
              "    .dataframe thead th {\n",
              "        text-align: right;\n",
              "    }\n",
              "</style>\n",
              "<table border=\"1\" class=\"dataframe\">\n",
              "  <thead>\n",
              "    <tr style=\"text-align: right;\">\n",
              "      <th></th>\n",
              "      <th>salary</th>\n",
              "      <th>sales</th>\n",
              "      <th>roe</th>\n",
              "    </tr>\n",
              "  </thead>\n",
              "  <tbody>\n",
              "    <tr>\n",
              "      <th>count</th>\n",
              "      <td>209.000000</td>\n",
              "      <td>209.000000</td>\n",
              "      <td>209.000000</td>\n",
              "    </tr>\n",
              "    <tr>\n",
              "      <th>mean</th>\n",
              "      <td>1281.119617</td>\n",
              "      <td>6923.793282</td>\n",
              "      <td>17.184211</td>\n",
              "    </tr>\n",
              "    <tr>\n",
              "      <th>std</th>\n",
              "      <td>1372.345308</td>\n",
              "      <td>10633.271088</td>\n",
              "      <td>8.518509</td>\n",
              "    </tr>\n",
              "    <tr>\n",
              "      <th>min</th>\n",
              "      <td>223.000000</td>\n",
              "      <td>175.199997</td>\n",
              "      <td>0.500000</td>\n",
              "    </tr>\n",
              "    <tr>\n",
              "      <th>25%</th>\n",
              "      <td>736.000000</td>\n",
              "      <td>2210.300049</td>\n",
              "      <td>12.400000</td>\n",
              "    </tr>\n",
              "    <tr>\n",
              "      <th>50%</th>\n",
              "      <td>1039.000000</td>\n",
              "      <td>3705.199951</td>\n",
              "      <td>15.500000</td>\n",
              "    </tr>\n",
              "    <tr>\n",
              "      <th>75%</th>\n",
              "      <td>1407.000000</td>\n",
              "      <td>7177.000000</td>\n",
              "      <td>20.000000</td>\n",
              "    </tr>\n",
              "    <tr>\n",
              "      <th>max</th>\n",
              "      <td>14822.000000</td>\n",
              "      <td>97649.898438</td>\n",
              "      <td>56.299999</td>\n",
              "    </tr>\n",
              "  </tbody>\n",
              "</table>\n",
              "</div>"
            ],
            "text/plain": [
              "             salary         sales         roe\n",
              "count    209.000000    209.000000  209.000000\n",
              "mean    1281.119617   6923.793282   17.184211\n",
              "std     1372.345308  10633.271088    8.518509\n",
              "min      223.000000    175.199997    0.500000\n",
              "25%      736.000000   2210.300049   12.400000\n",
              "50%     1039.000000   3705.199951   15.500000\n",
              "75%     1407.000000   7177.000000   20.000000\n",
              "max    14822.000000  97649.898438   56.299999"
            ]
          },
          "metadata": {},
          "execution_count": 62
        }
      ]
    },
    {
      "cell_type": "code",
      "metadata": {
        "colab": {
          "base_uri": "https://localhost:8080/"
        },
        "id": "5bh-JSVTE8r1",
        "outputId": "584e2cc3-463e-4eec-f926-0696111f3a93"
      },
      "source": [
        "for i in data.describe().columns:\n",
        "  x= (data.describe().at['mean',i] - data.describe().at['50%',i])/data.describe().at['mean',i]\n",
        "  print(i, x)"
      ],
      "execution_count": 63,
      "outputs": [
        {
          "output_type": "stream",
          "name": "stdout",
          "text": [
            "salary 0.18899064066269783\n",
            "sales 0.46485982465244685\n",
            "roe 0.09800918725366825\n"
          ]
        }
      ]
    },
    {
      "cell_type": "code",
      "metadata": {
        "colab": {
          "base_uri": "https://localhost:8080/"
        },
        "id": "McEffpTlGWBo",
        "outputId": "ed0bdc10-be66-448a-c494-30fff7ee604b"
      },
      "source": [
        "data.skew()"
      ],
      "execution_count": 64,
      "outputs": [
        {
          "output_type": "execute_result",
          "data": {
            "text/plain": [
              "salary    6.904577\n",
              "sales     5.035336\n",
              "roe       1.572126\n",
              "dtype: float64"
            ]
          },
          "metadata": {},
          "execution_count": 64
        }
      ]
    },
    {
      "cell_type": "code",
      "metadata": {
        "colab": {
          "base_uri": "https://localhost:8080/"
        },
        "id": "ErIn3TVkG41D",
        "outputId": "2433f056-8db9-4d11-cff5-b383c3e743e2"
      },
      "source": [
        "data.kurtosis()"
      ],
      "execution_count": 65,
      "outputs": [
        {
          "output_type": "execute_result",
          "data": {
            "text/plain": [
              "salary    58.971229\n",
              "sales     33.115193\n",
              "roe        3.797366\n",
              "dtype: float64"
            ]
          },
          "metadata": {},
          "execution_count": 65
        }
      ]
    },
    {
      "cell_type": "code",
      "metadata": {
        "colab": {
          "base_uri": "https://localhost:8080/",
          "height": 934
        },
        "id": "yqPWbQ_VG6HX",
        "outputId": "5f3fdb83-37d1-4607-9a8d-b421673e22a1"
      },
      "source": [
        "import matplotlib.pyplot as plt\n",
        "data.hist(bins=50, figsize=(20,15))"
      ],
      "execution_count": 66,
      "outputs": [
        {
          "output_type": "execute_result",
          "data": {
            "text/plain": [
              "array([[<matplotlib.axes._subplots.AxesSubplot object at 0x7f041bb63c90>,\n",
              "        <matplotlib.axes._subplots.AxesSubplot object at 0x7f041b1ab510>],\n",
              "       [<matplotlib.axes._subplots.AxesSubplot object at 0x7f041aaa8990>,\n",
              "        <matplotlib.axes._subplots.AxesSubplot object at 0x7f041aa5cfd0>]],\n",
              "      dtype=object)"
            ]
          },
          "metadata": {},
          "execution_count": 66
        },
        {
          "output_type": "display_data",
          "data": {
            "image/png": "[encoded data removed]",
            "text/plain": [
              "<Figure size 1440x1080 with 4 Axes>"
            ]
          },
          "metadata": {
            "needs_background": "light"
          }
        }
      ]
    },
    {
      "cell_type": "markdown",
      "metadata": {
        "id": "xv7IMzz4WoZ1"
      },
      "source": [
        "#이변량데이터탐색"
      ]
    },
    {
      "cell_type": "code",
      "metadata": {
        "colab": {
          "base_uri": "https://localhost:8080/",
          "height": 142
        },
        "id": "NVNit6GtHMjj",
        "outputId": "347a2e2f-5f83-4ede-ce32-2c206b60945e"
      },
      "source": [
        "data.corr()"
      ],
      "execution_count": 67,
      "outputs": [
        {
          "output_type": "execute_result",
          "data": {
            "text/html": [
              "<div>\n",
              "<style scoped>\n",
              "    .dataframe tbody tr th:only-of-type {\n",
              "        vertical-align: middle;\n",
              "    }\n",
              "\n",
              "    .dataframe tbody tr th {\n",
              "        vertical-align: top;\n",
              "    }\n",
              "\n",
              "    .dataframe thead th {\n",
              "        text-align: right;\n",
              "    }\n",
              "</style>\n",
              "<table border=\"1\" class=\"dataframe\">\n",
              "  <thead>\n",
              "    <tr style=\"text-align: right;\">\n",
              "      <th></th>\n",
              "      <th>salary</th>\n",
              "      <th>sales</th>\n",
              "      <th>roe</th>\n",
              "    </tr>\n",
              "  </thead>\n",
              "  <tbody>\n",
              "    <tr>\n",
              "      <th>salary</th>\n",
              "      <td>1.000000</td>\n",
              "      <td>0.119869</td>\n",
              "      <td>0.114842</td>\n",
              "    </tr>\n",
              "    <tr>\n",
              "      <th>sales</th>\n",
              "      <td>0.119869</td>\n",
              "      <td>1.000000</td>\n",
              "      <td>-0.055386</td>\n",
              "    </tr>\n",
              "    <tr>\n",
              "      <th>roe</th>\n",
              "      <td>0.114842</td>\n",
              "      <td>-0.055386</td>\n",
              "      <td>1.000000</td>\n",
              "    </tr>\n",
              "  </tbody>\n",
              "</table>\n",
              "</div>"
            ],
            "text/plain": [
              "          salary     sales       roe\n",
              "salary  1.000000  0.119869  0.114842\n",
              "sales   0.119869  1.000000 -0.055386\n",
              "roe     0.114842 -0.055386  1.000000"
            ]
          },
          "metadata": {},
          "execution_count": 67
        }
      ]
    },
    {
      "cell_type": "code",
      "metadata": {
        "colab": {
          "base_uri": "https://localhost:8080/",
          "height": 142
        },
        "id": "EDA47ENBS_Sd",
        "outputId": "5627bde9-11c9-4a20-f3c6-5211bda0404a"
      },
      "source": [
        "data.corr('pearson')"
      ],
      "execution_count": 68,
      "outputs": [
        {
          "output_type": "execute_result",
          "data": {
            "text/html": [
              "<div>\n",
              "<style scoped>\n",
              "    .dataframe tbody tr th:only-of-type {\n",
              "        vertical-align: middle;\n",
              "    }\n",
              "\n",
              "    .dataframe tbody tr th {\n",
              "        vertical-align: top;\n",
              "    }\n",
              "\n",
              "    .dataframe thead th {\n",
              "        text-align: right;\n",
              "    }\n",
              "</style>\n",
              "<table border=\"1\" class=\"dataframe\">\n",
              "  <thead>\n",
              "    <tr style=\"text-align: right;\">\n",
              "      <th></th>\n",
              "      <th>salary</th>\n",
              "      <th>sales</th>\n",
              "      <th>roe</th>\n",
              "    </tr>\n",
              "  </thead>\n",
              "  <tbody>\n",
              "    <tr>\n",
              "      <th>salary</th>\n",
              "      <td>1.000000</td>\n",
              "      <td>0.119869</td>\n",
              "      <td>0.114842</td>\n",
              "    </tr>\n",
              "    <tr>\n",
              "      <th>sales</th>\n",
              "      <td>0.119869</td>\n",
              "      <td>1.000000</td>\n",
              "      <td>-0.055386</td>\n",
              "    </tr>\n",
              "    <tr>\n",
              "      <th>roe</th>\n",
              "      <td>0.114842</td>\n",
              "      <td>-0.055386</td>\n",
              "      <td>1.000000</td>\n",
              "    </tr>\n",
              "  </tbody>\n",
              "</table>\n",
              "</div>"
            ],
            "text/plain": [
              "          salary     sales       roe\n",
              "salary  1.000000  0.119869  0.114842\n",
              "sales   0.119869  1.000000 -0.055386\n",
              "roe     0.114842 -0.055386  1.000000"
            ]
          },
          "metadata": {},
          "execution_count": 68
        }
      ]
    },
    {
      "cell_type": "code",
      "metadata": {
        "colab": {
          "base_uri": "https://localhost:8080/",
          "height": 142
        },
        "id": "NZuqWM9hTDVf",
        "outputId": "1f977bdd-abbb-40b7-d3a4-d0e4445ba29c"
      },
      "source": [
        "data.corr('spearman')"
      ],
      "execution_count": 69,
      "outputs": [
        {
          "output_type": "execute_result",
          "data": {
            "text/html": [
              "<div>\n",
              "<style scoped>\n",
              "    .dataframe tbody tr th:only-of-type {\n",
              "        vertical-align: middle;\n",
              "    }\n",
              "\n",
              "    .dataframe tbody tr th {\n",
              "        vertical-align: top;\n",
              "    }\n",
              "\n",
              "    .dataframe thead th {\n",
              "        text-align: right;\n",
              "    }\n",
              "</style>\n",
              "<table border=\"1\" class=\"dataframe\">\n",
              "  <thead>\n",
              "    <tr style=\"text-align: right;\">\n",
              "      <th></th>\n",
              "      <th>salary</th>\n",
              "      <th>sales</th>\n",
              "      <th>roe</th>\n",
              "    </tr>\n",
              "  </thead>\n",
              "  <tbody>\n",
              "    <tr>\n",
              "      <th>salary</th>\n",
              "      <td>1.000000</td>\n",
              "      <td>0.528016</td>\n",
              "      <td>0.205984</td>\n",
              "    </tr>\n",
              "    <tr>\n",
              "      <th>sales</th>\n",
              "      <td>0.528016</td>\n",
              "      <td>1.000000</td>\n",
              "      <td>-0.170548</td>\n",
              "    </tr>\n",
              "    <tr>\n",
              "      <th>roe</th>\n",
              "      <td>0.205984</td>\n",
              "      <td>-0.170548</td>\n",
              "      <td>1.000000</td>\n",
              "    </tr>\n",
              "  </tbody>\n",
              "</table>\n",
              "</div>"
            ],
            "text/plain": [
              "          salary     sales       roe\n",
              "salary  1.000000  0.528016  0.205984\n",
              "sales   0.528016  1.000000 -0.170548\n",
              "roe     0.205984 -0.170548  1.000000"
            ]
          },
          "metadata": {},
          "execution_count": 69
        }
      ]
    },
    {
      "cell_type": "code",
      "metadata": {
        "colab": {
          "base_uri": "https://localhost:8080/",
          "height": 142
        },
        "id": "3hj-Q0zpTGjF",
        "outputId": "6d2c41d1-72cd-4a40-f824-294e1befe11d"
      },
      "source": [
        "data.corr('kendall')"
      ],
      "execution_count": 70,
      "outputs": [
        {
          "output_type": "execute_result",
          "data": {
            "text/html": [
              "<div>\n",
              "<style scoped>\n",
              "    .dataframe tbody tr th:only-of-type {\n",
              "        vertical-align: middle;\n",
              "    }\n",
              "\n",
              "    .dataframe tbody tr th {\n",
              "        vertical-align: top;\n",
              "    }\n",
              "\n",
              "    .dataframe thead th {\n",
              "        text-align: right;\n",
              "    }\n",
              "</style>\n",
              "<table border=\"1\" class=\"dataframe\">\n",
              "  <thead>\n",
              "    <tr style=\"text-align: right;\">\n",
              "      <th></th>\n",
              "      <th>salary</th>\n",
              "      <th>sales</th>\n",
              "      <th>roe</th>\n",
              "    </tr>\n",
              "  </thead>\n",
              "  <tbody>\n",
              "    <tr>\n",
              "      <th>salary</th>\n",
              "      <td>1.000000</td>\n",
              "      <td>0.363921</td>\n",
              "      <td>0.143672</td>\n",
              "    </tr>\n",
              "    <tr>\n",
              "      <th>sales</th>\n",
              "      <td>0.363921</td>\n",
              "      <td>1.000000</td>\n",
              "      <td>-0.123844</td>\n",
              "    </tr>\n",
              "    <tr>\n",
              "      <th>roe</th>\n",
              "      <td>0.143672</td>\n",
              "      <td>-0.123844</td>\n",
              "      <td>1.000000</td>\n",
              "    </tr>\n",
              "  </tbody>\n",
              "</table>\n",
              "</div>"
            ],
            "text/plain": [
              "          salary     sales       roe\n",
              "salary  1.000000  0.363921  0.143672\n",
              "sales   0.363921  1.000000 -0.123844\n",
              "roe     0.143672 -0.123844  1.000000"
            ]
          },
          "metadata": {},
          "execution_count": 70
        }
      ]
    },
    {
      "cell_type": "code",
      "metadata": {
        "id": "PIcEM5PWTIu-"
      },
      "source": [
        "import matplotlib.pyplot as plt"
      ],
      "execution_count": 71,
      "outputs": []
    },
    {
      "cell_type": "code",
      "metadata": {
        "colab": {
          "base_uri": "https://localhost:8080/",
          "height": 282
        },
        "id": "lzRkcojPTQd5",
        "outputId": "bf8952bc-441e-41d9-d385-22c18533c8bb"
      },
      "source": [
        "plt.scatter(data['sales'], data['salary'],alpha=0.5)"
      ],
      "execution_count": 72,
      "outputs": [
        {
          "output_type": "execute_result",
          "data": {
            "text/plain": [
              "<matplotlib.collections.PathCollection at 0x7f041a7c2dd0>"
            ]
          },
          "metadata": {},
          "execution_count": 72
        },
        {
          "output_type": "display_data",
          "data": {
            "image/png": "[encoded data removed]",
            "text/plain": [
              "<Figure size 432x288 with 1 Axes>"
            ]
          },
          "metadata": {
            "needs_background": "light"
          }
        }
      ]
    },
    {
      "cell_type": "code",
      "metadata": {
        "colab": {
          "base_uri": "https://localhost:8080/",
          "height": 338
        },
        "id": "K5dub9zjTWgn",
        "outputId": "ad693585-2422-408f-af2b-bedca91a07f1"
      },
      "source": [
        "fig, axes = plt.subplots(1, 3, figsize=(15,5))\n",
        "axes[0].scatter(data['sales'], data['salary'],alpha=0.5)\n",
        "axes[1].scatter(data['roe'], data['sales'],alpha=0.5)\n",
        "axes[2].scatter(data['roe'], data['salary'],alpha=0.5)"
      ],
      "execution_count": 73,
      "outputs": [
        {
          "output_type": "execute_result",
          "data": {
            "text/plain": [
              "<matplotlib.collections.PathCollection at 0x7f041a6b2050>"
            ]
          },
          "metadata": {},
          "execution_count": 73
        },
        {
          "output_type": "display_data",
          "data": {
            "image/png": "[encoded data removed]",
            "text/plain": [
              "<Figure size 1080x360 with 3 Axes>"
            ]
          },
          "metadata": {
            "needs_background": "light"
          }
        }
      ]
    },
    {
      "cell_type": "code",
      "metadata": {
        "colab": {
          "base_uri": "https://localhost:8080/",
          "height": 234
        },
        "id": "CriLyGkXT9k8",
        "outputId": "95381760-82fb-4511-c4b9-5e25e3ba1863"
      },
      "source": [
        "data.groupby('industry')[['salary']].describe()"
      ],
      "execution_count": 74,
      "outputs": [
        {
          "output_type": "execute_result",
          "data": {
            "text/html": [
              "<div>\n",
              "<style scoped>\n",
              "    .dataframe tbody tr th:only-of-type {\n",
              "        vertical-align: middle;\n",
              "    }\n",
              "\n",
              "    .dataframe tbody tr th {\n",
              "        vertical-align: top;\n",
              "    }\n",
              "\n",
              "    .dataframe thead tr th {\n",
              "        text-align: left;\n",
              "    }\n",
              "\n",
              "    .dataframe thead tr:last-of-type th {\n",
              "        text-align: right;\n",
              "    }\n",
              "</style>\n",
              "<table border=\"1\" class=\"dataframe\">\n",
              "  <thead>\n",
              "    <tr>\n",
              "      <th></th>\n",
              "      <th colspan=\"8\" halign=\"left\">salary</th>\n",
              "    </tr>\n",
              "    <tr>\n",
              "      <th></th>\n",
              "      <th>count</th>\n",
              "      <th>mean</th>\n",
              "      <th>std</th>\n",
              "      <th>min</th>\n",
              "      <th>25%</th>\n",
              "      <th>50%</th>\n",
              "      <th>75%</th>\n",
              "      <th>max</th>\n",
              "    </tr>\n",
              "    <tr>\n",
              "      <th>industry</th>\n",
              "      <th></th>\n",
              "      <th></th>\n",
              "      <th></th>\n",
              "      <th></th>\n",
              "      <th></th>\n",
              "      <th></th>\n",
              "      <th></th>\n",
              "      <th></th>\n",
              "    </tr>\n",
              "  </thead>\n",
              "  <tbody>\n",
              "    <tr>\n",
              "      <th>Finance</th>\n",
              "      <td>46.0</td>\n",
              "      <td>1344.913043</td>\n",
              "      <td>1002.813128</td>\n",
              "      <td>441.0</td>\n",
              "      <td>884.00</td>\n",
              "      <td>1119.5</td>\n",
              "      <td>1406.00</td>\n",
              "      <td>6640.0</td>\n",
              "    </tr>\n",
              "    <tr>\n",
              "      <th>IT</th>\n",
              "      <td>60.0</td>\n",
              "      <td>1722.416667</td>\n",
              "      <td>2242.687041</td>\n",
              "      <td>223.0</td>\n",
              "      <td>911.00</td>\n",
              "      <td>1246.0</td>\n",
              "      <td>1643.75</td>\n",
              "      <td>14822.0</td>\n",
              "    </tr>\n",
              "    <tr>\n",
              "      <th>Others</th>\n",
              "      <td>31.0</td>\n",
              "      <td>627.870968</td>\n",
              "      <td>175.264323</td>\n",
              "      <td>333.0</td>\n",
              "      <td>501.50</td>\n",
              "      <td>607.0</td>\n",
              "      <td>726.00</td>\n",
              "      <td>1100.0</td>\n",
              "    </tr>\n",
              "    <tr>\n",
              "      <th>Service</th>\n",
              "      <td>72.0</td>\n",
              "      <td>1153.875000</td>\n",
              "      <td>563.472032</td>\n",
              "      <td>256.0</td>\n",
              "      <td>811.25</td>\n",
              "      <td>1064.0</td>\n",
              "      <td>1348.50</td>\n",
              "      <td>3844.0</td>\n",
              "    </tr>\n",
              "  </tbody>\n",
              "</table>\n",
              "</div>"
            ],
            "text/plain": [
              "         salary                            ...                          \n",
              "          count         mean          std  ...     50%      75%      max\n",
              "industry                                   ...                          \n",
              "Finance    46.0  1344.913043  1002.813128  ...  1119.5  1406.00   6640.0\n",
              "IT         60.0  1722.416667  2242.687041  ...  1246.0  1643.75  14822.0\n",
              "Others     31.0   627.870968   175.264323  ...   607.0   726.00   1100.0\n",
              "Service    72.0  1153.875000   563.472032  ...  1064.0  1348.50   3844.0\n",
              "\n",
              "[4 rows x 8 columns]"
            ]
          },
          "metadata": {},
          "execution_count": 74
        }
      ]
    },
    {
      "cell_type": "markdown",
      "metadata": {
        "id": "LGzBGfePWhlk"
      },
      "source": [
        "#이상치처리"
      ]
    },
    {
      "cell_type": "code",
      "metadata": {
        "colab": {
          "base_uri": "https://localhost:8080/",
          "height": 302
        },
        "id": "xuRpvKtlUyeG",
        "outputId": "9a1ec46b-4954-452e-f752-623f7b98b3a4"
      },
      "source": [
        "data.boxplot(column='salary',return_type='both')\n"
      ],
      "execution_count": 75,
      "outputs": [
        {
          "output_type": "execute_result",
          "data": {
            "text/plain": [
              "Boxplot(ax=<matplotlib.axes._subplots.AxesSubplot object at 0x7f041a6b2ad0>, lines={'whiskers': [<matplotlib.lines.Line2D object at 0x7f041a5fa450>, <matplotlib.lines.Line2D object at 0x7f041a5fa990>], 'caps': [<matplotlib.lines.Line2D object at 0x7f041a5faed0>, <matplotlib.lines.Line2D object at 0x7f041a601450>], 'boxes': [<matplotlib.lines.Line2D object at 0x7f041a5f1e50>], 'medians': [<matplotlib.lines.Line2D object at 0x7f041a6019d0>], 'fliers': [<matplotlib.lines.Line2D object at 0x7f041a601f10>], 'means': []})"
            ]
          },
          "metadata": {},
          "execution_count": 75
        },
        {
          "output_type": "display_data",
          "data": {
            "image/png": "[encoded data removed]",
            "text/plain": [
              "<Figure size 432x288 with 1 Axes>"
            ]
          },
          "metadata": {
            "needs_background": "light"
          }
        }
      ]
    },
    {
      "cell_type": "code",
      "metadata": {
        "colab": {
          "base_uri": "https://localhost:8080/",
          "height": 282
        },
        "id": "xcjOZqdUVnHn",
        "outputId": "7fef779a-f33d-4899-ff85-9cc0e583932d"
      },
      "source": [
        "data.boxplot(column='sales')"
      ],
      "execution_count": 76,
      "outputs": [
        {
          "output_type": "execute_result",
          "data": {
            "text/plain": [
              "<matplotlib.axes._subplots.AxesSubplot at 0x7f041a5ae850>"
            ]
          },
          "metadata": {},
          "execution_count": 76
        },
        {
          "output_type": "display_data",
          "data": {
            "image/png": "[encoded data removed]",
            "text/plain": [
              "<Figure size 432x288 with 1 Axes>"
            ]
          },
          "metadata": {
            "needs_background": "light"
          }
        }
      ]
    },
    {
      "cell_type": "code",
      "metadata": {
        "colab": {
          "base_uri": "https://localhost:8080/",
          "height": 282
        },
        "id": "_7aGKJNOVr8K",
        "outputId": "94c2bfd5-7323-47a9-99e7-5e7d9adfd04f"
      },
      "source": [
        "data.boxplot(column='roe')"
      ],
      "execution_count": 77,
      "outputs": [
        {
          "output_type": "execute_result",
          "data": {
            "text/plain": [
              "<matplotlib.axes._subplots.AxesSubplot at 0x7f041a5bbc50>"
            ]
          },
          "metadata": {},
          "execution_count": 77
        },
        {
          "output_type": "display_data",
          "data": {
            "image/png": "[encoded data removed]",
            "text/plain": [
              "<Figure size 432x288 with 1 Axes>"
            ]
          },
          "metadata": {
            "needs_background": "light"
          }
        }
      ]
    },
    {
      "cell_type": "code",
      "metadata": {
        "id": "7ZhS2qtcVtDR"
      },
      "source": [
        "Q1_salary = data['salary'].quantile(q=0.25)\n",
        "Q3_salary = data['salary'].quantile(q=0.75)\n",
        "IQR_salary = Q3_salary - Q1_salary"
      ],
      "execution_count": 78,
      "outputs": []
    },
    {
      "cell_type": "code",
      "metadata": {
        "id": "DhC5b0TpYhwJ"
      },
      "source": [
        "data_IQR = data[(data['salary']< Q3_salary +IQR_salary*1.5) & (data['salary']> Q1_salary - IQR_salary*1.5)]"
      ],
      "execution_count": 79,
      "outputs": []
    },
    {
      "cell_type": "code",
      "metadata": {
        "colab": {
          "base_uri": "https://localhost:8080/",
          "height": 282
        },
        "id": "teZswZpKZY9j",
        "outputId": "80f7a91b-7de2-40b6-e5e6-b953a4707c29"
      },
      "source": [
        "data['salary'].hist()"
      ],
      "execution_count": 80,
      "outputs": [
        {
          "output_type": "execute_result",
          "data": {
            "text/plain": [
              "<matplotlib.axes._subplots.AxesSubplot at 0x7f041a48b450>"
            ]
          },
          "metadata": {},
          "execution_count": 80
        },
        {
          "output_type": "display_data",
          "data": {
            "image/png": "[encoded data removed]",
            "text/plain": [
              "<Figure size 432x288 with 1 Axes>"
            ]
          },
          "metadata": {
            "needs_background": "light"
          }
        }
      ]
    },
    {
      "cell_type": "code",
      "metadata": {
        "colab": {
          "base_uri": "https://localhost:8080/",
          "height": 282
        },
        "id": "rKmXDkIsZQ7c",
        "outputId": "61a44cda-6053-4db6-caf7-ce59c6d0976d"
      },
      "source": [
        "data_IQR['salary'].hist()"
      ],
      "execution_count": 81,
      "outputs": [
        {
          "output_type": "execute_result",
          "data": {
            "text/plain": [
              "<matplotlib.axes._subplots.AxesSubplot at 0x7f041a414ed0>"
            ]
          },
          "metadata": {},
          "execution_count": 81
        },
        {
          "output_type": "display_data",
          "data": {
            "image/png": "[encoded data removed]",
            "text/plain": [
              "<Figure size 432x288 with 1 Axes>"
            ]
          },
          "metadata": {
            "needs_background": "light"
          }
        }
      ]
    },
    {
      "cell_type": "code",
      "metadata": {
        "colab": {
          "base_uri": "https://localhost:8080/",
          "height": 674
        },
        "id": "LyICM9XXYjs5",
        "outputId": "f80ddeee-56a8-4563-949d-45bd23c7a13d"
      },
      "source": [
        "data_IQR.hist(bins=50, figsize=(20,10))"
      ],
      "execution_count": 82,
      "outputs": [
        {
          "output_type": "execute_result",
          "data": {
            "text/plain": [
              "array([[<matplotlib.axes._subplots.AxesSubplot object at 0x7f041a3ab690>,\n",
              "        <matplotlib.axes._subplots.AxesSubplot object at 0x7f041a35db50>],\n",
              "       [<matplotlib.axes._subplots.AxesSubplot object at 0x7f041a314fd0>,\n",
              "        <matplotlib.axes._subplots.AxesSubplot object at 0x7f041a2d55d0>]],\n",
              "      dtype=object)"
            ]
          },
          "metadata": {},
          "execution_count": 82
        },
        {
          "output_type": "display_data",
          "data": {
            "image/png": "[encoded data removed]",
            "text/plain": [
              "<Figure size 1440x720 with 4 Axes>"
            ]
          },
          "metadata": {
            "needs_background": "light"
          }
        }
      ]
    },
    {
      "cell_type": "code",
      "metadata": {
        "id": "9SdDUXTIZDLZ"
      },
      "source": [
        "Q1_sales = data['sales'].quantile(q=0.25)\n",
        "Q3_sales = data['sales'].quantile(q=0.75)\n",
        "IQR_ssales = Q3_sales - Q1_sales"
      ],
      "execution_count": 83,
      "outputs": []
    },
    {
      "cell_type": "code",
      "metadata": {
        "id": "23ilJkTKZ61F"
      },
      "source": [
        "data_IQR = data[\n",
        "                (data['salary']< Q3_salary +IQR_salary*1.5) & \n",
        "                (data['salary']> Q1_salary - IQR_salary*1.5) &\n",
        "                (data['sales']< Q3_sales +IQR_ssales*1.5) & \n",
        "                (data['sales']> Q1_sales - IQR_ssales*1.5)\n",
        "                ]"
      ],
      "execution_count": 84,
      "outputs": []
    },
    {
      "cell_type": "code",
      "metadata": {
        "colab": {
          "base_uri": "https://localhost:8080/",
          "height": 668
        },
        "id": "NtzXjUOoaQhS",
        "outputId": "1c6ffcb4-f8dc-4fb6-c415-925567567c51"
      },
      "source": [
        "data_IQR.hist(bins=50, figsize=(20,10))"
      ],
      "execution_count": 85,
      "outputs": [
        {
          "output_type": "execute_result",
          "data": {
            "text/plain": [
              "array([[<matplotlib.axes._subplots.AxesSubplot object at 0x7f041a0bfd50>,\n",
              "        <matplotlib.axes._subplots.AxesSubplot object at 0x7f041a06f450>],\n",
              "       [<matplotlib.axes._subplots.AxesSubplot object at 0x7f041a017ad0>,\n",
              "        <matplotlib.axes._subplots.AxesSubplot object at 0x7f0419fdb190>]],\n",
              "      dtype=object)"
            ]
          },
          "metadata": {},
          "execution_count": 85
        },
        {
          "output_type": "display_data",
          "data": {
            "image/png": "[encoded data removed]",
            "text/plain": [
              "<Figure size 1440x720 with 4 Axes>"
            ]
          },
          "metadata": {
            "needs_background": "light"
          }
        }
      ]
    },
    {
      "cell_type": "code",
      "metadata": {
        "colab": {
          "base_uri": "https://localhost:8080/",
          "height": 142
        },
        "id": "L7RUQvDMaSg4",
        "outputId": "24e14a9b-4d76-4183-846c-026f1186249f"
      },
      "source": [
        "data_IQR.corr()"
      ],
      "execution_count": 86,
      "outputs": [
        {
          "output_type": "execute_result",
          "data": {
            "text/html": [
              "<div>\n",
              "<style scoped>\n",
              "    .dataframe tbody tr th:only-of-type {\n",
              "        vertical-align: middle;\n",
              "    }\n",
              "\n",
              "    .dataframe tbody tr th {\n",
              "        vertical-align: top;\n",
              "    }\n",
              "\n",
              "    .dataframe thead th {\n",
              "        text-align: right;\n",
              "    }\n",
              "</style>\n",
              "<table border=\"1\" class=\"dataframe\">\n",
              "  <thead>\n",
              "    <tr style=\"text-align: right;\">\n",
              "      <th></th>\n",
              "      <th>salary</th>\n",
              "      <th>sales</th>\n",
              "      <th>roe</th>\n",
              "    </tr>\n",
              "  </thead>\n",
              "  <tbody>\n",
              "    <tr>\n",
              "      <th>salary</th>\n",
              "      <td>1.000000</td>\n",
              "      <td>0.471278</td>\n",
              "      <td>0.299153</td>\n",
              "    </tr>\n",
              "    <tr>\n",
              "      <th>sales</th>\n",
              "      <td>0.471278</td>\n",
              "      <td>1.000000</td>\n",
              "      <td>-0.076046</td>\n",
              "    </tr>\n",
              "    <tr>\n",
              "      <th>roe</th>\n",
              "      <td>0.299153</td>\n",
              "      <td>-0.076046</td>\n",
              "      <td>1.000000</td>\n",
              "    </tr>\n",
              "  </tbody>\n",
              "</table>\n",
              "</div>"
            ],
            "text/plain": [
              "          salary     sales       roe\n",
              "salary  1.000000  0.471278  0.299153\n",
              "sales   0.471278  1.000000 -0.076046\n",
              "roe     0.299153 -0.076046  1.000000"
            ]
          },
          "metadata": {},
          "execution_count": 86
        }
      ]
    },
    {
      "cell_type": "code",
      "metadata": {
        "colab": {
          "base_uri": "https://localhost:8080/",
          "height": 142
        },
        "id": "j0M26UpAaXC9",
        "outputId": "5f514bc0-017c-42ae-b831-e0429f2659fc"
      },
      "source": [
        "data.corr()"
      ],
      "execution_count": 87,
      "outputs": [
        {
          "output_type": "execute_result",
          "data": {
            "text/html": [
              "<div>\n",
              "<style scoped>\n",
              "    .dataframe tbody tr th:only-of-type {\n",
              "        vertical-align: middle;\n",
              "    }\n",
              "\n",
              "    .dataframe tbody tr th {\n",
              "        vertical-align: top;\n",
              "    }\n",
              "\n",
              "    .dataframe thead th {\n",
              "        text-align: right;\n",
              "    }\n",
              "</style>\n",
              "<table border=\"1\" class=\"dataframe\">\n",
              "  <thead>\n",
              "    <tr style=\"text-align: right;\">\n",
              "      <th></th>\n",
              "      <th>salary</th>\n",
              "      <th>sales</th>\n",
              "      <th>roe</th>\n",
              "    </tr>\n",
              "  </thead>\n",
              "  <tbody>\n",
              "    <tr>\n",
              "      <th>salary</th>\n",
              "      <td>1.000000</td>\n",
              "      <td>0.119869</td>\n",
              "      <td>0.114842</td>\n",
              "    </tr>\n",
              "    <tr>\n",
              "      <th>sales</th>\n",
              "      <td>0.119869</td>\n",
              "      <td>1.000000</td>\n",
              "      <td>-0.055386</td>\n",
              "    </tr>\n",
              "    <tr>\n",
              "      <th>roe</th>\n",
              "      <td>0.114842</td>\n",
              "      <td>-0.055386</td>\n",
              "      <td>1.000000</td>\n",
              "    </tr>\n",
              "  </tbody>\n",
              "</table>\n",
              "</div>"
            ],
            "text/plain": [
              "          salary     sales       roe\n",
              "salary  1.000000  0.119869  0.114842\n",
              "sales   0.119869  1.000000 -0.055386\n",
              "roe     0.114842 -0.055386  1.000000"
            ]
          },
          "metadata": {},
          "execution_count": 87
        }
      ]
    },
    {
      "cell_type": "markdown",
      "metadata": {
        "id": "cl-fqHhFajDF"
      },
      "source": [
        "#변수변환"
      ]
    },
    {
      "cell_type": "code",
      "metadata": {
        "id": "Wt_LdeRYacQU"
      },
      "source": [
        "import numpy as np\n",
        "data['log_salary'] = np.log(data['salary'])\n",
        "data['log_sales'] = np.log(data['sales'])\n",
        "data['log_roe'] = np.log(data['roe'])"
      ],
      "execution_count": 88,
      "outputs": []
    },
    {
      "cell_type": "code",
      "metadata": {
        "colab": {
          "base_uri": "https://localhost:8080/",
          "height": 110
        },
        "id": "iTeRUeS6cE3j",
        "outputId": "ff8b2bf3-40b8-4087-9162-09f4e462c0e2"
      },
      "source": [
        "data.head(2)"
      ],
      "execution_count": 89,
      "outputs": [
        {
          "output_type": "execute_result",
          "data": {
            "text/html": [
              "<div>\n",
              "<style scoped>\n",
              "    .dataframe tbody tr th:only-of-type {\n",
              "        vertical-align: middle;\n",
              "    }\n",
              "\n",
              "    .dataframe tbody tr th {\n",
              "        vertical-align: top;\n",
              "    }\n",
              "\n",
              "    .dataframe thead th {\n",
              "        text-align: right;\n",
              "    }\n",
              "</style>\n",
              "<table border=\"1\" class=\"dataframe\">\n",
              "  <thead>\n",
              "    <tr style=\"text-align: right;\">\n",
              "      <th></th>\n",
              "      <th>salary</th>\n",
              "      <th>sales</th>\n",
              "      <th>roe</th>\n",
              "      <th>industry</th>\n",
              "      <th>log_salary</th>\n",
              "      <th>log_sales</th>\n",
              "      <th>log_roe</th>\n",
              "    </tr>\n",
              "  </thead>\n",
              "  <tbody>\n",
              "    <tr>\n",
              "      <th>0</th>\n",
              "      <td>1095</td>\n",
              "      <td>27595.0</td>\n",
              "      <td>14.1</td>\n",
              "      <td>Service</td>\n",
              "      <td>6.998510</td>\n",
              "      <td>10.225390</td>\n",
              "      <td>2.646175</td>\n",
              "    </tr>\n",
              "    <tr>\n",
              "      <th>1</th>\n",
              "      <td>1001</td>\n",
              "      <td>9958.0</td>\n",
              "      <td>10.9</td>\n",
              "      <td>Service</td>\n",
              "      <td>6.908755</td>\n",
              "      <td>9.206132</td>\n",
              "      <td>2.388763</td>\n",
              "    </tr>\n",
              "  </tbody>\n",
              "</table>\n",
              "</div>"
            ],
            "text/plain": [
              "   salary    sales   roe industry  log_salary  log_sales   log_roe\n",
              "0    1095  27595.0  14.1  Service    6.998510  10.225390  2.646175\n",
              "1    1001   9958.0  10.9  Service    6.908755   9.206132  2.388763"
            ]
          },
          "metadata": {},
          "execution_count": 89
        }
      ]
    },
    {
      "cell_type": "code",
      "metadata": {
        "colab": {
          "base_uri": "https://localhost:8080/",
          "height": 970
        },
        "id": "HaVO0diAcefn",
        "outputId": "ac650da3-960d-4694-c3e7-f555ee348974"
      },
      "source": [
        "data.hist(bins=50,figsize=(20,15))"
      ],
      "execution_count": 90,
      "outputs": [
        {
          "output_type": "execute_result",
          "data": {
            "text/plain": [
              "array([[<matplotlib.axes._subplots.AxesSubplot object at 0x7f0419d2c510>,\n",
              "        <matplotlib.axes._subplots.AxesSubplot object at 0x7f0419cc8a90>],\n",
              "       [<matplotlib.axes._subplots.AxesSubplot object at 0x7f0419cf3fd0>,\n",
              "        <matplotlib.axes._subplots.AxesSubplot object at 0x7f0419cb35d0>],\n",
              "       [<matplotlib.axes._subplots.AxesSubplot object at 0x7f0419c69b50>,\n",
              "        <matplotlib.axes._subplots.AxesSubplot object at 0x7f0419c2b110>]],\n",
              "      dtype=object)"
            ]
          },
          "metadata": {},
          "execution_count": 90
        },
        {
          "output_type": "display_data",
          "data": {
            "image/png": "[encoded data removed]",
            "text/plain": [
              "<Figure size 1440x1080 with 6 Axes>"
            ]
          },
          "metadata": {
            "needs_background": "light"
          }
        }
      ]
    },
    {
      "cell_type": "code",
      "metadata": {
        "colab": {
          "base_uri": "https://localhost:8080/",
          "height": 234
        },
        "id": "1USuqToQcvTd",
        "outputId": "778db541-9b22-4b14-bd62-a3a45eacbfa5"
      },
      "source": [
        "data.corr()"
      ],
      "execution_count": 91,
      "outputs": [
        {
          "output_type": "execute_result",
          "data": {
            "text/html": [
              "<div>\n",
              "<style scoped>\n",
              "    .dataframe tbody tr th:only-of-type {\n",
              "        vertical-align: middle;\n",
              "    }\n",
              "\n",
              "    .dataframe tbody tr th {\n",
              "        vertical-align: top;\n",
              "    }\n",
              "\n",
              "    .dataframe thead th {\n",
              "        text-align: right;\n",
              "    }\n",
              "</style>\n",
              "<table border=\"1\" class=\"dataframe\">\n",
              "  <thead>\n",
              "    <tr style=\"text-align: right;\">\n",
              "      <th></th>\n",
              "      <th>salary</th>\n",
              "      <th>sales</th>\n",
              "      <th>roe</th>\n",
              "      <th>log_salary</th>\n",
              "      <th>log_sales</th>\n",
              "      <th>log_roe</th>\n",
              "    </tr>\n",
              "  </thead>\n",
              "  <tbody>\n",
              "    <tr>\n",
              "      <th>salary</th>\n",
              "      <td>1.000000</td>\n",
              "      <td>0.119869</td>\n",
              "      <td>0.114842</td>\n",
              "      <td>0.794208</td>\n",
              "      <td>0.194092</td>\n",
              "      <td>0.101526</td>\n",
              "    </tr>\n",
              "    <tr>\n",
              "      <th>sales</th>\n",
              "      <td>0.119869</td>\n",
              "      <td>1.000000</td>\n",
              "      <td>-0.055386</td>\n",
              "      <td>0.281286</td>\n",
              "      <td>0.742921</td>\n",
              "      <td>-0.041004</td>\n",
              "    </tr>\n",
              "    <tr>\n",
              "      <th>roe</th>\n",
              "      <td>0.114842</td>\n",
              "      <td>-0.055386</td>\n",
              "      <td>1.000000</td>\n",
              "      <td>0.208499</td>\n",
              "      <td>-0.122553</td>\n",
              "      <td>0.873419</td>\n",
              "    </tr>\n",
              "    <tr>\n",
              "      <th>log_salary</th>\n",
              "      <td>0.794208</td>\n",
              "      <td>0.281286</td>\n",
              "      <td>0.208499</td>\n",
              "      <td>1.000000</td>\n",
              "      <td>0.459148</td>\n",
              "      <td>0.163548</td>\n",
              "    </tr>\n",
              "    <tr>\n",
              "      <th>log_sales</th>\n",
              "      <td>0.194092</td>\n",
              "      <td>0.742921</td>\n",
              "      <td>-0.122553</td>\n",
              "      <td>0.459148</td>\n",
              "      <td>1.000000</td>\n",
              "      <td>-0.120642</td>\n",
              "    </tr>\n",
              "    <tr>\n",
              "      <th>log_roe</th>\n",
              "      <td>0.101526</td>\n",
              "      <td>-0.041004</td>\n",
              "      <td>0.873419</td>\n",
              "      <td>0.163548</td>\n",
              "      <td>-0.120642</td>\n",
              "      <td>1.000000</td>\n",
              "    </tr>\n",
              "  </tbody>\n",
              "</table>\n",
              "</div>"
            ],
            "text/plain": [
              "              salary     sales       roe  log_salary  log_sales   log_roe\n",
              "salary      1.000000  0.119869  0.114842    0.794208   0.194092  0.101526\n",
              "sales       0.119869  1.000000 -0.055386    0.281286   0.742921 -0.041004\n",
              "roe         0.114842 -0.055386  1.000000    0.208499  -0.122553  0.873419\n",
              "log_salary  0.794208  0.281286  0.208499    1.000000   0.459148  0.163548\n",
              "log_sales   0.194092  0.742921 -0.122553    0.459148   1.000000 -0.120642\n",
              "log_roe     0.101526 -0.041004  0.873419    0.163548  -0.120642  1.000000"
            ]
          },
          "metadata": {},
          "execution_count": 91
        }
      ]
    },
    {
      "cell_type": "code",
      "metadata": {
        "id": "rKsl9bZlcPXg"
      },
      "source": [
        "#fig, axes = plt.subplots(2,1, figsize=(10,10))\n",
        "#axes[0] ="
      ],
      "execution_count": 92,
      "outputs": []
    },
    {
      "cell_type": "code",
      "metadata": {
        "id": "2fuKr8uIcXlP"
      },
      "source": [
        "data['sqrt_salary'] = np.sqrt(data['salary'])\n",
        "data['sqrt_sales'] = np.sqrt(data['sales'])\n",
        "data['sqrt_roe'] = np.sqrt(data['roe'])"
      ],
      "execution_count": 93,
      "outputs": []
    },
    {
      "cell_type": "code",
      "metadata": {
        "colab": {
          "base_uri": "https://localhost:8080/",
          "height": 110
        },
        "id": "2fiF5OLldGTb",
        "outputId": "bbb7366a-a022-4a1d-e6f3-23117c3c7081"
      },
      "source": [
        "data.head(2)"
      ],
      "execution_count": 94,
      "outputs": [
        {
          "output_type": "execute_result",
          "data": {
            "text/html": [
              "<div>\n",
              "<style scoped>\n",
              "    .dataframe tbody tr th:only-of-type {\n",
              "        vertical-align: middle;\n",
              "    }\n",
              "\n",
              "    .dataframe tbody tr th {\n",
              "        vertical-align: top;\n",
              "    }\n",
              "\n",
              "    .dataframe thead th {\n",
              "        text-align: right;\n",
              "    }\n",
              "</style>\n",
              "<table border=\"1\" class=\"dataframe\">\n",
              "  <thead>\n",
              "    <tr style=\"text-align: right;\">\n",
              "      <th></th>\n",
              "      <th>salary</th>\n",
              "      <th>sales</th>\n",
              "      <th>roe</th>\n",
              "      <th>industry</th>\n",
              "      <th>log_salary</th>\n",
              "      <th>log_sales</th>\n",
              "      <th>log_roe</th>\n",
              "      <th>sqrt_salary</th>\n",
              "      <th>sqrt_sales</th>\n",
              "      <th>sqrt_roe</th>\n",
              "    </tr>\n",
              "  </thead>\n",
              "  <tbody>\n",
              "    <tr>\n",
              "      <th>0</th>\n",
              "      <td>1095</td>\n",
              "      <td>27595.0</td>\n",
              "      <td>14.1</td>\n",
              "      <td>Service</td>\n",
              "      <td>6.998510</td>\n",
              "      <td>10.225390</td>\n",
              "      <td>2.646175</td>\n",
              "      <td>33.090784</td>\n",
              "      <td>166.117428</td>\n",
              "      <td>3.754997</td>\n",
              "    </tr>\n",
              "    <tr>\n",
              "      <th>1</th>\n",
              "      <td>1001</td>\n",
              "      <td>9958.0</td>\n",
              "      <td>10.9</td>\n",
              "      <td>Service</td>\n",
              "      <td>6.908755</td>\n",
              "      <td>9.206132</td>\n",
              "      <td>2.388763</td>\n",
              "      <td>31.638584</td>\n",
              "      <td>99.789779</td>\n",
              "      <td>3.301515</td>\n",
              "    </tr>\n",
              "  </tbody>\n",
              "</table>\n",
              "</div>"
            ],
            "text/plain": [
              "   salary    sales   roe industry  ...   log_roe  sqrt_salary  sqrt_sales  sqrt_roe\n",
              "0    1095  27595.0  14.1  Service  ...  2.646175    33.090784  166.117428  3.754997\n",
              "1    1001   9958.0  10.9  Service  ...  2.388763    31.638584   99.789779  3.301515\n",
              "\n",
              "[2 rows x 10 columns]"
            ]
          },
          "metadata": {},
          "execution_count": 94
        }
      ]
    },
    {
      "cell_type": "code",
      "metadata": {
        "colab": {
          "base_uri": "https://localhost:8080/",
          "height": 760
        },
        "id": "si5tCGc3dIfu",
        "outputId": "6648ac8b-7ef6-4ef0-d589-e75681e54d02"
      },
      "source": [
        "data.hist(bins=50, figsize=(20,10))"
      ],
      "execution_count": 95,
      "outputs": [
        {
          "output_type": "execute_result",
          "data": {
            "text/plain": [
              "array([[<matplotlib.axes._subplots.AxesSubplot object at 0x7f041a0a7f10>,\n",
              "        <matplotlib.axes._subplots.AxesSubplot object at 0x7f0419e53590>,\n",
              "        <matplotlib.axes._subplots.AxesSubplot object at 0x7f0419809d50>],\n",
              "       [<matplotlib.axes._subplots.AxesSubplot object at 0x7f04196e2bd0>,\n",
              "        <matplotlib.axes._subplots.AxesSubplot object at 0x7f04196a3290>,\n",
              "        <matplotlib.axes._subplots.AxesSubplot object at 0x7f041965a910>],\n",
              "       [<matplotlib.axes._subplots.AxesSubplot object at 0x7f0419610f50>,\n",
              "        <matplotlib.axes._subplots.AxesSubplot object at 0x7f04195d2610>,\n",
              "        <matplotlib.axes._subplots.AxesSubplot object at 0x7f04195d2650>]],\n",
              "      dtype=object)"
            ]
          },
          "metadata": {},
          "execution_count": 95
        },
        {
          "output_type": "display_data",
          "data": {
            "image/png": "[encoded data removed]",
            "text/plain": [
              "<Figure size 1440x720 with 9 Axes>"
            ]
          },
          "metadata": {
            "needs_background": "light"
          }
        }
      ]
    },
    {
      "cell_type": "code",
      "metadata": {
        "colab": {
          "base_uri": "https://localhost:8080/",
          "height": 326
        },
        "id": "Upt2kQHNdO9L",
        "outputId": "be32d57c-bdb3-4690-fc14-4df40f8d7daf"
      },
      "source": [
        "data.corr()"
      ],
      "execution_count": 96,
      "outputs": [
        {
          "output_type": "execute_result",
          "data": {
            "text/html": [
              "<div>\n",
              "<style scoped>\n",
              "    .dataframe tbody tr th:only-of-type {\n",
              "        vertical-align: middle;\n",
              "    }\n",
              "\n",
              "    .dataframe tbody tr th {\n",
              "        vertical-align: top;\n",
              "    }\n",
              "\n",
              "    .dataframe thead th {\n",
              "        text-align: right;\n",
              "    }\n",
              "</style>\n",
              "<table border=\"1\" class=\"dataframe\">\n",
              "  <thead>\n",
              "    <tr style=\"text-align: right;\">\n",
              "      <th></th>\n",
              "      <th>salary</th>\n",
              "      <th>sales</th>\n",
              "      <th>roe</th>\n",
              "      <th>log_salary</th>\n",
              "      <th>log_sales</th>\n",
              "      <th>log_roe</th>\n",
              "      <th>sqrt_salary</th>\n",
              "      <th>sqrt_sales</th>\n",
              "      <th>sqrt_roe</th>\n",
              "    </tr>\n",
              "  </thead>\n",
              "  <tbody>\n",
              "    <tr>\n",
              "      <th>salary</th>\n",
              "      <td>1.000000</td>\n",
              "      <td>0.119869</td>\n",
              "      <td>0.114842</td>\n",
              "      <td>0.794208</td>\n",
              "      <td>0.194092</td>\n",
              "      <td>0.101526</td>\n",
              "      <td>0.945732</td>\n",
              "      <td>0.164340</td>\n",
              "      <td>0.115219</td>\n",
              "    </tr>\n",
              "    <tr>\n",
              "      <th>sales</th>\n",
              "      <td>0.119869</td>\n",
              "      <td>1.000000</td>\n",
              "      <td>-0.055386</td>\n",
              "      <td>0.281286</td>\n",
              "      <td>0.742921</td>\n",
              "      <td>-0.041004</td>\n",
              "      <td>0.215716</td>\n",
              "      <td>0.936282</td>\n",
              "      <td>-0.050538</td>\n",
              "    </tr>\n",
              "    <tr>\n",
              "      <th>roe</th>\n",
              "      <td>0.114842</td>\n",
              "      <td>-0.055386</td>\n",
              "      <td>1.000000</td>\n",
              "      <td>0.208499</td>\n",
              "      <td>-0.122553</td>\n",
              "      <td>0.873419</td>\n",
              "      <td>0.172327</td>\n",
              "      <td>-0.087687</td>\n",
              "      <td>0.977012</td>\n",
              "    </tr>\n",
              "    <tr>\n",
              "      <th>log_salary</th>\n",
              "      <td>0.794208</td>\n",
              "      <td>0.281286</td>\n",
              "      <td>0.208499</td>\n",
              "      <td>1.000000</td>\n",
              "      <td>0.459148</td>\n",
              "      <td>0.163548</td>\n",
              "      <td>0.946014</td>\n",
              "      <td>0.386456</td>\n",
              "      <td>0.197914</td>\n",
              "    </tr>\n",
              "    <tr>\n",
              "      <th>log_sales</th>\n",
              "      <td>0.194092</td>\n",
              "      <td>0.742921</td>\n",
              "      <td>-0.122553</td>\n",
              "      <td>0.459148</td>\n",
              "      <td>1.000000</td>\n",
              "      <td>-0.120642</td>\n",
              "      <td>0.342422</td>\n",
              "      <td>0.920797</td>\n",
              "      <td>-0.129020</td>\n",
              "    </tr>\n",
              "    <tr>\n",
              "      <th>log_roe</th>\n",
              "      <td>0.101526</td>\n",
              "      <td>-0.041004</td>\n",
              "      <td>0.873419</td>\n",
              "      <td>0.163548</td>\n",
              "      <td>-0.120642</td>\n",
              "      <td>1.000000</td>\n",
              "      <td>0.139470</td>\n",
              "      <td>-0.083308</td>\n",
              "      <td>0.953806</td>\n",
              "    </tr>\n",
              "    <tr>\n",
              "      <th>sqrt_salary</th>\n",
              "      <td>0.945732</td>\n",
              "      <td>0.215716</td>\n",
              "      <td>0.172327</td>\n",
              "      <td>0.946014</td>\n",
              "      <td>0.342422</td>\n",
              "      <td>0.139470</td>\n",
              "      <td>1.000000</td>\n",
              "      <td>0.293173</td>\n",
              "      <td>0.165932</td>\n",
              "    </tr>\n",
              "    <tr>\n",
              "      <th>sqrt_sales</th>\n",
              "      <td>0.164340</td>\n",
              "      <td>0.936282</td>\n",
              "      <td>-0.087687</td>\n",
              "      <td>0.386456</td>\n",
              "      <td>0.920797</td>\n",
              "      <td>-0.083308</td>\n",
              "      <td>0.293173</td>\n",
              "      <td>1.000000</td>\n",
              "      <td>-0.089501</td>\n",
              "    </tr>\n",
              "    <tr>\n",
              "      <th>sqrt_roe</th>\n",
              "      <td>0.115219</td>\n",
              "      <td>-0.050538</td>\n",
              "      <td>0.977012</td>\n",
              "      <td>0.197914</td>\n",
              "      <td>-0.129020</td>\n",
              "      <td>0.953806</td>\n",
              "      <td>0.165932</td>\n",
              "      <td>-0.089501</td>\n",
              "      <td>1.000000</td>\n",
              "    </tr>\n",
              "  </tbody>\n",
              "</table>\n",
              "</div>"
            ],
            "text/plain": [
              "               salary     sales       roe  ...  sqrt_salary  sqrt_sales  sqrt_roe\n",
              "salary       1.000000  0.119869  0.114842  ...     0.945732    0.164340  0.115219\n",
              "sales        0.119869  1.000000 -0.055386  ...     0.215716    0.936282 -0.050538\n",
              "roe          0.114842 -0.055386  1.000000  ...     0.172327   -0.087687  0.977012\n",
              "log_salary   0.794208  0.281286  0.208499  ...     0.946014    0.386456  0.197914\n",
              "log_sales    0.194092  0.742921 -0.122553  ...     0.342422    0.920797 -0.129020\n",
              "log_roe      0.101526 -0.041004  0.873419  ...     0.139470   -0.083308  0.953806\n",
              "sqrt_salary  0.945732  0.215716  0.172327  ...     1.000000    0.293173  0.165932\n",
              "sqrt_sales   0.164340  0.936282 -0.087687  ...     0.293173    1.000000 -0.089501\n",
              "sqrt_roe     0.115219 -0.050538  0.977012  ...     0.165932   -0.089501  1.000000\n",
              "\n",
              "[9 rows x 9 columns]"
            ]
          },
          "metadata": {},
          "execution_count": 96
        }
      ]
    },
    {
      "cell_type": "markdown",
      "metadata": {
        "id": "dg-rU-2add2N"
      },
      "source": [
        "#결측치처리"
      ]
    },
    {
      "cell_type": "code",
      "metadata": {
        "id": "qgHU7YOodSOS"
      },
      "source": [
        "data = pd.read_csv('Ex_Missing.csv')"
      ],
      "execution_count": 98,
      "outputs": []
    },
    {
      "cell_type": "code",
      "metadata": {
        "colab": {
          "base_uri": "https://localhost:8080/",
          "height": 203
        },
        "id": "iDxqz9IywsML",
        "outputId": "1ecb680c-6a8a-457b-a241-1835ba73358f"
      },
      "source": [
        "data.head()"
      ],
      "execution_count": 99,
      "outputs": [
        {
          "output_type": "execute_result",
          "data": {
            "text/html": [
              "<div>\n",
              "<style scoped>\n",
              "    .dataframe tbody tr th:only-of-type {\n",
              "        vertical-align: middle;\n",
              "    }\n",
              "\n",
              "    .dataframe tbody tr th {\n",
              "        vertical-align: top;\n",
              "    }\n",
              "\n",
              "    .dataframe thead th {\n",
              "        text-align: right;\n",
              "    }\n",
              "</style>\n",
              "<table border=\"1\" class=\"dataframe\">\n",
              "  <thead>\n",
              "    <tr style=\"text-align: right;\">\n",
              "      <th></th>\n",
              "      <th>salary</th>\n",
              "      <th>sales</th>\n",
              "      <th>roe</th>\n",
              "      <th>industry</th>\n",
              "    </tr>\n",
              "  </thead>\n",
              "  <tbody>\n",
              "    <tr>\n",
              "      <th>0</th>\n",
              "      <td>1095.0</td>\n",
              "      <td>27595.000000</td>\n",
              "      <td>14.1</td>\n",
              "      <td>1</td>\n",
              "    </tr>\n",
              "    <tr>\n",
              "      <th>1</th>\n",
              "      <td>NaN</td>\n",
              "      <td>9958.000000</td>\n",
              "      <td>10.9</td>\n",
              "      <td>1</td>\n",
              "    </tr>\n",
              "    <tr>\n",
              "      <th>2</th>\n",
              "      <td>NaN</td>\n",
              "      <td>6125.899902</td>\n",
              "      <td>23.5</td>\n",
              "      <td>1</td>\n",
              "    </tr>\n",
              "    <tr>\n",
              "      <th>3</th>\n",
              "      <td>578.0</td>\n",
              "      <td>16246.000000</td>\n",
              "      <td>5.9</td>\n",
              "      <td>1</td>\n",
              "    </tr>\n",
              "    <tr>\n",
              "      <th>4</th>\n",
              "      <td>1368.0</td>\n",
              "      <td>NaN</td>\n",
              "      <td>13.8</td>\n",
              "      <td>1</td>\n",
              "    </tr>\n",
              "  </tbody>\n",
              "</table>\n",
              "</div>"
            ],
            "text/plain": [
              "   salary         sales   roe  industry\n",
              "0  1095.0  27595.000000  14.1         1\n",
              "1     NaN   9958.000000  10.9         1\n",
              "2     NaN   6125.899902  23.5         1\n",
              "3   578.0  16246.000000   5.9         1\n",
              "4  1368.0           NaN  13.8         1"
            ]
          },
          "metadata": {},
          "execution_count": 99
        }
      ]
    },
    {
      "cell_type": "code",
      "metadata": {
        "colab": {
          "base_uri": "https://localhost:8080/",
          "height": 357
        },
        "id": "5JaBoW-Swve5",
        "outputId": "5def8a45-4fa4-401e-8d05-d76bb2cac0a5"
      },
      "source": [
        "pd.isnull(data)"
      ],
      "execution_count": 100,
      "outputs": [
        {
          "output_type": "execute_result",
          "data": {
            "text/html": [
              "<div>\n",
              "<style scoped>\n",
              "    .dataframe tbody tr th:only-of-type {\n",
              "        vertical-align: middle;\n",
              "    }\n",
              "\n",
              "    .dataframe tbody tr th {\n",
              "        vertical-align: top;\n",
              "    }\n",
              "\n",
              "    .dataframe thead th {\n",
              "        text-align: right;\n",
              "    }\n",
              "</style>\n",
              "<table border=\"1\" class=\"dataframe\">\n",
              "  <thead>\n",
              "    <tr style=\"text-align: right;\">\n",
              "      <th></th>\n",
              "      <th>salary</th>\n",
              "      <th>sales</th>\n",
              "      <th>roe</th>\n",
              "      <th>industry</th>\n",
              "    </tr>\n",
              "  </thead>\n",
              "  <tbody>\n",
              "    <tr>\n",
              "      <th>0</th>\n",
              "      <td>False</td>\n",
              "      <td>False</td>\n",
              "      <td>False</td>\n",
              "      <td>False</td>\n",
              "    </tr>\n",
              "    <tr>\n",
              "      <th>1</th>\n",
              "      <td>True</td>\n",
              "      <td>False</td>\n",
              "      <td>False</td>\n",
              "      <td>False</td>\n",
              "    </tr>\n",
              "    <tr>\n",
              "      <th>2</th>\n",
              "      <td>True</td>\n",
              "      <td>False</td>\n",
              "      <td>False</td>\n",
              "      <td>False</td>\n",
              "    </tr>\n",
              "    <tr>\n",
              "      <th>3</th>\n",
              "      <td>False</td>\n",
              "      <td>False</td>\n",
              "      <td>False</td>\n",
              "      <td>False</td>\n",
              "    </tr>\n",
              "    <tr>\n",
              "      <th>4</th>\n",
              "      <td>False</td>\n",
              "      <td>True</td>\n",
              "      <td>False</td>\n",
              "      <td>False</td>\n",
              "    </tr>\n",
              "    <tr>\n",
              "      <th>5</th>\n",
              "      <td>False</td>\n",
              "      <td>True</td>\n",
              "      <td>False</td>\n",
              "      <td>False</td>\n",
              "    </tr>\n",
              "    <tr>\n",
              "      <th>6</th>\n",
              "      <td>False</td>\n",
              "      <td>False</td>\n",
              "      <td>False</td>\n",
              "      <td>False</td>\n",
              "    </tr>\n",
              "    <tr>\n",
              "      <th>7</th>\n",
              "      <td>False</td>\n",
              "      <td>False</td>\n",
              "      <td>False</td>\n",
              "      <td>False</td>\n",
              "    </tr>\n",
              "    <tr>\n",
              "      <th>8</th>\n",
              "      <td>False</td>\n",
              "      <td>False</td>\n",
              "      <td>False</td>\n",
              "      <td>False</td>\n",
              "    </tr>\n",
              "    <tr>\n",
              "      <th>9</th>\n",
              "      <td>False</td>\n",
              "      <td>False</td>\n",
              "      <td>True</td>\n",
              "      <td>False</td>\n",
              "    </tr>\n",
              "  </tbody>\n",
              "</table>\n",
              "</div>"
            ],
            "text/plain": [
              "   salary  sales    roe  industry\n",
              "0   False  False  False     False\n",
              "1    True  False  False     False\n",
              "2    True  False  False     False\n",
              "3   False  False  False     False\n",
              "4   False   True  False     False\n",
              "5   False   True  False     False\n",
              "6   False  False  False     False\n",
              "7   False  False  False     False\n",
              "8   False  False  False     False\n",
              "9   False  False   True     False"
            ]
          },
          "metadata": {},
          "execution_count": 100
        }
      ]
    },
    {
      "cell_type": "code",
      "metadata": {
        "colab": {
          "base_uri": "https://localhost:8080/",
          "height": 357
        },
        "id": "OxDhmS6fw128",
        "outputId": "62b3009a-1621-43d4-b40b-181ddc37a6cd"
      },
      "source": [
        "pd.notnull(data)"
      ],
      "execution_count": 101,
      "outputs": [
        {
          "output_type": "execute_result",
          "data": {
            "text/html": [
              "<div>\n",
              "<style scoped>\n",
              "    .dataframe tbody tr th:only-of-type {\n",
              "        vertical-align: middle;\n",
              "    }\n",
              "\n",
              "    .dataframe tbody tr th {\n",
              "        vertical-align: top;\n",
              "    }\n",
              "\n",
              "    .dataframe thead th {\n",
              "        text-align: right;\n",
              "    }\n",
              "</style>\n",
              "<table border=\"1\" class=\"dataframe\">\n",
              "  <thead>\n",
              "    <tr style=\"text-align: right;\">\n",
              "      <th></th>\n",
              "      <th>salary</th>\n",
              "      <th>sales</th>\n",
              "      <th>roe</th>\n",
              "      <th>industry</th>\n",
              "    </tr>\n",
              "  </thead>\n",
              "  <tbody>\n",
              "    <tr>\n",
              "      <th>0</th>\n",
              "      <td>True</td>\n",
              "      <td>True</td>\n",
              "      <td>True</td>\n",
              "      <td>True</td>\n",
              "    </tr>\n",
              "    <tr>\n",
              "      <th>1</th>\n",
              "      <td>False</td>\n",
              "      <td>True</td>\n",
              "      <td>True</td>\n",
              "      <td>True</td>\n",
              "    </tr>\n",
              "    <tr>\n",
              "      <th>2</th>\n",
              "      <td>False</td>\n",
              "      <td>True</td>\n",
              "      <td>True</td>\n",
              "      <td>True</td>\n",
              "    </tr>\n",
              "    <tr>\n",
              "      <th>3</th>\n",
              "      <td>True</td>\n",
              "      <td>True</td>\n",
              "      <td>True</td>\n",
              "      <td>True</td>\n",
              "    </tr>\n",
              "    <tr>\n",
              "      <th>4</th>\n",
              "      <td>True</td>\n",
              "      <td>False</td>\n",
              "      <td>True</td>\n",
              "      <td>True</td>\n",
              "    </tr>\n",
              "    <tr>\n",
              "      <th>5</th>\n",
              "      <td>True</td>\n",
              "      <td>False</td>\n",
              "      <td>True</td>\n",
              "      <td>True</td>\n",
              "    </tr>\n",
              "    <tr>\n",
              "      <th>6</th>\n",
              "      <td>True</td>\n",
              "      <td>True</td>\n",
              "      <td>True</td>\n",
              "      <td>True</td>\n",
              "    </tr>\n",
              "    <tr>\n",
              "      <th>7</th>\n",
              "      <td>True</td>\n",
              "      <td>True</td>\n",
              "      <td>True</td>\n",
              "      <td>True</td>\n",
              "    </tr>\n",
              "    <tr>\n",
              "      <th>8</th>\n",
              "      <td>True</td>\n",
              "      <td>True</td>\n",
              "      <td>True</td>\n",
              "      <td>True</td>\n",
              "    </tr>\n",
              "    <tr>\n",
              "      <th>9</th>\n",
              "      <td>True</td>\n",
              "      <td>True</td>\n",
              "      <td>False</td>\n",
              "      <td>True</td>\n",
              "    </tr>\n",
              "  </tbody>\n",
              "</table>\n",
              "</div>"
            ],
            "text/plain": [
              "   salary  sales    roe  industry\n",
              "0    True   True   True      True\n",
              "1   False   True   True      True\n",
              "2   False   True   True      True\n",
              "3    True   True   True      True\n",
              "4    True  False   True      True\n",
              "5    True  False   True      True\n",
              "6    True   True   True      True\n",
              "7    True   True   True      True\n",
              "8    True   True   True      True\n",
              "9    True   True  False      True"
            ]
          },
          "metadata": {},
          "execution_count": 101
        }
      ]
    },
    {
      "cell_type": "code",
      "metadata": {
        "colab": {
          "base_uri": "https://localhost:8080/",
          "height": 357
        },
        "id": "T4idejPgw-2o",
        "outputId": "d1b3c774-008c-4435-8ae6-fba6cfaba72f"
      },
      "source": [
        "data.notnull()"
      ],
      "execution_count": 105,
      "outputs": [
        {
          "output_type": "execute_result",
          "data": {
            "text/html": [
              "<div>\n",
              "<style scoped>\n",
              "    .dataframe tbody tr th:only-of-type {\n",
              "        vertical-align: middle;\n",
              "    }\n",
              "\n",
              "    .dataframe tbody tr th {\n",
              "        vertical-align: top;\n",
              "    }\n",
              "\n",
              "    .dataframe thead th {\n",
              "        text-align: right;\n",
              "    }\n",
              "</style>\n",
              "<table border=\"1\" class=\"dataframe\">\n",
              "  <thead>\n",
              "    <tr style=\"text-align: right;\">\n",
              "      <th></th>\n",
              "      <th>salary</th>\n",
              "      <th>sales</th>\n",
              "      <th>roe</th>\n",
              "      <th>industry</th>\n",
              "    </tr>\n",
              "  </thead>\n",
              "  <tbody>\n",
              "    <tr>\n",
              "      <th>0</th>\n",
              "      <td>True</td>\n",
              "      <td>True</td>\n",
              "      <td>True</td>\n",
              "      <td>True</td>\n",
              "    </tr>\n",
              "    <tr>\n",
              "      <th>1</th>\n",
              "      <td>False</td>\n",
              "      <td>True</td>\n",
              "      <td>True</td>\n",
              "      <td>True</td>\n",
              "    </tr>\n",
              "    <tr>\n",
              "      <th>2</th>\n",
              "      <td>False</td>\n",
              "      <td>True</td>\n",
              "      <td>True</td>\n",
              "      <td>True</td>\n",
              "    </tr>\n",
              "    <tr>\n",
              "      <th>3</th>\n",
              "      <td>True</td>\n",
              "      <td>True</td>\n",
              "      <td>True</td>\n",
              "      <td>True</td>\n",
              "    </tr>\n",
              "    <tr>\n",
              "      <th>4</th>\n",
              "      <td>True</td>\n",
              "      <td>False</td>\n",
              "      <td>True</td>\n",
              "      <td>True</td>\n",
              "    </tr>\n",
              "    <tr>\n",
              "      <th>5</th>\n",
              "      <td>True</td>\n",
              "      <td>False</td>\n",
              "      <td>True</td>\n",
              "      <td>True</td>\n",
              "    </tr>\n",
              "    <tr>\n",
              "      <th>6</th>\n",
              "      <td>True</td>\n",
              "      <td>True</td>\n",
              "      <td>True</td>\n",
              "      <td>True</td>\n",
              "    </tr>\n",
              "    <tr>\n",
              "      <th>7</th>\n",
              "      <td>True</td>\n",
              "      <td>True</td>\n",
              "      <td>True</td>\n",
              "      <td>True</td>\n",
              "    </tr>\n",
              "    <tr>\n",
              "      <th>8</th>\n",
              "      <td>True</td>\n",
              "      <td>True</td>\n",
              "      <td>True</td>\n",
              "      <td>True</td>\n",
              "    </tr>\n",
              "    <tr>\n",
              "      <th>9</th>\n",
              "      <td>True</td>\n",
              "      <td>True</td>\n",
              "      <td>False</td>\n",
              "      <td>True</td>\n",
              "    </tr>\n",
              "  </tbody>\n",
              "</table>\n",
              "</div>"
            ],
            "text/plain": [
              "   salary  sales    roe  industry\n",
              "0    True   True   True      True\n",
              "1   False   True   True      True\n",
              "2   False   True   True      True\n",
              "3    True   True   True      True\n",
              "4    True  False   True      True\n",
              "5    True  False   True      True\n",
              "6    True   True   True      True\n",
              "7    True   True   True      True\n",
              "8    True   True   True      True\n",
              "9    True   True  False      True"
            ]
          },
          "metadata": {},
          "execution_count": 105
        }
      ]
    },
    {
      "cell_type": "code",
      "metadata": {
        "colab": {
          "base_uri": "https://localhost:8080/"
        },
        "id": "SdOK_oN-xK3V",
        "outputId": "8bc6d48a-6fee-46fd-a969-41201b25d5ef"
      },
      "source": [
        "data.isnull().sum()"
      ],
      "execution_count": 106,
      "outputs": [
        {
          "output_type": "execute_result",
          "data": {
            "text/plain": [
              "salary      2\n",
              "sales       2\n",
              "roe         1\n",
              "industry    0\n",
              "dtype: int64"
            ]
          },
          "metadata": {},
          "execution_count": 106
        }
      ]
    },
    {
      "cell_type": "code",
      "metadata": {
        "colab": {
          "base_uri": "https://localhost:8080/"
        },
        "id": "9tHn13egw3fx",
        "outputId": "734d8c13-5fd8-42ae-9635-9e1786eed5fb"
      },
      "source": [
        "data.isnull().sum(0)"
      ],
      "execution_count": 108,
      "outputs": [
        {
          "output_type": "execute_result",
          "data": {
            "text/plain": [
              "salary      2\n",
              "sales       2\n",
              "roe         1\n",
              "industry    0\n",
              "dtype: int64"
            ]
          },
          "metadata": {},
          "execution_count": 108
        }
      ]
    },
    {
      "cell_type": "code",
      "metadata": {
        "colab": {
          "base_uri": "https://localhost:8080/"
        },
        "id": "yD5i2sqIxSWc",
        "outputId": "302aa27b-687b-46a5-ba76-d15476d112c4"
      },
      "source": [
        "data['salary'].isnull().sum()"
      ],
      "execution_count": 113,
      "outputs": [
        {
          "output_type": "execute_result",
          "data": {
            "text/plain": [
              "2"
            ]
          },
          "metadata": {},
          "execution_count": 113
        }
      ]
    },
    {
      "cell_type": "code",
      "metadata": {
        "colab": {
          "base_uri": "https://localhost:8080/"
        },
        "id": "9HTrrGP2xmCl",
        "outputId": "07d0b00d-8836-4ffd-ffd4-e51d87017f99"
      },
      "source": [
        "type(data['salary'])"
      ],
      "execution_count": 114,
      "outputs": [
        {
          "output_type": "execute_result",
          "data": {
            "text/plain": [
              "pandas.core.series.Series"
            ]
          },
          "metadata": {},
          "execution_count": 114
        }
      ]
    },
    {
      "cell_type": "code",
      "metadata": {
        "colab": {
          "base_uri": "https://localhost:8080/",
          "height": 357
        },
        "id": "x3RpQKFCyKXe",
        "outputId": "d9a5ec9b-6e46-4006-f39e-52a5058e61ae"
      },
      "source": [
        "data"
      ],
      "execution_count": 121,
      "outputs": [
        {
          "output_type": "execute_result",
          "data": {
            "text/html": [
              "<div>\n",
              "<style scoped>\n",
              "    .dataframe tbody tr th:only-of-type {\n",
              "        vertical-align: middle;\n",
              "    }\n",
              "\n",
              "    .dataframe tbody tr th {\n",
              "        vertical-align: top;\n",
              "    }\n",
              "\n",
              "    .dataframe thead th {\n",
              "        text-align: right;\n",
              "    }\n",
              "</style>\n",
              "<table border=\"1\" class=\"dataframe\">\n",
              "  <thead>\n",
              "    <tr style=\"text-align: right;\">\n",
              "      <th></th>\n",
              "      <th>salary</th>\n",
              "      <th>sales</th>\n",
              "      <th>roe</th>\n",
              "      <th>industry</th>\n",
              "    </tr>\n",
              "  </thead>\n",
              "  <tbody>\n",
              "    <tr>\n",
              "      <th>0</th>\n",
              "      <td>1095.0</td>\n",
              "      <td>27595.000000</td>\n",
              "      <td>14.100000</td>\n",
              "      <td>1</td>\n",
              "    </tr>\n",
              "    <tr>\n",
              "      <th>1</th>\n",
              "      <td>NaN</td>\n",
              "      <td>9958.000000</td>\n",
              "      <td>10.900000</td>\n",
              "      <td>1</td>\n",
              "    </tr>\n",
              "    <tr>\n",
              "      <th>2</th>\n",
              "      <td>NaN</td>\n",
              "      <td>6125.899902</td>\n",
              "      <td>23.500000</td>\n",
              "      <td>1</td>\n",
              "    </tr>\n",
              "    <tr>\n",
              "      <th>3</th>\n",
              "      <td>578.0</td>\n",
              "      <td>16246.000000</td>\n",
              "      <td>5.900000</td>\n",
              "      <td>1</td>\n",
              "    </tr>\n",
              "    <tr>\n",
              "      <th>4</th>\n",
              "      <td>1368.0</td>\n",
              "      <td>NaN</td>\n",
              "      <td>13.800000</td>\n",
              "      <td>1</td>\n",
              "    </tr>\n",
              "    <tr>\n",
              "      <th>5</th>\n",
              "      <td>1145.0</td>\n",
              "      <td>NaN</td>\n",
              "      <td>20.000000</td>\n",
              "      <td>2</td>\n",
              "    </tr>\n",
              "    <tr>\n",
              "      <th>6</th>\n",
              "      <td>1078.0</td>\n",
              "      <td>2266.699951</td>\n",
              "      <td>16.400000</td>\n",
              "      <td>2</td>\n",
              "    </tr>\n",
              "    <tr>\n",
              "      <th>7</th>\n",
              "      <td>1094.0</td>\n",
              "      <td>2966.800049</td>\n",
              "      <td>16.299999</td>\n",
              "      <td>2</td>\n",
              "    </tr>\n",
              "    <tr>\n",
              "      <th>8</th>\n",
              "      <td>1237.0</td>\n",
              "      <td>4570.200195</td>\n",
              "      <td>10.500000</td>\n",
              "      <td>2</td>\n",
              "    </tr>\n",
              "    <tr>\n",
              "      <th>9</th>\n",
              "      <td>833.0</td>\n",
              "      <td>2830.000000</td>\n",
              "      <td>NaN</td>\n",
              "      <td>2</td>\n",
              "    </tr>\n",
              "  </tbody>\n",
              "</table>\n",
              "</div>"
            ],
            "text/plain": [
              "   salary         sales        roe  industry\n",
              "0  1095.0  27595.000000  14.100000         1\n",
              "1     NaN   9958.000000  10.900000         1\n",
              "2     NaN   6125.899902  23.500000         1\n",
              "3   578.0  16246.000000   5.900000         1\n",
              "4  1368.0           NaN  13.800000         1\n",
              "5  1145.0           NaN  20.000000         2\n",
              "6  1078.0   2266.699951  16.400000         2\n",
              "7  1094.0   2966.800049  16.299999         2\n",
              "8  1237.0   4570.200195  10.500000         2\n",
              "9   833.0   2830.000000        NaN         2"
            ]
          },
          "metadata": {},
          "execution_count": 121
        }
      ]
    },
    {
      "cell_type": "code",
      "metadata": {
        "id": "f8PI8dvrxvIu"
      },
      "source": [
        "a = data.dropna(axis=0)"
      ],
      "execution_count": 119,
      "outputs": []
    },
    {
      "cell_type": "code",
      "metadata": {
        "colab": {
          "base_uri": "https://localhost:8080/",
          "height": 203
        },
        "id": "RgxnmVq2yPk_",
        "outputId": "76c94a33-ab96-48dc-9f14-79c7c8678f6f"
      },
      "source": [
        "a"
      ],
      "execution_count": 120,
      "outputs": [
        {
          "output_type": "execute_result",
          "data": {
            "text/html": [
              "<div>\n",
              "<style scoped>\n",
              "    .dataframe tbody tr th:only-of-type {\n",
              "        vertical-align: middle;\n",
              "    }\n",
              "\n",
              "    .dataframe tbody tr th {\n",
              "        vertical-align: top;\n",
              "    }\n",
              "\n",
              "    .dataframe thead th {\n",
              "        text-align: right;\n",
              "    }\n",
              "</style>\n",
              "<table border=\"1\" class=\"dataframe\">\n",
              "  <thead>\n",
              "    <tr style=\"text-align: right;\">\n",
              "      <th></th>\n",
              "      <th>salary</th>\n",
              "      <th>sales</th>\n",
              "      <th>roe</th>\n",
              "      <th>industry</th>\n",
              "    </tr>\n",
              "  </thead>\n",
              "  <tbody>\n",
              "    <tr>\n",
              "      <th>0</th>\n",
              "      <td>1095.0</td>\n",
              "      <td>27595.000000</td>\n",
              "      <td>14.100000</td>\n",
              "      <td>1</td>\n",
              "    </tr>\n",
              "    <tr>\n",
              "      <th>3</th>\n",
              "      <td>578.0</td>\n",
              "      <td>16246.000000</td>\n",
              "      <td>5.900000</td>\n",
              "      <td>1</td>\n",
              "    </tr>\n",
              "    <tr>\n",
              "      <th>6</th>\n",
              "      <td>1078.0</td>\n",
              "      <td>2266.699951</td>\n",
              "      <td>16.400000</td>\n",
              "      <td>2</td>\n",
              "    </tr>\n",
              "    <tr>\n",
              "      <th>7</th>\n",
              "      <td>1094.0</td>\n",
              "      <td>2966.800049</td>\n",
              "      <td>16.299999</td>\n",
              "      <td>2</td>\n",
              "    </tr>\n",
              "    <tr>\n",
              "      <th>8</th>\n",
              "      <td>1237.0</td>\n",
              "      <td>4570.200195</td>\n",
              "      <td>10.500000</td>\n",
              "      <td>2</td>\n",
              "    </tr>\n",
              "  </tbody>\n",
              "</table>\n",
              "</div>"
            ],
            "text/plain": [
              "   salary         sales        roe  industry\n",
              "0  1095.0  27595.000000  14.100000         1\n",
              "3   578.0  16246.000000   5.900000         1\n",
              "6  1078.0   2266.699951  16.400000         2\n",
              "7  1094.0   2966.800049  16.299999         2\n",
              "8  1237.0   4570.200195  10.500000         2"
            ]
          },
          "metadata": {},
          "execution_count": 120
        }
      ]
    },
    {
      "cell_type": "code",
      "metadata": {
        "id": "Aaqf1t_yyTec"
      },
      "source": [
        "data = pd.read_csv('Ex_Missing.csv')"
      ],
      "execution_count": 123,
      "outputs": []
    },
    {
      "cell_type": "code",
      "metadata": {
        "colab": {
          "base_uri": "https://localhost:8080/",
          "height": 357
        },
        "id": "U5QDtapDzGt0",
        "outputId": "532776f3-0c93-4ca4-b7ca-8dc389ade7d0"
      },
      "source": [
        "data"
      ],
      "execution_count": 125,
      "outputs": [
        {
          "output_type": "execute_result",
          "data": {
            "text/html": [
              "<div>\n",
              "<style scoped>\n",
              "    .dataframe tbody tr th:only-of-type {\n",
              "        vertical-align: middle;\n",
              "    }\n",
              "\n",
              "    .dataframe tbody tr th {\n",
              "        vertical-align: top;\n",
              "    }\n",
              "\n",
              "    .dataframe thead th {\n",
              "        text-align: right;\n",
              "    }\n",
              "</style>\n",
              "<table border=\"1\" class=\"dataframe\">\n",
              "  <thead>\n",
              "    <tr style=\"text-align: right;\">\n",
              "      <th></th>\n",
              "      <th>salary</th>\n",
              "      <th>sales</th>\n",
              "      <th>roe</th>\n",
              "      <th>industry</th>\n",
              "    </tr>\n",
              "  </thead>\n",
              "  <tbody>\n",
              "    <tr>\n",
              "      <th>0</th>\n",
              "      <td>1095.0</td>\n",
              "      <td>27595.000000</td>\n",
              "      <td>14.100000</td>\n",
              "      <td>1</td>\n",
              "    </tr>\n",
              "    <tr>\n",
              "      <th>1</th>\n",
              "      <td>NaN</td>\n",
              "      <td>9958.000000</td>\n",
              "      <td>10.900000</td>\n",
              "      <td>1</td>\n",
              "    </tr>\n",
              "    <tr>\n",
              "      <th>2</th>\n",
              "      <td>NaN</td>\n",
              "      <td>6125.899902</td>\n",
              "      <td>23.500000</td>\n",
              "      <td>1</td>\n",
              "    </tr>\n",
              "    <tr>\n",
              "      <th>3</th>\n",
              "      <td>578.0</td>\n",
              "      <td>16246.000000</td>\n",
              "      <td>5.900000</td>\n",
              "      <td>1</td>\n",
              "    </tr>\n",
              "    <tr>\n",
              "      <th>4</th>\n",
              "      <td>1368.0</td>\n",
              "      <td>NaN</td>\n",
              "      <td>13.800000</td>\n",
              "      <td>1</td>\n",
              "    </tr>\n",
              "    <tr>\n",
              "      <th>5</th>\n",
              "      <td>1145.0</td>\n",
              "      <td>NaN</td>\n",
              "      <td>20.000000</td>\n",
              "      <td>2</td>\n",
              "    </tr>\n",
              "    <tr>\n",
              "      <th>6</th>\n",
              "      <td>1078.0</td>\n",
              "      <td>2266.699951</td>\n",
              "      <td>16.400000</td>\n",
              "      <td>2</td>\n",
              "    </tr>\n",
              "    <tr>\n",
              "      <th>7</th>\n",
              "      <td>1094.0</td>\n",
              "      <td>2966.800049</td>\n",
              "      <td>16.299999</td>\n",
              "      <td>2</td>\n",
              "    </tr>\n",
              "    <tr>\n",
              "      <th>8</th>\n",
              "      <td>1237.0</td>\n",
              "      <td>4570.200195</td>\n",
              "      <td>10.500000</td>\n",
              "      <td>2</td>\n",
              "    </tr>\n",
              "    <tr>\n",
              "      <th>9</th>\n",
              "      <td>833.0</td>\n",
              "      <td>2830.000000</td>\n",
              "      <td>NaN</td>\n",
              "      <td>2</td>\n",
              "    </tr>\n",
              "  </tbody>\n",
              "</table>\n",
              "</div>"
            ],
            "text/plain": [
              "   salary         sales        roe  industry\n",
              "0  1095.0  27595.000000  14.100000         1\n",
              "1     NaN   9958.000000  10.900000         1\n",
              "2     NaN   6125.899902  23.500000         1\n",
              "3   578.0  16246.000000   5.900000         1\n",
              "4  1368.0           NaN  13.800000         1\n",
              "5  1145.0           NaN  20.000000         2\n",
              "6  1078.0   2266.699951  16.400000         2\n",
              "7  1094.0   2966.800049  16.299999         2\n",
              "8  1237.0   4570.200195  10.500000         2\n",
              "9   833.0   2830.000000        NaN         2"
            ]
          },
          "metadata": {},
          "execution_count": 125
        }
      ]
    },
    {
      "cell_type": "code",
      "metadata": {
        "id": "UdMfz7S4zLaA"
      },
      "source": [
        "a = data.fillna(0)"
      ],
      "execution_count": 126,
      "outputs": []
    },
    {
      "cell_type": "code",
      "metadata": {
        "colab": {
          "base_uri": "https://localhost:8080/",
          "height": 357
        },
        "id": "ZOVjb2Uwzb6Y",
        "outputId": "73ecdb0b-5b39-4fc9-a0c4-c851d25a5bbd"
      },
      "source": [
        "a"
      ],
      "execution_count": 127,
      "outputs": [
        {
          "output_type": "execute_result",
          "data": {
            "text/html": [
              "<div>\n",
              "<style scoped>\n",
              "    .dataframe tbody tr th:only-of-type {\n",
              "        vertical-align: middle;\n",
              "    }\n",
              "\n",
              "    .dataframe tbody tr th {\n",
              "        vertical-align: top;\n",
              "    }\n",
              "\n",
              "    .dataframe thead th {\n",
              "        text-align: right;\n",
              "    }\n",
              "</style>\n",
              "<table border=\"1\" class=\"dataframe\">\n",
              "  <thead>\n",
              "    <tr style=\"text-align: right;\">\n",
              "      <th></th>\n",
              "      <th>salary</th>\n",
              "      <th>sales</th>\n",
              "      <th>roe</th>\n",
              "      <th>industry</th>\n",
              "    </tr>\n",
              "  </thead>\n",
              "  <tbody>\n",
              "    <tr>\n",
              "      <th>0</th>\n",
              "      <td>1095.0</td>\n",
              "      <td>27595.000000</td>\n",
              "      <td>14.100000</td>\n",
              "      <td>1</td>\n",
              "    </tr>\n",
              "    <tr>\n",
              "      <th>1</th>\n",
              "      <td>0.0</td>\n",
              "      <td>9958.000000</td>\n",
              "      <td>10.900000</td>\n",
              "      <td>1</td>\n",
              "    </tr>\n",
              "    <tr>\n",
              "      <th>2</th>\n",
              "      <td>0.0</td>\n",
              "      <td>6125.899902</td>\n",
              "      <td>23.500000</td>\n",
              "      <td>1</td>\n",
              "    </tr>\n",
              "    <tr>\n",
              "      <th>3</th>\n",
              "      <td>578.0</td>\n",
              "      <td>16246.000000</td>\n",
              "      <td>5.900000</td>\n",
              "      <td>1</td>\n",
              "    </tr>\n",
              "    <tr>\n",
              "      <th>4</th>\n",
              "      <td>1368.0</td>\n",
              "      <td>0.000000</td>\n",
              "      <td>13.800000</td>\n",
              "      <td>1</td>\n",
              "    </tr>\n",
              "    <tr>\n",
              "      <th>5</th>\n",
              "      <td>1145.0</td>\n",
              "      <td>0.000000</td>\n",
              "      <td>20.000000</td>\n",
              "      <td>2</td>\n",
              "    </tr>\n",
              "    <tr>\n",
              "      <th>6</th>\n",
              "      <td>1078.0</td>\n",
              "      <td>2266.699951</td>\n",
              "      <td>16.400000</td>\n",
              "      <td>2</td>\n",
              "    </tr>\n",
              "    <tr>\n",
              "      <th>7</th>\n",
              "      <td>1094.0</td>\n",
              "      <td>2966.800049</td>\n",
              "      <td>16.299999</td>\n",
              "      <td>2</td>\n",
              "    </tr>\n",
              "    <tr>\n",
              "      <th>8</th>\n",
              "      <td>1237.0</td>\n",
              "      <td>4570.200195</td>\n",
              "      <td>10.500000</td>\n",
              "      <td>2</td>\n",
              "    </tr>\n",
              "    <tr>\n",
              "      <th>9</th>\n",
              "      <td>833.0</td>\n",
              "      <td>2830.000000</td>\n",
              "      <td>0.000000</td>\n",
              "      <td>2</td>\n",
              "    </tr>\n",
              "  </tbody>\n",
              "</table>\n",
              "</div>"
            ],
            "text/plain": [
              "   salary         sales        roe  industry\n",
              "0  1095.0  27595.000000  14.100000         1\n",
              "1     0.0   9958.000000  10.900000         1\n",
              "2     0.0   6125.899902  23.500000         1\n",
              "3   578.0  16246.000000   5.900000         1\n",
              "4  1368.0      0.000000  13.800000         1\n",
              "5  1145.0      0.000000  20.000000         2\n",
              "6  1078.0   2266.699951  16.400000         2\n",
              "7  1094.0   2966.800049  16.299999         2\n",
              "8  1237.0   4570.200195  10.500000         2\n",
              "9   833.0   2830.000000   0.000000         2"
            ]
          },
          "metadata": {},
          "execution_count": 127
        }
      ]
    },
    {
      "cell_type": "code",
      "metadata": {
        "id": "6yCsh75vzcjb"
      },
      "source": [
        "b= data.fillna('missing')"
      ],
      "execution_count": 128,
      "outputs": []
    },
    {
      "cell_type": "code",
      "metadata": {
        "colab": {
          "base_uri": "https://localhost:8080/",
          "height": 357
        },
        "id": "btsGWTxlzf_0",
        "outputId": "5e7f70e0-32fd-4a1f-e3e0-57231f9990a4"
      },
      "source": [
        "b"
      ],
      "execution_count": 129,
      "outputs": [
        {
          "output_type": "execute_result",
          "data": {
            "text/html": [
              "<div>\n",
              "<style scoped>\n",
              "    .dataframe tbody tr th:only-of-type {\n",
              "        vertical-align: middle;\n",
              "    }\n",
              "\n",
              "    .dataframe tbody tr th {\n",
              "        vertical-align: top;\n",
              "    }\n",
              "\n",
              "    .dataframe thead th {\n",
              "        text-align: right;\n",
              "    }\n",
              "</style>\n",
              "<table border=\"1\" class=\"dataframe\">\n",
              "  <thead>\n",
              "    <tr style=\"text-align: right;\">\n",
              "      <th></th>\n",
              "      <th>salary</th>\n",
              "      <th>sales</th>\n",
              "      <th>roe</th>\n",
              "      <th>industry</th>\n",
              "    </tr>\n",
              "  </thead>\n",
              "  <tbody>\n",
              "    <tr>\n",
              "      <th>0</th>\n",
              "      <td>1095</td>\n",
              "      <td>27595</td>\n",
              "      <td>14.1</td>\n",
              "      <td>1</td>\n",
              "    </tr>\n",
              "    <tr>\n",
              "      <th>1</th>\n",
              "      <td>missing</td>\n",
              "      <td>9958</td>\n",
              "      <td>10.9</td>\n",
              "      <td>1</td>\n",
              "    </tr>\n",
              "    <tr>\n",
              "      <th>2</th>\n",
              "      <td>missing</td>\n",
              "      <td>6125.9</td>\n",
              "      <td>23.5</td>\n",
              "      <td>1</td>\n",
              "    </tr>\n",
              "    <tr>\n",
              "      <th>3</th>\n",
              "      <td>578</td>\n",
              "      <td>16246</td>\n",
              "      <td>5.9</td>\n",
              "      <td>1</td>\n",
              "    </tr>\n",
              "    <tr>\n",
              "      <th>4</th>\n",
              "      <td>1368</td>\n",
              "      <td>missing</td>\n",
              "      <td>13.8</td>\n",
              "      <td>1</td>\n",
              "    </tr>\n",
              "    <tr>\n",
              "      <th>5</th>\n",
              "      <td>1145</td>\n",
              "      <td>missing</td>\n",
              "      <td>20</td>\n",
              "      <td>2</td>\n",
              "    </tr>\n",
              "    <tr>\n",
              "      <th>6</th>\n",
              "      <td>1078</td>\n",
              "      <td>2266.7</td>\n",
              "      <td>16.4</td>\n",
              "      <td>2</td>\n",
              "    </tr>\n",
              "    <tr>\n",
              "      <th>7</th>\n",
              "      <td>1094</td>\n",
              "      <td>2966.8</td>\n",
              "      <td>16.3</td>\n",
              "      <td>2</td>\n",
              "    </tr>\n",
              "    <tr>\n",
              "      <th>8</th>\n",
              "      <td>1237</td>\n",
              "      <td>4570.2</td>\n",
              "      <td>10.5</td>\n",
              "      <td>2</td>\n",
              "    </tr>\n",
              "    <tr>\n",
              "      <th>9</th>\n",
              "      <td>833</td>\n",
              "      <td>2830</td>\n",
              "      <td>missing</td>\n",
              "      <td>2</td>\n",
              "    </tr>\n",
              "  </tbody>\n",
              "</table>\n",
              "</div>"
            ],
            "text/plain": [
              "    salary    sales      roe  industry\n",
              "0     1095    27595     14.1         1\n",
              "1  missing     9958     10.9         1\n",
              "2  missing   6125.9     23.5         1\n",
              "3      578    16246      5.9         1\n",
              "4     1368  missing     13.8         1\n",
              "5     1145  missing       20         2\n",
              "6     1078   2266.7     16.4         2\n",
              "7     1094   2966.8     16.3         2\n",
              "8     1237   4570.2     10.5         2\n",
              "9      833     2830  missing         2"
            ]
          },
          "metadata": {},
          "execution_count": 129
        }
      ]
    },
    {
      "cell_type": "code",
      "metadata": {
        "id": "O6_Oj175zgYm"
      },
      "source": [
        "c = data.fillna(method = 'ffill')"
      ],
      "execution_count": 130,
      "outputs": []
    },
    {
      "cell_type": "code",
      "metadata": {
        "colab": {
          "base_uri": "https://localhost:8080/",
          "height": 357
        },
        "id": "7WKqfXPszlFP",
        "outputId": "323dea69-7dba-4fe8-dd90-a33831cb8bcc"
      },
      "source": [
        "c"
      ],
      "execution_count": 131,
      "outputs": [
        {
          "output_type": "execute_result",
          "data": {
            "text/html": [
              "<div>\n",
              "<style scoped>\n",
              "    .dataframe tbody tr th:only-of-type {\n",
              "        vertical-align: middle;\n",
              "    }\n",
              "\n",
              "    .dataframe tbody tr th {\n",
              "        vertical-align: top;\n",
              "    }\n",
              "\n",
              "    .dataframe thead th {\n",
              "        text-align: right;\n",
              "    }\n",
              "</style>\n",
              "<table border=\"1\" class=\"dataframe\">\n",
              "  <thead>\n",
              "    <tr style=\"text-align: right;\">\n",
              "      <th></th>\n",
              "      <th>salary</th>\n",
              "      <th>sales</th>\n",
              "      <th>roe</th>\n",
              "      <th>industry</th>\n",
              "    </tr>\n",
              "  </thead>\n",
              "  <tbody>\n",
              "    <tr>\n",
              "      <th>0</th>\n",
              "      <td>1095.0</td>\n",
              "      <td>27595.000000</td>\n",
              "      <td>14.100000</td>\n",
              "      <td>1</td>\n",
              "    </tr>\n",
              "    <tr>\n",
              "      <th>1</th>\n",
              "      <td>1095.0</td>\n",
              "      <td>9958.000000</td>\n",
              "      <td>10.900000</td>\n",
              "      <td>1</td>\n",
              "    </tr>\n",
              "    <tr>\n",
              "      <th>2</th>\n",
              "      <td>1095.0</td>\n",
              "      <td>6125.899902</td>\n",
              "      <td>23.500000</td>\n",
              "      <td>1</td>\n",
              "    </tr>\n",
              "    <tr>\n",
              "      <th>3</th>\n",
              "      <td>578.0</td>\n",
              "      <td>16246.000000</td>\n",
              "      <td>5.900000</td>\n",
              "      <td>1</td>\n",
              "    </tr>\n",
              "    <tr>\n",
              "      <th>4</th>\n",
              "      <td>1368.0</td>\n",
              "      <td>16246.000000</td>\n",
              "      <td>13.800000</td>\n",
              "      <td>1</td>\n",
              "    </tr>\n",
              "    <tr>\n",
              "      <th>5</th>\n",
              "      <td>1145.0</td>\n",
              "      <td>16246.000000</td>\n",
              "      <td>20.000000</td>\n",
              "      <td>2</td>\n",
              "    </tr>\n",
              "    <tr>\n",
              "      <th>6</th>\n",
              "      <td>1078.0</td>\n",
              "      <td>2266.699951</td>\n",
              "      <td>16.400000</td>\n",
              "      <td>2</td>\n",
              "    </tr>\n",
              "    <tr>\n",
              "      <th>7</th>\n",
              "      <td>1094.0</td>\n",
              "      <td>2966.800049</td>\n",
              "      <td>16.299999</td>\n",
              "      <td>2</td>\n",
              "    </tr>\n",
              "    <tr>\n",
              "      <th>8</th>\n",
              "      <td>1237.0</td>\n",
              "      <td>4570.200195</td>\n",
              "      <td>10.500000</td>\n",
              "      <td>2</td>\n",
              "    </tr>\n",
              "    <tr>\n",
              "      <th>9</th>\n",
              "      <td>833.0</td>\n",
              "      <td>2830.000000</td>\n",
              "      <td>10.500000</td>\n",
              "      <td>2</td>\n",
              "    </tr>\n",
              "  </tbody>\n",
              "</table>\n",
              "</div>"
            ],
            "text/plain": [
              "   salary         sales        roe  industry\n",
              "0  1095.0  27595.000000  14.100000         1\n",
              "1  1095.0   9958.000000  10.900000         1\n",
              "2  1095.0   6125.899902  23.500000         1\n",
              "3   578.0  16246.000000   5.900000         1\n",
              "4  1368.0  16246.000000  13.800000         1\n",
              "5  1145.0  16246.000000  20.000000         2\n",
              "6  1078.0   2266.699951  16.400000         2\n",
              "7  1094.0   2966.800049  16.299999         2\n",
              "8  1237.0   4570.200195  10.500000         2\n",
              "9   833.0   2830.000000  10.500000         2"
            ]
          },
          "metadata": {},
          "execution_count": 131
        }
      ]
    },
    {
      "cell_type": "code",
      "metadata": {
        "id": "V9HKqF1fzliQ"
      },
      "source": [
        "c = data.fillna(method = 'bfill')"
      ],
      "execution_count": 132,
      "outputs": []
    },
    {
      "cell_type": "code",
      "metadata": {
        "colab": {
          "base_uri": "https://localhost:8080/",
          "height": 357
        },
        "id": "wCdQS7-1zpCM",
        "outputId": "e2835402-7eb9-4c91-e5c2-8e87df9459de"
      },
      "source": [
        "c"
      ],
      "execution_count": 133,
      "outputs": [
        {
          "output_type": "execute_result",
          "data": {
            "text/html": [
              "<div>\n",
              "<style scoped>\n",
              "    .dataframe tbody tr th:only-of-type {\n",
              "        vertical-align: middle;\n",
              "    }\n",
              "\n",
              "    .dataframe tbody tr th {\n",
              "        vertical-align: top;\n",
              "    }\n",
              "\n",
              "    .dataframe thead th {\n",
              "        text-align: right;\n",
              "    }\n",
              "</style>\n",
              "<table border=\"1\" class=\"dataframe\">\n",
              "  <thead>\n",
              "    <tr style=\"text-align: right;\">\n",
              "      <th></th>\n",
              "      <th>salary</th>\n",
              "      <th>sales</th>\n",
              "      <th>roe</th>\n",
              "      <th>industry</th>\n",
              "    </tr>\n",
              "  </thead>\n",
              "  <tbody>\n",
              "    <tr>\n",
              "      <th>0</th>\n",
              "      <td>1095.0</td>\n",
              "      <td>27595.000000</td>\n",
              "      <td>14.100000</td>\n",
              "      <td>1</td>\n",
              "    </tr>\n",
              "    <tr>\n",
              "      <th>1</th>\n",
              "      <td>578.0</td>\n",
              "      <td>9958.000000</td>\n",
              "      <td>10.900000</td>\n",
              "      <td>1</td>\n",
              "    </tr>\n",
              "    <tr>\n",
              "      <th>2</th>\n",
              "      <td>578.0</td>\n",
              "      <td>6125.899902</td>\n",
              "      <td>23.500000</td>\n",
              "      <td>1</td>\n",
              "    </tr>\n",
              "    <tr>\n",
              "      <th>3</th>\n",
              "      <td>578.0</td>\n",
              "      <td>16246.000000</td>\n",
              "      <td>5.900000</td>\n",
              "      <td>1</td>\n",
              "    </tr>\n",
              "    <tr>\n",
              "      <th>4</th>\n",
              "      <td>1368.0</td>\n",
              "      <td>2266.699951</td>\n",
              "      <td>13.800000</td>\n",
              "      <td>1</td>\n",
              "    </tr>\n",
              "    <tr>\n",
              "      <th>5</th>\n",
              "      <td>1145.0</td>\n",
              "      <td>2266.699951</td>\n",
              "      <td>20.000000</td>\n",
              "      <td>2</td>\n",
              "    </tr>\n",
              "    <tr>\n",
              "      <th>6</th>\n",
              "      <td>1078.0</td>\n",
              "      <td>2266.699951</td>\n",
              "      <td>16.400000</td>\n",
              "      <td>2</td>\n",
              "    </tr>\n",
              "    <tr>\n",
              "      <th>7</th>\n",
              "      <td>1094.0</td>\n",
              "      <td>2966.800049</td>\n",
              "      <td>16.299999</td>\n",
              "      <td>2</td>\n",
              "    </tr>\n",
              "    <tr>\n",
              "      <th>8</th>\n",
              "      <td>1237.0</td>\n",
              "      <td>4570.200195</td>\n",
              "      <td>10.500000</td>\n",
              "      <td>2</td>\n",
              "    </tr>\n",
              "    <tr>\n",
              "      <th>9</th>\n",
              "      <td>833.0</td>\n",
              "      <td>2830.000000</td>\n",
              "      <td>NaN</td>\n",
              "      <td>2</td>\n",
              "    </tr>\n",
              "  </tbody>\n",
              "</table>\n",
              "</div>"
            ],
            "text/plain": [
              "   salary         sales        roe  industry\n",
              "0  1095.0  27595.000000  14.100000         1\n",
              "1   578.0   9958.000000  10.900000         1\n",
              "2   578.0   6125.899902  23.500000         1\n",
              "3   578.0  16246.000000   5.900000         1\n",
              "4  1368.0   2266.699951  13.800000         1\n",
              "5  1145.0   2266.699951  20.000000         2\n",
              "6  1078.0   2266.699951  16.400000         2\n",
              "7  1094.0   2966.800049  16.299999         2\n",
              "8  1237.0   4570.200195  10.500000         2\n",
              "9   833.0   2830.000000        NaN         2"
            ]
          },
          "metadata": {},
          "execution_count": 133
        }
      ]
    },
    {
      "cell_type": "code",
      "metadata": {
        "id": "9_DG6s3Uzpv8"
      },
      "source": [
        "d = data.fillna(data.mean())"
      ],
      "execution_count": 134,
      "outputs": []
    },
    {
      "cell_type": "code",
      "metadata": {
        "colab": {
          "base_uri": "https://localhost:8080/",
          "height": 357
        },
        "id": "AQzrfyJP0LGl",
        "outputId": "c2d255a4-6f7a-4cde-aa37-aaa2d29f2c43"
      },
      "source": [
        "d"
      ],
      "execution_count": 135,
      "outputs": [
        {
          "output_type": "execute_result",
          "data": {
            "text/html": [
              "<div>\n",
              "<style scoped>\n",
              "    .dataframe tbody tr th:only-of-type {\n",
              "        vertical-align: middle;\n",
              "    }\n",
              "\n",
              "    .dataframe tbody tr th {\n",
              "        vertical-align: top;\n",
              "    }\n",
              "\n",
              "    .dataframe thead th {\n",
              "        text-align: right;\n",
              "    }\n",
              "</style>\n",
              "<table border=\"1\" class=\"dataframe\">\n",
              "  <thead>\n",
              "    <tr style=\"text-align: right;\">\n",
              "      <th></th>\n",
              "      <th>salary</th>\n",
              "      <th>sales</th>\n",
              "      <th>roe</th>\n",
              "      <th>industry</th>\n",
              "    </tr>\n",
              "  </thead>\n",
              "  <tbody>\n",
              "    <tr>\n",
              "      <th>0</th>\n",
              "      <td>1095.0</td>\n",
              "      <td>27595.000000</td>\n",
              "      <td>14.100000</td>\n",
              "      <td>1</td>\n",
              "    </tr>\n",
              "    <tr>\n",
              "      <th>1</th>\n",
              "      <td>1053.5</td>\n",
              "      <td>9958.000000</td>\n",
              "      <td>10.900000</td>\n",
              "      <td>1</td>\n",
              "    </tr>\n",
              "    <tr>\n",
              "      <th>2</th>\n",
              "      <td>1053.5</td>\n",
              "      <td>6125.899902</td>\n",
              "      <td>23.500000</td>\n",
              "      <td>1</td>\n",
              "    </tr>\n",
              "    <tr>\n",
              "      <th>3</th>\n",
              "      <td>578.0</td>\n",
              "      <td>16246.000000</td>\n",
              "      <td>5.900000</td>\n",
              "      <td>1</td>\n",
              "    </tr>\n",
              "    <tr>\n",
              "      <th>4</th>\n",
              "      <td>1368.0</td>\n",
              "      <td>9069.825012</td>\n",
              "      <td>13.800000</td>\n",
              "      <td>1</td>\n",
              "    </tr>\n",
              "    <tr>\n",
              "      <th>5</th>\n",
              "      <td>1145.0</td>\n",
              "      <td>9069.825012</td>\n",
              "      <td>20.000000</td>\n",
              "      <td>2</td>\n",
              "    </tr>\n",
              "    <tr>\n",
              "      <th>6</th>\n",
              "      <td>1078.0</td>\n",
              "      <td>2266.699951</td>\n",
              "      <td>16.400000</td>\n",
              "      <td>2</td>\n",
              "    </tr>\n",
              "    <tr>\n",
              "      <th>7</th>\n",
              "      <td>1094.0</td>\n",
              "      <td>2966.800049</td>\n",
              "      <td>16.299999</td>\n",
              "      <td>2</td>\n",
              "    </tr>\n",
              "    <tr>\n",
              "      <th>8</th>\n",
              "      <td>1237.0</td>\n",
              "      <td>4570.200195</td>\n",
              "      <td>10.500000</td>\n",
              "      <td>2</td>\n",
              "    </tr>\n",
              "    <tr>\n",
              "      <th>9</th>\n",
              "      <td>833.0</td>\n",
              "      <td>2830.000000</td>\n",
              "      <td>14.600000</td>\n",
              "      <td>2</td>\n",
              "    </tr>\n",
              "  </tbody>\n",
              "</table>\n",
              "</div>"
            ],
            "text/plain": [
              "   salary         sales        roe  industry\n",
              "0  1095.0  27595.000000  14.100000         1\n",
              "1  1053.5   9958.000000  10.900000         1\n",
              "2  1053.5   6125.899902  23.500000         1\n",
              "3   578.0  16246.000000   5.900000         1\n",
              "4  1368.0   9069.825012  13.800000         1\n",
              "5  1145.0   9069.825012  20.000000         2\n",
              "6  1078.0   2266.699951  16.400000         2\n",
              "7  1094.0   2966.800049  16.299999         2\n",
              "8  1237.0   4570.200195  10.500000         2\n",
              "9   833.0   2830.000000  14.600000         2"
            ]
          },
          "metadata": {},
          "execution_count": 135
        }
      ]
    },
    {
      "cell_type": "code",
      "metadata": {
        "id": "FY81KmYC0LrC"
      },
      "source": [
        "e = data.fillna(data.median())"
      ],
      "execution_count": 136,
      "outputs": []
    },
    {
      "cell_type": "code",
      "metadata": {
        "colab": {
          "base_uri": "https://localhost:8080/",
          "height": 357
        },
        "id": "PImgojAW0Q_B",
        "outputId": "bea065e4-832e-4237-ea01-26f7e8419249"
      },
      "source": [
        "e"
      ],
      "execution_count": 137,
      "outputs": [
        {
          "output_type": "execute_result",
          "data": {
            "text/html": [
              "<div>\n",
              "<style scoped>\n",
              "    .dataframe tbody tr th:only-of-type {\n",
              "        vertical-align: middle;\n",
              "    }\n",
              "\n",
              "    .dataframe tbody tr th {\n",
              "        vertical-align: top;\n",
              "    }\n",
              "\n",
              "    .dataframe thead th {\n",
              "        text-align: right;\n",
              "    }\n",
              "</style>\n",
              "<table border=\"1\" class=\"dataframe\">\n",
              "  <thead>\n",
              "    <tr style=\"text-align: right;\">\n",
              "      <th></th>\n",
              "      <th>salary</th>\n",
              "      <th>sales</th>\n",
              "      <th>roe</th>\n",
              "      <th>industry</th>\n",
              "    </tr>\n",
              "  </thead>\n",
              "  <tbody>\n",
              "    <tr>\n",
              "      <th>0</th>\n",
              "      <td>1095.0</td>\n",
              "      <td>27595.000000</td>\n",
              "      <td>14.100000</td>\n",
              "      <td>1</td>\n",
              "    </tr>\n",
              "    <tr>\n",
              "      <th>1</th>\n",
              "      <td>1094.5</td>\n",
              "      <td>9958.000000</td>\n",
              "      <td>10.900000</td>\n",
              "      <td>1</td>\n",
              "    </tr>\n",
              "    <tr>\n",
              "      <th>2</th>\n",
              "      <td>1094.5</td>\n",
              "      <td>6125.899902</td>\n",
              "      <td>23.500000</td>\n",
              "      <td>1</td>\n",
              "    </tr>\n",
              "    <tr>\n",
              "      <th>3</th>\n",
              "      <td>578.0</td>\n",
              "      <td>16246.000000</td>\n",
              "      <td>5.900000</td>\n",
              "      <td>1</td>\n",
              "    </tr>\n",
              "    <tr>\n",
              "      <th>4</th>\n",
              "      <td>1368.0</td>\n",
              "      <td>5348.050049</td>\n",
              "      <td>13.800000</td>\n",
              "      <td>1</td>\n",
              "    </tr>\n",
              "    <tr>\n",
              "      <th>5</th>\n",
              "      <td>1145.0</td>\n",
              "      <td>5348.050049</td>\n",
              "      <td>20.000000</td>\n",
              "      <td>2</td>\n",
              "    </tr>\n",
              "    <tr>\n",
              "      <th>6</th>\n",
              "      <td>1078.0</td>\n",
              "      <td>2266.699951</td>\n",
              "      <td>16.400000</td>\n",
              "      <td>2</td>\n",
              "    </tr>\n",
              "    <tr>\n",
              "      <th>7</th>\n",
              "      <td>1094.0</td>\n",
              "      <td>2966.800049</td>\n",
              "      <td>16.299999</td>\n",
              "      <td>2</td>\n",
              "    </tr>\n",
              "    <tr>\n",
              "      <th>8</th>\n",
              "      <td>1237.0</td>\n",
              "      <td>4570.200195</td>\n",
              "      <td>10.500000</td>\n",
              "      <td>2</td>\n",
              "    </tr>\n",
              "    <tr>\n",
              "      <th>9</th>\n",
              "      <td>833.0</td>\n",
              "      <td>2830.000000</td>\n",
              "      <td>14.100000</td>\n",
              "      <td>2</td>\n",
              "    </tr>\n",
              "  </tbody>\n",
              "</table>\n",
              "</div>"
            ],
            "text/plain": [
              "   salary         sales        roe  industry\n",
              "0  1095.0  27595.000000  14.100000         1\n",
              "1  1094.5   9958.000000  10.900000         1\n",
              "2  1094.5   6125.899902  23.500000         1\n",
              "3   578.0  16246.000000   5.900000         1\n",
              "4  1368.0   5348.050049  13.800000         1\n",
              "5  1145.0   5348.050049  20.000000         2\n",
              "6  1078.0   2266.699951  16.400000         2\n",
              "7  1094.0   2966.800049  16.299999         2\n",
              "8  1237.0   4570.200195  10.500000         2\n",
              "9   833.0   2830.000000  14.100000         2"
            ]
          },
          "metadata": {},
          "execution_count": 137
        }
      ]
    },
    {
      "cell_type": "code",
      "metadata": {
        "id": "GlDUByeY0Re-"
      },
      "source": [
        "f = data.fillna(data.max())"
      ],
      "execution_count": 138,
      "outputs": []
    },
    {
      "cell_type": "code",
      "metadata": {
        "colab": {
          "base_uri": "https://localhost:8080/",
          "height": 357
        },
        "id": "S6vIgnBg0Yle",
        "outputId": "9dea86fb-7763-4667-d98e-acacf8097148"
      },
      "source": [
        "f"
      ],
      "execution_count": 139,
      "outputs": [
        {
          "output_type": "execute_result",
          "data": {
            "text/html": [
              "<div>\n",
              "<style scoped>\n",
              "    .dataframe tbody tr th:only-of-type {\n",
              "        vertical-align: middle;\n",
              "    }\n",
              "\n",
              "    .dataframe tbody tr th {\n",
              "        vertical-align: top;\n",
              "    }\n",
              "\n",
              "    .dataframe thead th {\n",
              "        text-align: right;\n",
              "    }\n",
              "</style>\n",
              "<table border=\"1\" class=\"dataframe\">\n",
              "  <thead>\n",
              "    <tr style=\"text-align: right;\">\n",
              "      <th></th>\n",
              "      <th>salary</th>\n",
              "      <th>sales</th>\n",
              "      <th>roe</th>\n",
              "      <th>industry</th>\n",
              "    </tr>\n",
              "  </thead>\n",
              "  <tbody>\n",
              "    <tr>\n",
              "      <th>0</th>\n",
              "      <td>1095.0</td>\n",
              "      <td>27595.000000</td>\n",
              "      <td>14.100000</td>\n",
              "      <td>1</td>\n",
              "    </tr>\n",
              "    <tr>\n",
              "      <th>1</th>\n",
              "      <td>1368.0</td>\n",
              "      <td>9958.000000</td>\n",
              "      <td>10.900000</td>\n",
              "      <td>1</td>\n",
              "    </tr>\n",
              "    <tr>\n",
              "      <th>2</th>\n",
              "      <td>1368.0</td>\n",
              "      <td>6125.899902</td>\n",
              "      <td>23.500000</td>\n",
              "      <td>1</td>\n",
              "    </tr>\n",
              "    <tr>\n",
              "      <th>3</th>\n",
              "      <td>578.0</td>\n",
              "      <td>16246.000000</td>\n",
              "      <td>5.900000</td>\n",
              "      <td>1</td>\n",
              "    </tr>\n",
              "    <tr>\n",
              "      <th>4</th>\n",
              "      <td>1368.0</td>\n",
              "      <td>27595.000000</td>\n",
              "      <td>13.800000</td>\n",
              "      <td>1</td>\n",
              "    </tr>\n",
              "    <tr>\n",
              "      <th>5</th>\n",
              "      <td>1145.0</td>\n",
              "      <td>27595.000000</td>\n",
              "      <td>20.000000</td>\n",
              "      <td>2</td>\n",
              "    </tr>\n",
              "    <tr>\n",
              "      <th>6</th>\n",
              "      <td>1078.0</td>\n",
              "      <td>2266.699951</td>\n",
              "      <td>16.400000</td>\n",
              "      <td>2</td>\n",
              "    </tr>\n",
              "    <tr>\n",
              "      <th>7</th>\n",
              "      <td>1094.0</td>\n",
              "      <td>2966.800049</td>\n",
              "      <td>16.299999</td>\n",
              "      <td>2</td>\n",
              "    </tr>\n",
              "    <tr>\n",
              "      <th>8</th>\n",
              "      <td>1237.0</td>\n",
              "      <td>4570.200195</td>\n",
              "      <td>10.500000</td>\n",
              "      <td>2</td>\n",
              "    </tr>\n",
              "    <tr>\n",
              "      <th>9</th>\n",
              "      <td>833.0</td>\n",
              "      <td>2830.000000</td>\n",
              "      <td>23.500000</td>\n",
              "      <td>2</td>\n",
              "    </tr>\n",
              "  </tbody>\n",
              "</table>\n",
              "</div>"
            ],
            "text/plain": [
              "   salary         sales        roe  industry\n",
              "0  1095.0  27595.000000  14.100000         1\n",
              "1  1368.0   9958.000000  10.900000         1\n",
              "2  1368.0   6125.899902  23.500000         1\n",
              "3   578.0  16246.000000   5.900000         1\n",
              "4  1368.0  27595.000000  13.800000         1\n",
              "5  1145.0  27595.000000  20.000000         2\n",
              "6  1078.0   2266.699951  16.400000         2\n",
              "7  1094.0   2966.800049  16.299999         2\n",
              "8  1237.0   4570.200195  10.500000         2\n",
              "9   833.0   2830.000000  23.500000         2"
            ]
          },
          "metadata": {},
          "execution_count": 139
        }
      ]
    },
    {
      "cell_type": "code",
      "metadata": {
        "id": "8CyICx4N0ZON"
      },
      "source": [
        "g = data.fillna(data['salary'].mean())"
      ],
      "execution_count": 140,
      "outputs": []
    },
    {
      "cell_type": "code",
      "metadata": {
        "colab": {
          "base_uri": "https://localhost:8080/",
          "height": 357
        },
        "id": "crRsagaD0jwZ",
        "outputId": "f620fb47-b919-4707-d95d-91aaff4837df"
      },
      "source": [
        "g"
      ],
      "execution_count": 142,
      "outputs": [
        {
          "output_type": "execute_result",
          "data": {
            "text/html": [
              "<div>\n",
              "<style scoped>\n",
              "    .dataframe tbody tr th:only-of-type {\n",
              "        vertical-align: middle;\n",
              "    }\n",
              "\n",
              "    .dataframe tbody tr th {\n",
              "        vertical-align: top;\n",
              "    }\n",
              "\n",
              "    .dataframe thead th {\n",
              "        text-align: right;\n",
              "    }\n",
              "</style>\n",
              "<table border=\"1\" class=\"dataframe\">\n",
              "  <thead>\n",
              "    <tr style=\"text-align: right;\">\n",
              "      <th></th>\n",
              "      <th>salary</th>\n",
              "      <th>sales</th>\n",
              "      <th>roe</th>\n",
              "      <th>industry</th>\n",
              "    </tr>\n",
              "  </thead>\n",
              "  <tbody>\n",
              "    <tr>\n",
              "      <th>0</th>\n",
              "      <td>1095.0</td>\n",
              "      <td>27595.000000</td>\n",
              "      <td>14.100000</td>\n",
              "      <td>1</td>\n",
              "    </tr>\n",
              "    <tr>\n",
              "      <th>1</th>\n",
              "      <td>1053.5</td>\n",
              "      <td>9958.000000</td>\n",
              "      <td>10.900000</td>\n",
              "      <td>1</td>\n",
              "    </tr>\n",
              "    <tr>\n",
              "      <th>2</th>\n",
              "      <td>1053.5</td>\n",
              "      <td>6125.899902</td>\n",
              "      <td>23.500000</td>\n",
              "      <td>1</td>\n",
              "    </tr>\n",
              "    <tr>\n",
              "      <th>3</th>\n",
              "      <td>578.0</td>\n",
              "      <td>16246.000000</td>\n",
              "      <td>5.900000</td>\n",
              "      <td>1</td>\n",
              "    </tr>\n",
              "    <tr>\n",
              "      <th>4</th>\n",
              "      <td>1368.0</td>\n",
              "      <td>1053.500000</td>\n",
              "      <td>13.800000</td>\n",
              "      <td>1</td>\n",
              "    </tr>\n",
              "    <tr>\n",
              "      <th>5</th>\n",
              "      <td>1145.0</td>\n",
              "      <td>1053.500000</td>\n",
              "      <td>20.000000</td>\n",
              "      <td>2</td>\n",
              "    </tr>\n",
              "    <tr>\n",
              "      <th>6</th>\n",
              "      <td>1078.0</td>\n",
              "      <td>2266.699951</td>\n",
              "      <td>16.400000</td>\n",
              "      <td>2</td>\n",
              "    </tr>\n",
              "    <tr>\n",
              "      <th>7</th>\n",
              "      <td>1094.0</td>\n",
              "      <td>2966.800049</td>\n",
              "      <td>16.299999</td>\n",
              "      <td>2</td>\n",
              "    </tr>\n",
              "    <tr>\n",
              "      <th>8</th>\n",
              "      <td>1237.0</td>\n",
              "      <td>4570.200195</td>\n",
              "      <td>10.500000</td>\n",
              "      <td>2</td>\n",
              "    </tr>\n",
              "    <tr>\n",
              "      <th>9</th>\n",
              "      <td>833.0</td>\n",
              "      <td>2830.000000</td>\n",
              "      <td>1053.500000</td>\n",
              "      <td>2</td>\n",
              "    </tr>\n",
              "  </tbody>\n",
              "</table>\n",
              "</div>"
            ],
            "text/plain": [
              "   salary         sales          roe  industry\n",
              "0  1095.0  27595.000000    14.100000         1\n",
              "1  1053.5   9958.000000    10.900000         1\n",
              "2  1053.5   6125.899902    23.500000         1\n",
              "3   578.0  16246.000000     5.900000         1\n",
              "4  1368.0   1053.500000    13.800000         1\n",
              "5  1145.0   1053.500000    20.000000         2\n",
              "6  1078.0   2266.699951    16.400000         2\n",
              "7  1094.0   2966.800049    16.299999         2\n",
              "8  1237.0   4570.200195    10.500000         2\n",
              "9   833.0   2830.000000  1053.500000         2"
            ]
          },
          "metadata": {},
          "execution_count": 142
        }
      ]
    },
    {
      "cell_type": "code",
      "metadata": {
        "id": "wmsleHQv1L-8"
      },
      "source": [
        "data2= data.copy()"
      ],
      "execution_count": 143,
      "outputs": []
    },
    {
      "cell_type": "code",
      "metadata": {
        "colab": {
          "base_uri": "https://localhost:8080/",
          "height": 357
        },
        "id": "OPVvPrce0kmS",
        "outputId": "6c7858dd-afd1-416b-98ef-b5bb73fc44b0"
      },
      "source": [
        "data2"
      ],
      "execution_count": 144,
      "outputs": [
        {
          "output_type": "execute_result",
          "data": {
            "text/html": [
              "<div>\n",
              "<style scoped>\n",
              "    .dataframe tbody tr th:only-of-type {\n",
              "        vertical-align: middle;\n",
              "    }\n",
              "\n",
              "    .dataframe tbody tr th {\n",
              "        vertical-align: top;\n",
              "    }\n",
              "\n",
              "    .dataframe thead th {\n",
              "        text-align: right;\n",
              "    }\n",
              "</style>\n",
              "<table border=\"1\" class=\"dataframe\">\n",
              "  <thead>\n",
              "    <tr style=\"text-align: right;\">\n",
              "      <th></th>\n",
              "      <th>salary</th>\n",
              "      <th>sales</th>\n",
              "      <th>roe</th>\n",
              "      <th>industry</th>\n",
              "    </tr>\n",
              "  </thead>\n",
              "  <tbody>\n",
              "    <tr>\n",
              "      <th>0</th>\n",
              "      <td>1095.0</td>\n",
              "      <td>27595.000000</td>\n",
              "      <td>14.100000</td>\n",
              "      <td>1</td>\n",
              "    </tr>\n",
              "    <tr>\n",
              "      <th>1</th>\n",
              "      <td>NaN</td>\n",
              "      <td>9958.000000</td>\n",
              "      <td>10.900000</td>\n",
              "      <td>1</td>\n",
              "    </tr>\n",
              "    <tr>\n",
              "      <th>2</th>\n",
              "      <td>NaN</td>\n",
              "      <td>6125.899902</td>\n",
              "      <td>23.500000</td>\n",
              "      <td>1</td>\n",
              "    </tr>\n",
              "    <tr>\n",
              "      <th>3</th>\n",
              "      <td>578.0</td>\n",
              "      <td>16246.000000</td>\n",
              "      <td>5.900000</td>\n",
              "      <td>1</td>\n",
              "    </tr>\n",
              "    <tr>\n",
              "      <th>4</th>\n",
              "      <td>1368.0</td>\n",
              "      <td>NaN</td>\n",
              "      <td>13.800000</td>\n",
              "      <td>1</td>\n",
              "    </tr>\n",
              "    <tr>\n",
              "      <th>5</th>\n",
              "      <td>1145.0</td>\n",
              "      <td>NaN</td>\n",
              "      <td>20.000000</td>\n",
              "      <td>2</td>\n",
              "    </tr>\n",
              "    <tr>\n",
              "      <th>6</th>\n",
              "      <td>1078.0</td>\n",
              "      <td>2266.699951</td>\n",
              "      <td>16.400000</td>\n",
              "      <td>2</td>\n",
              "    </tr>\n",
              "    <tr>\n",
              "      <th>7</th>\n",
              "      <td>1094.0</td>\n",
              "      <td>2966.800049</td>\n",
              "      <td>16.299999</td>\n",
              "      <td>2</td>\n",
              "    </tr>\n",
              "    <tr>\n",
              "      <th>8</th>\n",
              "      <td>1237.0</td>\n",
              "      <td>4570.200195</td>\n",
              "      <td>10.500000</td>\n",
              "      <td>2</td>\n",
              "    </tr>\n",
              "    <tr>\n",
              "      <th>9</th>\n",
              "      <td>833.0</td>\n",
              "      <td>2830.000000</td>\n",
              "      <td>NaN</td>\n",
              "      <td>2</td>\n",
              "    </tr>\n",
              "  </tbody>\n",
              "</table>\n",
              "</div>"
            ],
            "text/plain": [
              "   salary         sales        roe  industry\n",
              "0  1095.0  27595.000000  14.100000         1\n",
              "1     NaN   9958.000000  10.900000         1\n",
              "2     NaN   6125.899902  23.500000         1\n",
              "3   578.0  16246.000000   5.900000         1\n",
              "4  1368.0           NaN  13.800000         1\n",
              "5  1145.0           NaN  20.000000         2\n",
              "6  1078.0   2266.699951  16.400000         2\n",
              "7  1094.0   2966.800049  16.299999         2\n",
              "8  1237.0   4570.200195  10.500000         2\n",
              "9   833.0   2830.000000        NaN         2"
            ]
          },
          "metadata": {},
          "execution_count": 144
        }
      ]
    },
    {
      "cell_type": "code",
      "metadata": {
        "id": "nFtks6zz1UaA"
      },
      "source": [
        "data2['new'] = np.where(data2['salary'].notnull(), data2['salary'], data2['sales'])"
      ],
      "execution_count": 147,
      "outputs": []
    },
    {
      "cell_type": "code",
      "metadata": {
        "colab": {
          "base_uri": "https://localhost:8080/",
          "height": 357
        },
        "id": "ikWljNoR1PIM",
        "outputId": "4deb0c8b-61b2-4e15-80d5-8b14e00133ef"
      },
      "source": [
        "data2"
      ],
      "execution_count": 151,
      "outputs": [
        {
          "output_type": "execute_result",
          "data": {
            "text/html": [
              "<div>\n",
              "<style scoped>\n",
              "    .dataframe tbody tr th:only-of-type {\n",
              "        vertical-align: middle;\n",
              "    }\n",
              "\n",
              "    .dataframe tbody tr th {\n",
              "        vertical-align: top;\n",
              "    }\n",
              "\n",
              "    .dataframe thead th {\n",
              "        text-align: right;\n",
              "    }\n",
              "</style>\n",
              "<table border=\"1\" class=\"dataframe\">\n",
              "  <thead>\n",
              "    <tr style=\"text-align: right;\">\n",
              "      <th></th>\n",
              "      <th>salary</th>\n",
              "      <th>sales</th>\n",
              "      <th>roe</th>\n",
              "      <th>industry</th>\n",
              "      <th>new</th>\n",
              "    </tr>\n",
              "  </thead>\n",
              "  <tbody>\n",
              "    <tr>\n",
              "      <th>0</th>\n",
              "      <td>1095.0</td>\n",
              "      <td>27595.000000</td>\n",
              "      <td>14.100000</td>\n",
              "      <td>1</td>\n",
              "      <td>1095.000000</td>\n",
              "    </tr>\n",
              "    <tr>\n",
              "      <th>1</th>\n",
              "      <td>NaN</td>\n",
              "      <td>9958.000000</td>\n",
              "      <td>10.900000</td>\n",
              "      <td>1</td>\n",
              "      <td>9958.000000</td>\n",
              "    </tr>\n",
              "    <tr>\n",
              "      <th>2</th>\n",
              "      <td>NaN</td>\n",
              "      <td>6125.899902</td>\n",
              "      <td>23.500000</td>\n",
              "      <td>1</td>\n",
              "      <td>6125.899902</td>\n",
              "    </tr>\n",
              "    <tr>\n",
              "      <th>3</th>\n",
              "      <td>578.0</td>\n",
              "      <td>16246.000000</td>\n",
              "      <td>5.900000</td>\n",
              "      <td>1</td>\n",
              "      <td>578.000000</td>\n",
              "    </tr>\n",
              "    <tr>\n",
              "      <th>4</th>\n",
              "      <td>1368.0</td>\n",
              "      <td>NaN</td>\n",
              "      <td>13.800000</td>\n",
              "      <td>1</td>\n",
              "      <td>1368.000000</td>\n",
              "    </tr>\n",
              "    <tr>\n",
              "      <th>5</th>\n",
              "      <td>1145.0</td>\n",
              "      <td>NaN</td>\n",
              "      <td>20.000000</td>\n",
              "      <td>2</td>\n",
              "      <td>1145.000000</td>\n",
              "    </tr>\n",
              "    <tr>\n",
              "      <th>6</th>\n",
              "      <td>1078.0</td>\n",
              "      <td>2266.699951</td>\n",
              "      <td>16.400000</td>\n",
              "      <td>2</td>\n",
              "      <td>1078.000000</td>\n",
              "    </tr>\n",
              "    <tr>\n",
              "      <th>7</th>\n",
              "      <td>1094.0</td>\n",
              "      <td>2966.800049</td>\n",
              "      <td>16.299999</td>\n",
              "      <td>2</td>\n",
              "      <td>1094.000000</td>\n",
              "    </tr>\n",
              "    <tr>\n",
              "      <th>8</th>\n",
              "      <td>1237.0</td>\n",
              "      <td>4570.200195</td>\n",
              "      <td>10.500000</td>\n",
              "      <td>2</td>\n",
              "      <td>1237.000000</td>\n",
              "    </tr>\n",
              "    <tr>\n",
              "      <th>9</th>\n",
              "      <td>833.0</td>\n",
              "      <td>2830.000000</td>\n",
              "      <td>NaN</td>\n",
              "      <td>2</td>\n",
              "      <td>833.000000</td>\n",
              "    </tr>\n",
              "  </tbody>\n",
              "</table>\n",
              "</div>"
            ],
            "text/plain": [
              "   salary         sales        roe  industry          new\n",
              "0  1095.0  27595.000000  14.100000         1  1095.000000\n",
              "1     NaN   9958.000000  10.900000         1  9958.000000\n",
              "2     NaN   6125.899902  23.500000         1  6125.899902\n",
              "3   578.0  16246.000000   5.900000         1   578.000000\n",
              "4  1368.0           NaN  13.800000         1  1368.000000\n",
              "5  1145.0           NaN  20.000000         2  1145.000000\n",
              "6  1078.0   2266.699951  16.400000         2  1078.000000\n",
              "7  1094.0   2966.800049  16.299999         2  1094.000000\n",
              "8  1237.0   4570.200195  10.500000         2  1237.000000\n",
              "9   833.0   2830.000000        NaN         2   833.000000"
            ]
          },
          "metadata": {},
          "execution_count": 151
        }
      ]
    },
    {
      "cell_type": "code",
      "metadata": {
        "colab": {
          "base_uri": "https://localhost:8080/",
          "height": 142
        },
        "id": "QIBEq5LA1prO",
        "outputId": "f8f4a9c4-4ab3-4d41-ec42-a8ea0da6d610"
      },
      "source": [
        "data.groupby('industry').mean()"
      ],
      "execution_count": 149,
      "outputs": [
        {
          "output_type": "execute_result",
          "data": {
            "text/html": [
              "<div>\n",
              "<style scoped>\n",
              "    .dataframe tbody tr th:only-of-type {\n",
              "        vertical-align: middle;\n",
              "    }\n",
              "\n",
              "    .dataframe tbody tr th {\n",
              "        vertical-align: top;\n",
              "    }\n",
              "\n",
              "    .dataframe thead th {\n",
              "        text-align: right;\n",
              "    }\n",
              "</style>\n",
              "<table border=\"1\" class=\"dataframe\">\n",
              "  <thead>\n",
              "    <tr style=\"text-align: right;\">\n",
              "      <th></th>\n",
              "      <th>salary</th>\n",
              "      <th>sales</th>\n",
              "      <th>roe</th>\n",
              "    </tr>\n",
              "    <tr>\n",
              "      <th>industry</th>\n",
              "      <th></th>\n",
              "      <th></th>\n",
              "      <th></th>\n",
              "    </tr>\n",
              "  </thead>\n",
              "  <tbody>\n",
              "    <tr>\n",
              "      <th>1</th>\n",
              "      <td>1013.666667</td>\n",
              "      <td>14981.224975</td>\n",
              "      <td>13.64</td>\n",
              "    </tr>\n",
              "    <tr>\n",
              "      <th>2</th>\n",
              "      <td>1077.400000</td>\n",
              "      <td>3158.425049</td>\n",
              "      <td>15.80</td>\n",
              "    </tr>\n",
              "  </tbody>\n",
              "</table>\n",
              "</div>"
            ],
            "text/plain": [
              "               salary         sales    roe\n",
              "industry                                  \n",
              "1         1013.666667  14981.224975  13.64\n",
              "2         1077.400000   3158.425049  15.80"
            ]
          },
          "metadata": {},
          "execution_count": 149
        }
      ]
    },
    {
      "cell_type": "code",
      "metadata": {
        "id": "7qlhwPaM2d3e"
      },
      "source": [
        "#교재 95 페이지에 람다 쓰는 부분 공부"
      ],
      "execution_count": 154,
      "outputs": []
    },
    {
      "cell_type": "markdown",
      "metadata": {
        "id": "AOqJxlhe2uxQ"
      },
      "source": [
        "#실전예제"
      ]
    },
    {
      "cell_type": "code",
      "metadata": {
        "id": "08eqCu8z2AiI"
      },
      "source": [
        "data = pd.read_csv('house_raw.csv')"
      ],
      "execution_count": 155,
      "outputs": []
    },
    {
      "cell_type": "code",
      "metadata": {
        "colab": {
          "base_uri": "https://localhost:8080/",
          "height": 203
        },
        "id": "myH3tP8O3A84",
        "outputId": "499067b7-2a49-4fba-ff99-b9a468c5a0df"
      },
      "source": [
        "data.head()"
      ],
      "execution_count": 156,
      "outputs": [
        {
          "output_type": "execute_result",
          "data": {
            "text/html": [
              "<div>\n",
              "<style scoped>\n",
              "    .dataframe tbody tr th:only-of-type {\n",
              "        vertical-align: middle;\n",
              "    }\n",
              "\n",
              "    .dataframe tbody tr th {\n",
              "        vertical-align: top;\n",
              "    }\n",
              "\n",
              "    .dataframe thead th {\n",
              "        text-align: right;\n",
              "    }\n",
              "</style>\n",
              "<table border=\"1\" class=\"dataframe\">\n",
              "  <thead>\n",
              "    <tr style=\"text-align: right;\">\n",
              "      <th></th>\n",
              "      <th>housing_age</th>\n",
              "      <th>income</th>\n",
              "      <th>bedrooms</th>\n",
              "      <th>households</th>\n",
              "      <th>rooms</th>\n",
              "      <th>house_value</th>\n",
              "    </tr>\n",
              "  </thead>\n",
              "  <tbody>\n",
              "    <tr>\n",
              "      <th>0</th>\n",
              "      <td>23</td>\n",
              "      <td>6.7770</td>\n",
              "      <td>0.141112</td>\n",
              "      <td>2.442244</td>\n",
              "      <td>8.103960</td>\n",
              "      <td>500000</td>\n",
              "    </tr>\n",
              "    <tr>\n",
              "      <th>1</th>\n",
              "      <td>49</td>\n",
              "      <td>6.0199</td>\n",
              "      <td>0.160984</td>\n",
              "      <td>2.726688</td>\n",
              "      <td>5.752412</td>\n",
              "      <td>500000</td>\n",
              "    </tr>\n",
              "    <tr>\n",
              "      <th>2</th>\n",
              "      <td>35</td>\n",
              "      <td>5.1155</td>\n",
              "      <td>0.249061</td>\n",
              "      <td>1.902676</td>\n",
              "      <td>3.888078</td>\n",
              "      <td>500000</td>\n",
              "    </tr>\n",
              "    <tr>\n",
              "      <th>3</th>\n",
              "      <td>32</td>\n",
              "      <td>4.7109</td>\n",
              "      <td>0.231383</td>\n",
              "      <td>1.913669</td>\n",
              "      <td>4.508393</td>\n",
              "      <td>500000</td>\n",
              "    </tr>\n",
              "    <tr>\n",
              "      <th>4</th>\n",
              "      <td>21</td>\n",
              "      <td>4.5625</td>\n",
              "      <td>0.255583</td>\n",
              "      <td>3.092664</td>\n",
              "      <td>4.667954</td>\n",
              "      <td>500000</td>\n",
              "    </tr>\n",
              "  </tbody>\n",
              "</table>\n",
              "</div>"
            ],
            "text/plain": [
              "   housing_age  income  bedrooms  households     rooms  house_value\n",
              "0           23  6.7770  0.141112    2.442244  8.103960       500000\n",
              "1           49  6.0199  0.160984    2.726688  5.752412       500000\n",
              "2           35  5.1155  0.249061    1.902676  3.888078       500000\n",
              "3           32  4.7109  0.231383    1.913669  4.508393       500000\n",
              "4           21  4.5625  0.255583    3.092664  4.667954       500000"
            ]
          },
          "metadata": {},
          "execution_count": 156
        }
      ]
    },
    {
      "cell_type": "code",
      "metadata": {
        "colab": {
          "base_uri": "https://localhost:8080/",
          "height": 1000
        },
        "id": "vP0wvKy23CPP",
        "outputId": "b715b590-4c2e-47c4-d9f8-c6335fa96614"
      },
      "source": [
        "#data.hist(bins=50, figsize=(10.20))\n",
        "data.hist(bins=50, figsize=(10,20))"
      ],
      "execution_count": 163,
      "outputs": [
        {
          "output_type": "execute_result",
          "data": {
            "text/plain": [
              "array([[<matplotlib.axes._subplots.AxesSubplot object at 0x7f041846fa90>,\n",
              "        <matplotlib.axes._subplots.AxesSubplot object at 0x7f0417fcfd10>],\n",
              "       [<matplotlib.axes._subplots.AxesSubplot object at 0x7f0417fbf390>,\n",
              "        <matplotlib.axes._subplots.AxesSubplot object at 0x7f0417f73910>],\n",
              "       [<matplotlib.axes._subplots.AxesSubplot object at 0x7f0417f27e90>,\n",
              "        <matplotlib.axes._subplots.AxesSubplot object at 0x7f0417ee8450>]],\n",
              "      dtype=object)"
            ]
          },
          "metadata": {},
          "execution_count": 163
        },
        {
          "output_type": "display_data",
          "data": {
            "image/png": "[encoded data removed]",
            "text/plain": [
              "<Figure size 720x1440 with 6 Axes>"
            ]
          },
          "metadata": {
            "needs_background": "light"
          }
        }
      ]
    },
    {
      "cell_type": "code",
      "metadata": {
        "colab": {
          "base_uri": "https://localhost:8080/",
          "height": 295
        },
        "id": "JVlNW7v333Aq",
        "outputId": "4e94eeb5-3cdb-4d04-d0e8-14775a71f70a"
      },
      "source": [
        "data.describe()"
      ],
      "execution_count": 164,
      "outputs": [
        {
          "output_type": "execute_result",
          "data": {
            "text/html": [
              "<div>\n",
              "<style scoped>\n",
              "    .dataframe tbody tr th:only-of-type {\n",
              "        vertical-align: middle;\n",
              "    }\n",
              "\n",
              "    .dataframe tbody tr th {\n",
              "        vertical-align: top;\n",
              "    }\n",
              "\n",
              "    .dataframe thead th {\n",
              "        text-align: right;\n",
              "    }\n",
              "</style>\n",
              "<table border=\"1\" class=\"dataframe\">\n",
              "  <thead>\n",
              "    <tr style=\"text-align: right;\">\n",
              "      <th></th>\n",
              "      <th>housing_age</th>\n",
              "      <th>income</th>\n",
              "      <th>bedrooms</th>\n",
              "      <th>households</th>\n",
              "      <th>rooms</th>\n",
              "      <th>house_value</th>\n",
              "    </tr>\n",
              "  </thead>\n",
              "  <tbody>\n",
              "    <tr>\n",
              "      <th>count</th>\n",
              "      <td>17914.000000</td>\n",
              "      <td>17914.000000</td>\n",
              "      <td>17914.000000</td>\n",
              "      <td>17914.000000</td>\n",
              "      <td>17914.000000</td>\n",
              "      <td>17914.000000</td>\n",
              "    </tr>\n",
              "    <tr>\n",
              "      <th>mean</th>\n",
              "      <td>27.307022</td>\n",
              "      <td>3.664086</td>\n",
              "      <td>0.214309</td>\n",
              "      <td>3.007667</td>\n",
              "      <td>5.370672</td>\n",
              "      <td>188692.620130</td>\n",
              "    </tr>\n",
              "    <tr>\n",
              "      <th>std</th>\n",
              "      <td>11.297204</td>\n",
              "      <td>1.526694</td>\n",
              "      <td>0.055251</td>\n",
              "      <td>4.579534</td>\n",
              "      <td>2.332776</td>\n",
              "      <td>95318.621139</td>\n",
              "    </tr>\n",
              "    <tr>\n",
              "      <th>min</th>\n",
              "      <td>1.000000</td>\n",
              "      <td>0.499900</td>\n",
              "      <td>0.100000</td>\n",
              "      <td>0.692308</td>\n",
              "      <td>0.846154</td>\n",
              "      <td>14999.000000</td>\n",
              "    </tr>\n",
              "    <tr>\n",
              "      <th>25%</th>\n",
              "      <td>18.000000</td>\n",
              "      <td>2.526125</td>\n",
              "      <td>0.177544</td>\n",
              "      <td>2.467031</td>\n",
              "      <td>4.426115</td>\n",
              "      <td>114325.000000</td>\n",
              "    </tr>\n",
              "    <tr>\n",
              "      <th>50%</th>\n",
              "      <td>28.000000</td>\n",
              "      <td>3.447800</td>\n",
              "      <td>0.204256</td>\n",
              "      <td>2.853499</td>\n",
              "      <td>5.199222</td>\n",
              "      <td>170800.000000</td>\n",
              "    </tr>\n",
              "    <tr>\n",
              "      <th>75%</th>\n",
              "      <td>36.000000</td>\n",
              "      <td>4.583300</td>\n",
              "      <td>0.240476</td>\n",
              "      <td>3.318866</td>\n",
              "      <td>5.970848</td>\n",
              "      <td>242100.000000</td>\n",
              "    </tr>\n",
              "    <tr>\n",
              "      <th>max</th>\n",
              "      <td>51.000000</td>\n",
              "      <td>9.905500</td>\n",
              "      <td>1.000000</td>\n",
              "      <td>599.714286</td>\n",
              "      <td>132.533333</td>\n",
              "      <td>500000.000000</td>\n",
              "    </tr>\n",
              "  </tbody>\n",
              "</table>\n",
              "</div>"
            ],
            "text/plain": [
              "        housing_age        income  ...         rooms    house_value\n",
              "count  17914.000000  17914.000000  ...  17914.000000   17914.000000\n",
              "mean      27.307022      3.664086  ...      5.370672  188692.620130\n",
              "std       11.297204      1.526694  ...      2.332776   95318.621139\n",
              "min        1.000000      0.499900  ...      0.846154   14999.000000\n",
              "25%       18.000000      2.526125  ...      4.426115  114325.000000\n",
              "50%       28.000000      3.447800  ...      5.199222  170800.000000\n",
              "75%       36.000000      4.583300  ...      5.970848  242100.000000\n",
              "max       51.000000      9.905500  ...    132.533333  500000.000000\n",
              "\n",
              "[8 rows x 6 columns]"
            ]
          },
          "metadata": {},
          "execution_count": 164
        }
      ]
    },
    {
      "cell_type": "code",
      "metadata": {
        "id": "4jwBa3rc3IZl"
      },
      "source": [
        "IQR1_households = data['households'].quantile(0.25)\n",
        "IQR3_households = data['households'].quantile(0.75)\n",
        "IQR_households = IQR3_households - IQR1_households"
      ],
      "execution_count": 169,
      "outputs": []
    },
    {
      "cell_type": "code",
      "metadata": {
        "id": "AFiNLXTL4Moa"
      },
      "source": [
        "IQR1_rooms = data['rooms'].quantile(0.25)\n",
        "IQR3_rooms = data['rooms'].quantile(0.75)\n",
        "IQR_rooms = IQR3_rooms - IQR1_rooms"
      ],
      "execution_count": 170,
      "outputs": []
    },
    {
      "cell_type": "code",
      "metadata": {
        "id": "ywlcflMK4PZB"
      },
      "source": [
        "data_1 = data[\n",
        "        (data['households']  < (IQR3_households + 1.5* IQR_households)) &\n",
        "        (data['households']  > (IQR1_households - 1.5* IQR_households)) &\n",
        "        (data['rooms'] < (IQR3_rooms + 1.5* IQR_rooms)) &\n",
        "        (data['rooms'] > (IQR1_rooms - 1.5* IQR_rooms))\n",
        "]"
      ],
      "execution_count": 192,
      "outputs": []
    },
    {
      "cell_type": "code",
      "metadata": {
        "colab": {
          "base_uri": "https://localhost:8080/",
          "height": 706
        },
        "id": "ZZP-HSQH5b0b",
        "outputId": "8210b67c-3fbd-49d3-9562-e004946e6aec"
      },
      "source": [
        "data_1.hist(bins=50, figsize=(20,10))"
      ],
      "execution_count": 193,
      "outputs": [
        {
          "output_type": "execute_result",
          "data": {
            "text/plain": [
              "array([[<matplotlib.axes._subplots.AxesSubplot object at 0x7f0415210810>,\n",
              "        <matplotlib.axes._subplots.AxesSubplot object at 0x7f0415230350>],\n",
              "       [<matplotlib.axes._subplots.AxesSubplot object at 0x7f04152417d0>,\n",
              "        <matplotlib.axes._subplots.AxesSubplot object at 0x7f04151ead50>],\n",
              "       [<matplotlib.axes._subplots.AxesSubplot object at 0x7f04151ab310>,\n",
              "        <matplotlib.axes._subplots.AxesSubplot object at 0x7f0415160850>]],\n",
              "      dtype=object)"
            ]
          },
          "metadata": {},
          "execution_count": 193
        },
        {
          "output_type": "display_data",
          "data": {
            "image/png": "[encoded data removed]",
            "text/plain": [
              "<Figure size 1440x720 with 6 Axes>"
            ]
          },
          "metadata": {
            "needs_background": "light"
          }
        }
      ]
    },
    {
      "cell_type": "code",
      "metadata": {
        "colab": {
          "base_uri": "https://localhost:8080/"
        },
        "id": "Q4timshv5jG4",
        "outputId": "1c514973-947c-41bb-d7a3-c164bb7bb0b8"
      },
      "source": [
        "data_1['bedrooms'] = np.log(data_1['bedrooms'])\n",
        "data_1['house_value'] = np.sqrt(data_1['house_value'])\n",
        "data_1['income'] = np.log(data_1['income'])"
      ],
      "execution_count": 194,
      "outputs": [
        {
          "output_type": "stream",
          "name": "stderr",
          "text": [
            "/usr/local/lib/python3.7/dist-packages/ipykernel_launcher.py:1: SettingWithCopyWarning: \n",
            "A value is trying to be set on a copy of a slice from a DataFrame.\n",
            "Try using .loc[row_indexer,col_indexer] = value instead\n",
            "\n",
            "See the caveats in the documentation: https://pandas.pydata.org/pandas-docs/stable/user_guide/indexing.html#returning-a-view-versus-a-copy\n",
            "  \"\"\"Entry point for launching an IPython kernel.\n",
            "/usr/local/lib/python3.7/dist-packages/ipykernel_launcher.py:2: SettingWithCopyWarning: \n",
            "A value is trying to be set on a copy of a slice from a DataFrame.\n",
            "Try using .loc[row_indexer,col_indexer] = value instead\n",
            "\n",
            "See the caveats in the documentation: https://pandas.pydata.org/pandas-docs/stable/user_guide/indexing.html#returning-a-view-versus-a-copy\n",
            "  \n",
            "/usr/local/lib/python3.7/dist-packages/ipykernel_launcher.py:3: SettingWithCopyWarning: \n",
            "A value is trying to be set on a copy of a slice from a DataFrame.\n",
            "Try using .loc[row_indexer,col_indexer] = value instead\n",
            "\n",
            "See the caveats in the documentation: https://pandas.pydata.org/pandas-docs/stable/user_guide/indexing.html#returning-a-view-versus-a-copy\n",
            "  This is separate from the ipykernel package so we can avoid doing imports until\n"
          ]
        }
      ]
    },
    {
      "cell_type": "code",
      "metadata": {
        "colab": {
          "base_uri": "https://localhost:8080/",
          "height": 706
        },
        "id": "nSds2ifr5wbw",
        "outputId": "1c6432de-7eb2-4d49-97c3-52b1bd367aea"
      },
      "source": [
        "data_1.hist(bins=50, figsize=(20,10))"
      ],
      "execution_count": 195,
      "outputs": [
        {
          "output_type": "execute_result",
          "data": {
            "text/plain": [
              "array([[<matplotlib.axes._subplots.AxesSubplot object at 0x7f0414c49890>,\n",
              "        <matplotlib.axes._subplots.AxesSubplot object at 0x7f0414c647d0>],\n",
              "       [<matplotlib.axes._subplots.AxesSubplot object at 0x7f0414c76c90>,\n",
              "        <matplotlib.axes._subplots.AxesSubplot object at 0x7f0414c2e250>],\n",
              "       [<matplotlib.axes._subplots.AxesSubplot object at 0x7f0414be17d0>,\n",
              "        <matplotlib.axes._subplots.AxesSubplot object at 0x7f0414b97d50>]],\n",
              "      dtype=object)"
            ]
          },
          "metadata": {},
          "execution_count": 195
        },
        {
          "output_type": "display_data",
          "data": {
            "image/png": "[encoded data removed]",
            "text/plain": [
              "<Figure size 1440x720 with 6 Axes>"
            ]
          },
          "metadata": {
            "needs_background": "light"
          }
        }
      ]
    },
    {
      "cell_type": "code",
      "metadata": {
        "id": "MzZpICLz51f-"
      },
      "source": [
        "from sklearn.preprocessing import MinMaxScaler\n",
        "mms= MinMaxScaler()"
      ],
      "execution_count": 196,
      "outputs": []
    },
    {
      "cell_type": "code",
      "metadata": {
        "colab": {
          "base_uri": "https://localhost:8080/"
        },
        "id": "wR6Z7HCi65u1",
        "outputId": "5171b90f-ee81-49b5-b520-927387bfa990"
      },
      "source": [
        "mms.fit(data_1)"
      ],
      "execution_count": 197,
      "outputs": [
        {
          "output_type": "execute_result",
          "data": {
            "text/plain": [
              "MinMaxScaler(copy=True, feature_range=(0, 1))"
            ]
          },
          "metadata": {},
          "execution_count": 197
        }
      ]
    },
    {
      "cell_type": "code",
      "metadata": {
        "id": "GMSKLTR968N0"
      },
      "source": [
        "data_t = mms.transform(data_1)"
      ],
      "execution_count": 198,
      "outputs": []
    },
    {
      "cell_type": "code",
      "metadata": {
        "id": "3eW4O29A7SuE"
      },
      "source": [
        "names = data_1.columns"
      ],
      "execution_count": 200,
      "outputs": []
    },
    {
      "cell_type": "code",
      "metadata": {
        "id": "PJqihJTU7Bjo"
      },
      "source": [
        "data_t_pd = pd.DataFrame( data = data_t, columns = names )"
      ],
      "execution_count": 201,
      "outputs": []
    },
    {
      "cell_type": "code",
      "metadata": {
        "colab": {
          "base_uri": "https://localhost:8080/",
          "height": 295
        },
        "id": "cT3GQdgH7C8t",
        "outputId": "c6ccd97e-db37-4ffe-a15e-d5457699d0ca"
      },
      "source": [
        "data_t_pd.describe()"
      ],
      "execution_count": 203,
      "outputs": [
        {
          "output_type": "execute_result",
          "data": {
            "text/html": [
              "<div>\n",
              "<style scoped>\n",
              "    .dataframe tbody tr th:only-of-type {\n",
              "        vertical-align: middle;\n",
              "    }\n",
              "\n",
              "    .dataframe tbody tr th {\n",
              "        vertical-align: top;\n",
              "    }\n",
              "\n",
              "    .dataframe thead th {\n",
              "        text-align: right;\n",
              "    }\n",
              "</style>\n",
              "<table border=\"1\" class=\"dataframe\">\n",
              "  <thead>\n",
              "    <tr style=\"text-align: right;\">\n",
              "      <th></th>\n",
              "      <th>housing_age</th>\n",
              "      <th>income</th>\n",
              "      <th>bedrooms</th>\n",
              "      <th>households</th>\n",
              "      <th>rooms</th>\n",
              "      <th>house_value</th>\n",
              "    </tr>\n",
              "  </thead>\n",
              "  <tbody>\n",
              "    <tr>\n",
              "      <th>count</th>\n",
              "      <td>16930.000000</td>\n",
              "      <td>16930.000000</td>\n",
              "      <td>16930.000000</td>\n",
              "      <td>16930.000000</td>\n",
              "      <td>16930.000000</td>\n",
              "      <td>16930.000000</td>\n",
              "    </tr>\n",
              "    <tr>\n",
              "      <th>mean</th>\n",
              "      <td>0.528397</td>\n",
              "      <td>0.640798</td>\n",
              "      <td>0.361586</td>\n",
              "      <td>0.494081</td>\n",
              "      <td>0.501407</td>\n",
              "      <td>0.513121</td>\n",
              "    </tr>\n",
              "    <tr>\n",
              "      <th>std</th>\n",
              "      <td>0.225758</td>\n",
              "      <td>0.144807</td>\n",
              "      <td>0.138831</td>\n",
              "      <td>0.185597</td>\n",
              "      <td>0.176289</td>\n",
              "      <td>0.185188</td>\n",
              "    </tr>\n",
              "    <tr>\n",
              "      <th>min</th>\n",
              "      <td>0.000000</td>\n",
              "      <td>0.000000</td>\n",
              "      <td>0.000000</td>\n",
              "      <td>0.000000</td>\n",
              "      <td>0.000000</td>\n",
              "      <td>0.000000</td>\n",
              "    </tr>\n",
              "    <tr>\n",
              "      <th>25%</th>\n",
              "      <td>0.340000</td>\n",
              "      <td>0.546059</td>\n",
              "      <td>0.264515</td>\n",
              "      <td>0.367422</td>\n",
              "      <td>0.376685</td>\n",
              "      <td>0.369808</td>\n",
              "    </tr>\n",
              "    <tr>\n",
              "      <th>50%</th>\n",
              "      <td>0.540000</td>\n",
              "      <td>0.651480</td>\n",
              "      <td>0.349948</td>\n",
              "      <td>0.478901</td>\n",
              "      <td>0.498889</td>\n",
              "      <td>0.503395</td>\n",
              "    </tr>\n",
              "    <tr>\n",
              "      <th>75%</th>\n",
              "      <td>0.700000</td>\n",
              "      <td>0.746211</td>\n",
              "      <td>0.449038</td>\n",
              "      <td>0.606391</td>\n",
              "      <td>0.619355</td>\n",
              "      <td>0.636464</td>\n",
              "    </tr>\n",
              "    <tr>\n",
              "      <th>max</th>\n",
              "      <td>1.000000</td>\n",
              "      <td>1.000000</td>\n",
              "      <td>1.000000</td>\n",
              "      <td>1.000000</td>\n",
              "      <td>1.000000</td>\n",
              "      <td>1.000000</td>\n",
              "    </tr>\n",
              "  </tbody>\n",
              "</table>\n",
              "</div>"
            ],
            "text/plain": [
              "        housing_age        income  ...         rooms   house_value\n",
              "count  16930.000000  16930.000000  ...  16930.000000  16930.000000\n",
              "mean       0.528397      0.640798  ...      0.501407      0.513121\n",
              "std        0.225758      0.144807  ...      0.176289      0.185188\n",
              "min        0.000000      0.000000  ...      0.000000      0.000000\n",
              "25%        0.340000      0.546059  ...      0.376685      0.369808\n",
              "50%        0.540000      0.651480  ...      0.498889      0.503395\n",
              "75%        0.700000      0.746211  ...      0.619355      0.636464\n",
              "max        1.000000      1.000000  ...      1.000000      1.000000\n",
              "\n",
              "[8 rows x 6 columns]"
            ]
          },
          "metadata": {},
          "execution_count": 203
        }
      ]
    },
    {
      "cell_type": "code",
      "metadata": {
        "colab": {
          "base_uri": "https://localhost:8080/"
        },
        "id": "wOnO1wBS8DoJ",
        "outputId": "21cf6098-78db-4d54-9bf8-147e7a2fcd55"
      },
      "source": [
        "names"
      ],
      "execution_count": 204,
      "outputs": [
        {
          "output_type": "execute_result",
          "data": {
            "text/plain": [
              "Index(['housing_age', 'income', 'bedrooms', 'households', 'rooms',\n",
              "       'house_value'],\n",
              "      dtype='object')"
            ]
          },
          "metadata": {},
          "execution_count": 204
        }
      ]
    },
    {
      "cell_type": "code",
      "metadata": {
        "id": "E0IoUmuw79Qy"
      },
      "source": [
        "X = data[['housing_age', 'income', 'bedrooms', 'households', 'rooms']]\n",
        "y = data['house_value']\n",
        "X_t = data_t_pd[['housing_age', 'income', 'bedrooms', 'households', 'rooms']]\n",
        "y_t = data_t_pd['house_value']"
      ],
      "execution_count": 206,
      "outputs": []
    },
    {
      "cell_type": "code",
      "metadata": {
        "colab": {
          "base_uri": "https://localhost:8080/"
        },
        "id": "OLOpjdDn7YN6",
        "outputId": "a3970f4e-71d1-448b-9c15-7b544e70e632"
      },
      "source": [
        "from sklearn.ensemble import RandomForestRegressor\n",
        "from sklearn.model_selection import train_test_split\n",
        "lr = RandomForestRegressor()\n",
        "X_train, X_test, y_train, y_test = train_test_split(X,y)\n",
        "lr.fit(X_train, y_train)\n",
        "print(lr.score(X_test,y_test))\n"
      ],
      "execution_count": 211,
      "outputs": [
        {
          "output_type": "stream",
          "name": "stdout",
          "text": [
            "0.6119989612064464\n"
          ]
        }
      ]
    },
    {
      "cell_type": "code",
      "metadata": {
        "colab": {
          "base_uri": "https://localhost:8080/"
        },
        "id": "4JKOXEZr8nho",
        "outputId": "bb72cefb-6eba-4888-d577-c733468f31d9"
      },
      "source": [
        "from sklearn.model_selection import train_test_split\n",
        "lr = RandomForestRegressor()\n",
        "X_train, X_test, y_train, y_test = train_test_split(X_t,y_t)\n",
        "lr.fit(X_train, y_train)\n",
        "print(lr.score(X_test,y_test))\n"
      ],
      "execution_count": 213,
      "outputs": [
        {
          "output_type": "stream",
          "name": "stdout",
          "text": [
            "0.6248865816477083\n"
          ]
        }
      ]
    },
    {
      "cell_type": "code",
      "metadata": {
        "id": "4Vq1pviN88wD"
      },
      "source": [
        ""
      ],
      "execution_count": null,
      "outputs": []
    }
  ]
}